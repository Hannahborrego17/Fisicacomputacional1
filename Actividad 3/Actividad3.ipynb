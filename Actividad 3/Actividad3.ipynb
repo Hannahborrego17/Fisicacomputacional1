{
  "nbformat": 4,
  "nbformat_minor": 0,
  "metadata": {
    "colab": {
      "name": "Actividad3.ipynb",
      "provenance": []
    },
    "kernelspec": {
      "name": "python3",
      "display_name": "Python 3"
    }
  },
  "cells": [
    {
      "cell_type": "markdown",
      "metadata": {
        "id": "60ENBj-5zyX4"
      },
      "source": [
        "Se usa la biblioteca pandas y se explora con ella"
      ]
    },
    {
      "cell_type": "code",
      "metadata": {
        "colab": {
          "base_uri": "https://localhost:8080/",
          "height": 173
        },
        "id": "QePDufnWjp7U",
        "outputId": "650a6358-561e-4a1f-f982-b664791c73ab"
      },
      "source": [
        "import pandas as pd\r\n",
        "\r\n",
        " \r\n",
        "\r\n",
        "# Creamos un DataFrame compra a partir de un diccionario data\r\n",
        "\r\n",
        "data ={'manzanas':[3,2,0,1],'naranjas':[0,3,7,2]}\r\n",
        "\r\n",
        "df_compras = pd.DataFrame(data)\r\n",
        "\r\n",
        "df_compras\r\n",
        " "
      ],
      "execution_count": null,
      "outputs": [
        {
          "output_type": "execute_result",
          "data": {
            "text/html": [
              "<div>\n",
              "<style scoped>\n",
              "    .dataframe tbody tr th:only-of-type {\n",
              "        vertical-align: middle;\n",
              "    }\n",
              "\n",
              "    .dataframe tbody tr th {\n",
              "        vertical-align: top;\n",
              "    }\n",
              "\n",
              "    .dataframe thead th {\n",
              "        text-align: right;\n",
              "    }\n",
              "</style>\n",
              "<table border=\"1\" class=\"dataframe\">\n",
              "  <thead>\n",
              "    <tr style=\"text-align: right;\">\n",
              "      <th></th>\n",
              "      <th>manzanas</th>\n",
              "      <th>naranjas</th>\n",
              "    </tr>\n",
              "  </thead>\n",
              "  <tbody>\n",
              "    <tr>\n",
              "      <th>0</th>\n",
              "      <td>3</td>\n",
              "      <td>0</td>\n",
              "    </tr>\n",
              "    <tr>\n",
              "      <th>1</th>\n",
              "      <td>2</td>\n",
              "      <td>3</td>\n",
              "    </tr>\n",
              "    <tr>\n",
              "      <th>2</th>\n",
              "      <td>0</td>\n",
              "      <td>7</td>\n",
              "    </tr>\n",
              "    <tr>\n",
              "      <th>3</th>\n",
              "      <td>1</td>\n",
              "      <td>2</td>\n",
              "    </tr>\n",
              "  </tbody>\n",
              "</table>\n",
              "</div>"
            ],
            "text/plain": [
              "   manzanas  naranjas\n",
              "0         3         0\n",
              "1         2         3\n",
              "2         0         7\n",
              "3         1         2"
            ]
          },
          "metadata": {
            "tags": []
          },
          "execution_count": 6
        }
      ]
    },
    {
      "cell_type": "code",
      "metadata": {
        "colab": {
          "base_uri": "https://localhost:8080/",
          "height": 173
        },
        "id": "7oB5JsFplzCg",
        "outputId": "b6866121-8c43-4fed-9f8c-ffaf5cf37c32"
      },
      "source": [
        "# Creamos las personas que compran\r\n",
        "\r\n",
        "df_compras = pd.DataFrame(data, index=['Ana', 'Roberto', 'Lily', 'David'])\r\n",
        "\r\n",
        "df_compras\r\n"
      ],
      "execution_count": null,
      "outputs": [
        {
          "output_type": "execute_result",
          "data": {
            "text/html": [
              "<div>\n",
              "<style scoped>\n",
              "    .dataframe tbody tr th:only-of-type {\n",
              "        vertical-align: middle;\n",
              "    }\n",
              "\n",
              "    .dataframe tbody tr th {\n",
              "        vertical-align: top;\n",
              "    }\n",
              "\n",
              "    .dataframe thead th {\n",
              "        text-align: right;\n",
              "    }\n",
              "</style>\n",
              "<table border=\"1\" class=\"dataframe\">\n",
              "  <thead>\n",
              "    <tr style=\"text-align: right;\">\n",
              "      <th></th>\n",
              "      <th>manzanas</th>\n",
              "      <th>naranjas</th>\n",
              "    </tr>\n",
              "  </thead>\n",
              "  <tbody>\n",
              "    <tr>\n",
              "      <th>Ana</th>\n",
              "      <td>3</td>\n",
              "      <td>0</td>\n",
              "    </tr>\n",
              "    <tr>\n",
              "      <th>Roberto</th>\n",
              "      <td>2</td>\n",
              "      <td>3</td>\n",
              "    </tr>\n",
              "    <tr>\n",
              "      <th>Lily</th>\n",
              "      <td>0</td>\n",
              "      <td>7</td>\n",
              "    </tr>\n",
              "    <tr>\n",
              "      <th>David</th>\n",
              "      <td>1</td>\n",
              "      <td>2</td>\n",
              "    </tr>\n",
              "  </tbody>\n",
              "</table>\n",
              "</div>"
            ],
            "text/plain": [
              "         manzanas  naranjas\n",
              "Ana             3         0\n",
              "Roberto         2         3\n",
              "Lily            0         7\n",
              "David           1         2"
            ]
          },
          "metadata": {
            "tags": []
          },
          "execution_count": 7
        }
      ]
    },
    {
      "cell_type": "code",
      "metadata": {
        "colab": {
          "base_uri": "https://localhost:8080/"
        },
        "id": "mnD86GVYizFN",
        "outputId": "9268cf20-75b4-4d45-90c8-b1670486998d"
      },
      "source": [
        "# Podemos ver que compró Ana (selección del renglón con .loc)\r\n",
        "df_compras.loc['Ana']"
      ],
      "execution_count": null,
      "outputs": [
        {
          "output_type": "execute_result",
          "data": {
            "text/plain": [
              "manzanas    3\n",
              "naranjas    0\n",
              "Name: Ana, dtype: int64"
            ]
          },
          "metadata": {
            "tags": []
          },
          "execution_count": 9
        }
      ]
    },
    {
      "cell_type": "code",
      "metadata": {
        "id": "u4phAa8JpRaD"
      },
      "source": [
        "df_compras.to_csv('compras.csv')"
      ],
      "execution_count": null,
      "outputs": []
    },
    {
      "cell_type": "code",
      "metadata": {
        "id": "G7FPW93ooiNh"
      },
      "source": [
        "# pandas permite leer archivos cav, Excel y otros formatos\r\n",
        "df_compras = pd.read_csv('compras.csv')"
      ],
      "execution_count": null,
      "outputs": []
    },
    {
      "cell_type": "code",
      "metadata": {
        "colab": {
          "base_uri": "https://localhost:8080/",
          "height": 173
        },
        "id": "zbB0685UpvpI",
        "outputId": "53b0d6b5-1392-4140-df27-08203ae6441b"
      },
      "source": [
        "df_compras.head()"
      ],
      "execution_count": null,
      "outputs": [
        {
          "output_type": "execute_result",
          "data": {
            "text/html": [
              "<div>\n",
              "<style scoped>\n",
              "    .dataframe tbody tr th:only-of-type {\n",
              "        vertical-align: middle;\n",
              "    }\n",
              "\n",
              "    .dataframe tbody tr th {\n",
              "        vertical-align: top;\n",
              "    }\n",
              "\n",
              "    .dataframe thead th {\n",
              "        text-align: right;\n",
              "    }\n",
              "</style>\n",
              "<table border=\"1\" class=\"dataframe\">\n",
              "  <thead>\n",
              "    <tr style=\"text-align: right;\">\n",
              "      <th></th>\n",
              "      <th>Unnamed: 0</th>\n",
              "      <th>manzanas</th>\n",
              "      <th>naranjas</th>\n",
              "    </tr>\n",
              "  </thead>\n",
              "  <tbody>\n",
              "    <tr>\n",
              "      <th>0</th>\n",
              "      <td>Ana</td>\n",
              "      <td>3</td>\n",
              "      <td>0</td>\n",
              "    </tr>\n",
              "    <tr>\n",
              "      <th>1</th>\n",
              "      <td>Roberto</td>\n",
              "      <td>2</td>\n",
              "      <td>3</td>\n",
              "    </tr>\n",
              "    <tr>\n",
              "      <th>2</th>\n",
              "      <td>Lily</td>\n",
              "      <td>0</td>\n",
              "      <td>7</td>\n",
              "    </tr>\n",
              "    <tr>\n",
              "      <th>3</th>\n",
              "      <td>David</td>\n",
              "      <td>1</td>\n",
              "      <td>2</td>\n",
              "    </tr>\n",
              "  </tbody>\n",
              "</table>\n",
              "</div>"
            ],
            "text/plain": [
              "  Unnamed: 0  manzanas  naranjas\n",
              "0        Ana         3         0\n",
              "1    Roberto         2         3\n",
              "2       Lily         0         7\n",
              "3      David         1         2"
            ]
          },
          "metadata": {
            "tags": []
          },
          "execution_count": 19
        }
      ]
    },
    {
      "cell_type": "code",
      "metadata": {
        "id": "-sDxo1YUrMHI"
      },
      "source": [
        "df_compras.rename(columns={'Unnamed: 0' : 'Nombre'}, inplace=True)"
      ],
      "execution_count": null,
      "outputs": []
    },
    {
      "cell_type": "code",
      "metadata": {
        "colab": {
          "base_uri": "https://localhost:8080/",
          "height": 173
        },
        "id": "4ueIVXN4sGQa",
        "outputId": "9e3e0d38-88f1-4532-9522-55af801620be"
      },
      "source": [
        "df_compras.head()"
      ],
      "execution_count": null,
      "outputs": [
        {
          "output_type": "execute_result",
          "data": {
            "text/html": [
              "<div>\n",
              "<style scoped>\n",
              "    .dataframe tbody tr th:only-of-type {\n",
              "        vertical-align: middle;\n",
              "    }\n",
              "\n",
              "    .dataframe tbody tr th {\n",
              "        vertical-align: top;\n",
              "    }\n",
              "\n",
              "    .dataframe thead th {\n",
              "        text-align: right;\n",
              "    }\n",
              "</style>\n",
              "<table border=\"1\" class=\"dataframe\">\n",
              "  <thead>\n",
              "    <tr style=\"text-align: right;\">\n",
              "      <th></th>\n",
              "      <th>Nombre</th>\n",
              "      <th>manzanas</th>\n",
              "      <th>naranjas</th>\n",
              "    </tr>\n",
              "  </thead>\n",
              "  <tbody>\n",
              "    <tr>\n",
              "      <th>0</th>\n",
              "      <td>Ana</td>\n",
              "      <td>3</td>\n",
              "      <td>0</td>\n",
              "    </tr>\n",
              "    <tr>\n",
              "      <th>1</th>\n",
              "      <td>Roberto</td>\n",
              "      <td>2</td>\n",
              "      <td>3</td>\n",
              "    </tr>\n",
              "    <tr>\n",
              "      <th>2</th>\n",
              "      <td>Lily</td>\n",
              "      <td>0</td>\n",
              "      <td>7</td>\n",
              "    </tr>\n",
              "    <tr>\n",
              "      <th>3</th>\n",
              "      <td>David</td>\n",
              "      <td>1</td>\n",
              "      <td>2</td>\n",
              "    </tr>\n",
              "  </tbody>\n",
              "</table>\n",
              "</div>"
            ],
            "text/plain": [
              "    Nombre  manzanas  naranjas\n",
              "0      Ana         3         0\n",
              "1  Roberto         2         3\n",
              "2     Lily         0         7\n",
              "3    David         1         2"
            ]
          },
          "metadata": {
            "tags": []
          },
          "execution_count": 25
        }
      ]
    },
    {
      "cell_type": "code",
      "metadata": {
        "colab": {
          "base_uri": "https://localhost:8080/"
        },
        "id": "ryJS6cSJ0lZ_",
        "outputId": "a9a24372-d755-4569-f396-4aee46668325"
      },
      "source": [
        "df_compras.shape"
      ],
      "execution_count": null,
      "outputs": [
        {
          "output_type": "execute_result",
          "data": {
            "text/plain": [
              "(4, 3)"
            ]
          },
          "metadata": {
            "tags": []
          },
          "execution_count": 26
        }
      ]
    },
    {
      "cell_type": "code",
      "metadata": {
        "colab": {
          "base_uri": "https://localhost:8080/"
        },
        "id": "4s6eAQyv0qWI",
        "outputId": "8f6a9209-553d-46a3-ab5c-c5552d69cad7"
      },
      "source": [
        "df_compras.info()"
      ],
      "execution_count": null,
      "outputs": [
        {
          "output_type": "stream",
          "text": [
            "<class 'pandas.core.frame.DataFrame'>\n",
            "RangeIndex: 4 entries, 0 to 3\n",
            "Data columns (total 3 columns):\n",
            " #   Column    Non-Null Count  Dtype \n",
            "---  ------    --------------  ----- \n",
            " 0   Nombre    4 non-null      object\n",
            " 1   manzanas  4 non-null      int64 \n",
            " 2   naranjas  4 non-null      int64 \n",
            "dtypes: int64(2), object(1)\n",
            "memory usage: 224.0+ bytes\n"
          ],
          "name": "stdout"
        }
      ]
    },
    {
      "cell_type": "code",
      "metadata": {
        "colab": {
          "base_uri": "https://localhost:8080/",
          "height": 297
        },
        "id": "LxYtbP1d09i-",
        "outputId": "8e8a18cc-575d-4d2a-90a6-170647d69daa"
      },
      "source": [
        "df_compras.describe()"
      ],
      "execution_count": null,
      "outputs": [
        {
          "output_type": "execute_result",
          "data": {
            "text/html": [
              "<div>\n",
              "<style scoped>\n",
              "    .dataframe tbody tr th:only-of-type {\n",
              "        vertical-align: middle;\n",
              "    }\n",
              "\n",
              "    .dataframe tbody tr th {\n",
              "        vertical-align: top;\n",
              "    }\n",
              "\n",
              "    .dataframe thead th {\n",
              "        text-align: right;\n",
              "    }\n",
              "</style>\n",
              "<table border=\"1\" class=\"dataframe\">\n",
              "  <thead>\n",
              "    <tr style=\"text-align: right;\">\n",
              "      <th></th>\n",
              "      <th>manzanas</th>\n",
              "      <th>naranjas</th>\n",
              "    </tr>\n",
              "  </thead>\n",
              "  <tbody>\n",
              "    <tr>\n",
              "      <th>count</th>\n",
              "      <td>4.000000</td>\n",
              "      <td>4.00000</td>\n",
              "    </tr>\n",
              "    <tr>\n",
              "      <th>mean</th>\n",
              "      <td>1.500000</td>\n",
              "      <td>3.00000</td>\n",
              "    </tr>\n",
              "    <tr>\n",
              "      <th>std</th>\n",
              "      <td>1.290994</td>\n",
              "      <td>2.94392</td>\n",
              "    </tr>\n",
              "    <tr>\n",
              "      <th>min</th>\n",
              "      <td>0.000000</td>\n",
              "      <td>0.00000</td>\n",
              "    </tr>\n",
              "    <tr>\n",
              "      <th>25%</th>\n",
              "      <td>0.750000</td>\n",
              "      <td>1.50000</td>\n",
              "    </tr>\n",
              "    <tr>\n",
              "      <th>50%</th>\n",
              "      <td>1.500000</td>\n",
              "      <td>2.50000</td>\n",
              "    </tr>\n",
              "    <tr>\n",
              "      <th>75%</th>\n",
              "      <td>2.250000</td>\n",
              "      <td>4.00000</td>\n",
              "    </tr>\n",
              "    <tr>\n",
              "      <th>max</th>\n",
              "      <td>3.000000</td>\n",
              "      <td>7.00000</td>\n",
              "    </tr>\n",
              "  </tbody>\n",
              "</table>\n",
              "</div>"
            ],
            "text/plain": [
              "       manzanas  naranjas\n",
              "count  4.000000   4.00000\n",
              "mean   1.500000   3.00000\n",
              "std    1.290994   2.94392\n",
              "min    0.000000   0.00000\n",
              "25%    0.750000   1.50000\n",
              "50%    1.500000   2.50000\n",
              "75%    2.250000   4.00000\n",
              "max    3.000000   7.00000"
            ]
          },
          "metadata": {
            "tags": []
          },
          "execution_count": 29
        }
      ]
    },
    {
      "cell_type": "code",
      "metadata": {
        "id": "Ivbr2EEOrHMi"
      },
      "source": [
        "# Creación de un ejemplo de DataFrame con valores aleatorios\r\n",
        "from numpy.random import randn\r\n",
        "df = pd.DataFrame(randn(6,4),index='0 1 2 3 4 5'.split(),columns='A B C D'.split())"
      ],
      "execution_count": 48,
      "outputs": []
    },
    {
      "cell_type": "code",
      "metadata": {
        "colab": {
          "base_uri": "https://localhost:8080/",
          "height": 235
        },
        "id": "qpi-YpjDrNfw",
        "outputId": "3218367f-6261-49dc-f45d-68fb73e9ee17"
      },
      "source": [
        "df"
      ],
      "execution_count": 49,
      "outputs": [
        {
          "output_type": "execute_result",
          "data": {
            "text/html": [
              "<div>\n",
              "<style scoped>\n",
              "    .dataframe tbody tr th:only-of-type {\n",
              "        vertical-align: middle;\n",
              "    }\n",
              "\n",
              "    .dataframe tbody tr th {\n",
              "        vertical-align: top;\n",
              "    }\n",
              "\n",
              "    .dataframe thead th {\n",
              "        text-align: right;\n",
              "    }\n",
              "</style>\n",
              "<table border=\"1\" class=\"dataframe\">\n",
              "  <thead>\n",
              "    <tr style=\"text-align: right;\">\n",
              "      <th></th>\n",
              "      <th>A</th>\n",
              "      <th>B</th>\n",
              "      <th>C</th>\n",
              "      <th>D</th>\n",
              "    </tr>\n",
              "  </thead>\n",
              "  <tbody>\n",
              "    <tr>\n",
              "      <th>0</th>\n",
              "      <td>-0.007857</td>\n",
              "      <td>0.029273</td>\n",
              "      <td>0.458973</td>\n",
              "      <td>1.294689</td>\n",
              "    </tr>\n",
              "    <tr>\n",
              "      <th>1</th>\n",
              "      <td>-1.447663</td>\n",
              "      <td>-0.863712</td>\n",
              "      <td>1.317655</td>\n",
              "      <td>-0.847043</td>\n",
              "    </tr>\n",
              "    <tr>\n",
              "      <th>2</th>\n",
              "      <td>1.083452</td>\n",
              "      <td>-0.820827</td>\n",
              "      <td>-0.321457</td>\n",
              "      <td>0.784296</td>\n",
              "    </tr>\n",
              "    <tr>\n",
              "      <th>3</th>\n",
              "      <td>-0.575979</td>\n",
              "      <td>-0.232530</td>\n",
              "      <td>-0.007624</td>\n",
              "      <td>0.884733</td>\n",
              "    </tr>\n",
              "    <tr>\n",
              "      <th>4</th>\n",
              "      <td>-0.042168</td>\n",
              "      <td>0.613352</td>\n",
              "      <td>-0.669029</td>\n",
              "      <td>-1.565413</td>\n",
              "    </tr>\n",
              "    <tr>\n",
              "      <th>5</th>\n",
              "      <td>0.222308</td>\n",
              "      <td>0.144232</td>\n",
              "      <td>1.133568</td>\n",
              "      <td>0.282620</td>\n",
              "    </tr>\n",
              "  </tbody>\n",
              "</table>\n",
              "</div>"
            ],
            "text/plain": [
              "          A         B         C         D\n",
              "0 -0.007857  0.029273  0.458973  1.294689\n",
              "1 -1.447663 -0.863712  1.317655 -0.847043\n",
              "2  1.083452 -0.820827 -0.321457  0.784296\n",
              "3 -0.575979 -0.232530 -0.007624  0.884733\n",
              "4 -0.042168  0.613352 -0.669029 -1.565413\n",
              "5  0.222308  0.144232  1.133568  0.282620"
            ]
          },
          "metadata": {
            "tags": []
          },
          "execution_count": 49
        }
      ]
    },
    {
      "cell_type": "code",
      "metadata": {
        "colab": {
          "base_uri": "https://localhost:8080/"
        },
        "id": "lgbUVS5urTbE",
        "outputId": "d2249f04-240d-4492-ee66-049ab6b44991"
      },
      "source": [
        "# Imprime el tercer renglon con etiqueta '4' \r\n",
        "df.loc['4']"
      ],
      "execution_count": 50,
      "outputs": [
        {
          "output_type": "execute_result",
          "data": {
            "text/plain": [
              "A   -0.042168\n",
              "B    0.613352\n",
              "C   -0.669029\n",
              "D   -1.565413\n",
              "Name: 4, dtype: float64"
            ]
          },
          "metadata": {
            "tags": []
          },
          "execution_count": 50
        }
      ]
    },
    {
      "cell_type": "code",
      "metadata": {
        "colab": {
          "base_uri": "https://localhost:8080/"
        },
        "id": "JuLSjllsrYjM",
        "outputId": "0ae90a1b-1db4-4a2f-900d-27e095ce5de0"
      },
      "source": [
        "# Imprime el renglón con índice 4\r\n",
        "df.iloc[4]"
      ],
      "execution_count": 51,
      "outputs": [
        {
          "output_type": "execute_result",
          "data": {
            "text/plain": [
              "A   -0.042168\n",
              "B    0.613352\n",
              "C   -0.669029\n",
              "D   -1.565413\n",
              "Name: 4, dtype: float64"
            ]
          },
          "metadata": {
            "tags": []
          },
          "execution_count": 51
        }
      ]
    },
    {
      "cell_type": "code",
      "metadata": {
        "colab": {
          "base_uri": "https://localhost:8080/"
        },
        "id": "GmocYrmUrw0X",
        "outputId": "97376c67-445b-4c18-f880-7f6fe3d4c29d"
      },
      "source": [
        "# Imprime un elemento específico. \r\n",
        "df.loc['4', 'C']"
      ],
      "execution_count": 53,
      "outputs": [
        {
          "output_type": "execute_result",
          "data": {
            "text/plain": [
              "-0.6690286512798718"
            ]
          },
          "metadata": {
            "tags": []
          },
          "execution_count": 53
        }
      ]
    },
    {
      "cell_type": "code",
      "metadata": {
        "colab": {
          "base_uri": "https://localhost:8080/",
          "height": 204
        },
        "id": "_vS83zhOr1QN",
        "outputId": "11366d67-e80b-40f5-bca6-57b35c931aa0"
      },
      "source": [
        "# Imprime un rango de renglones\r\n",
        "df.loc['1':'5']"
      ],
      "execution_count": 56,
      "outputs": [
        {
          "output_type": "execute_result",
          "data": {
            "text/html": [
              "<div>\n",
              "<style scoped>\n",
              "    .dataframe tbody tr th:only-of-type {\n",
              "        vertical-align: middle;\n",
              "    }\n",
              "\n",
              "    .dataframe tbody tr th {\n",
              "        vertical-align: top;\n",
              "    }\n",
              "\n",
              "    .dataframe thead th {\n",
              "        text-align: right;\n",
              "    }\n",
              "</style>\n",
              "<table border=\"1\" class=\"dataframe\">\n",
              "  <thead>\n",
              "    <tr style=\"text-align: right;\">\n",
              "      <th></th>\n",
              "      <th>A</th>\n",
              "      <th>B</th>\n",
              "      <th>C</th>\n",
              "      <th>D</th>\n",
              "    </tr>\n",
              "  </thead>\n",
              "  <tbody>\n",
              "    <tr>\n",
              "      <th>1</th>\n",
              "      <td>-1.447663</td>\n",
              "      <td>-0.863712</td>\n",
              "      <td>1.317655</td>\n",
              "      <td>-0.847043</td>\n",
              "    </tr>\n",
              "    <tr>\n",
              "      <th>2</th>\n",
              "      <td>1.083452</td>\n",
              "      <td>-0.820827</td>\n",
              "      <td>-0.321457</td>\n",
              "      <td>0.784296</td>\n",
              "    </tr>\n",
              "    <tr>\n",
              "      <th>3</th>\n",
              "      <td>-0.575979</td>\n",
              "      <td>-0.232530</td>\n",
              "      <td>-0.007624</td>\n",
              "      <td>0.884733</td>\n",
              "    </tr>\n",
              "    <tr>\n",
              "      <th>4</th>\n",
              "      <td>-0.042168</td>\n",
              "      <td>0.613352</td>\n",
              "      <td>-0.669029</td>\n",
              "      <td>-1.565413</td>\n",
              "    </tr>\n",
              "    <tr>\n",
              "      <th>5</th>\n",
              "      <td>0.222308</td>\n",
              "      <td>0.144232</td>\n",
              "      <td>1.133568</td>\n",
              "      <td>0.282620</td>\n",
              "    </tr>\n",
              "  </tbody>\n",
              "</table>\n",
              "</div>"
            ],
            "text/plain": [
              "          A         B         C         D\n",
              "1 -1.447663 -0.863712  1.317655 -0.847043\n",
              "2  1.083452 -0.820827 -0.321457  0.784296\n",
              "3 -0.575979 -0.232530 -0.007624  0.884733\n",
              "4 -0.042168  0.613352 -0.669029 -1.565413\n",
              "5  0.222308  0.144232  1.133568  0.282620"
            ]
          },
          "metadata": {
            "tags": []
          },
          "execution_count": 56
        }
      ]
    },
    {
      "cell_type": "code",
      "metadata": {
        "colab": {
          "base_uri": "https://localhost:8080/",
          "height": 235
        },
        "id": "TkCRmvwlsLrM",
        "outputId": "8b125b0f-7403-46d5-ca82-447de79ad7a2"
      },
      "source": [
        "# Indica donde se cumple la condición\r\n",
        "df>0.7"
      ],
      "execution_count": 58,
      "outputs": [
        {
          "output_type": "execute_result",
          "data": {
            "text/html": [
              "<div>\n",
              "<style scoped>\n",
              "    .dataframe tbody tr th:only-of-type {\n",
              "        vertical-align: middle;\n",
              "    }\n",
              "\n",
              "    .dataframe tbody tr th {\n",
              "        vertical-align: top;\n",
              "    }\n",
              "\n",
              "    .dataframe thead th {\n",
              "        text-align: right;\n",
              "    }\n",
              "</style>\n",
              "<table border=\"1\" class=\"dataframe\">\n",
              "  <thead>\n",
              "    <tr style=\"text-align: right;\">\n",
              "      <th></th>\n",
              "      <th>A</th>\n",
              "      <th>B</th>\n",
              "      <th>C</th>\n",
              "      <th>D</th>\n",
              "    </tr>\n",
              "  </thead>\n",
              "  <tbody>\n",
              "    <tr>\n",
              "      <th>0</th>\n",
              "      <td>False</td>\n",
              "      <td>False</td>\n",
              "      <td>False</td>\n",
              "      <td>True</td>\n",
              "    </tr>\n",
              "    <tr>\n",
              "      <th>1</th>\n",
              "      <td>False</td>\n",
              "      <td>False</td>\n",
              "      <td>True</td>\n",
              "      <td>False</td>\n",
              "    </tr>\n",
              "    <tr>\n",
              "      <th>2</th>\n",
              "      <td>True</td>\n",
              "      <td>False</td>\n",
              "      <td>False</td>\n",
              "      <td>True</td>\n",
              "    </tr>\n",
              "    <tr>\n",
              "      <th>3</th>\n",
              "      <td>False</td>\n",
              "      <td>False</td>\n",
              "      <td>False</td>\n",
              "      <td>True</td>\n",
              "    </tr>\n",
              "    <tr>\n",
              "      <th>4</th>\n",
              "      <td>False</td>\n",
              "      <td>False</td>\n",
              "      <td>False</td>\n",
              "      <td>False</td>\n",
              "    </tr>\n",
              "    <tr>\n",
              "      <th>5</th>\n",
              "      <td>False</td>\n",
              "      <td>False</td>\n",
              "      <td>True</td>\n",
              "      <td>False</td>\n",
              "    </tr>\n",
              "  </tbody>\n",
              "</table>\n",
              "</div>"
            ],
            "text/plain": [
              "       A      B      C      D\n",
              "0  False  False  False   True\n",
              "1  False  False   True  False\n",
              "2   True  False  False   True\n",
              "3  False  False  False   True\n",
              "4  False  False  False  False\n",
              "5  False  False   True  False"
            ]
          },
          "metadata": {
            "tags": []
          },
          "execution_count": 58
        }
      ]
    },
    {
      "cell_type": "code",
      "metadata": {
        "colab": {
          "base_uri": "https://localhost:8080/",
          "height": 235
        },
        "id": "JjXM9djTsR9N",
        "outputId": "427b771f-7fa9-4b69-8782-484996cd7a54"
      },
      "source": [
        "df"
      ],
      "execution_count": 59,
      "outputs": [
        {
          "output_type": "execute_result",
          "data": {
            "text/html": [
              "<div>\n",
              "<style scoped>\n",
              "    .dataframe tbody tr th:only-of-type {\n",
              "        vertical-align: middle;\n",
              "    }\n",
              "\n",
              "    .dataframe tbody tr th {\n",
              "        vertical-align: top;\n",
              "    }\n",
              "\n",
              "    .dataframe thead th {\n",
              "        text-align: right;\n",
              "    }\n",
              "</style>\n",
              "<table border=\"1\" class=\"dataframe\">\n",
              "  <thead>\n",
              "    <tr style=\"text-align: right;\">\n",
              "      <th></th>\n",
              "      <th>A</th>\n",
              "      <th>B</th>\n",
              "      <th>C</th>\n",
              "      <th>D</th>\n",
              "    </tr>\n",
              "  </thead>\n",
              "  <tbody>\n",
              "    <tr>\n",
              "      <th>0</th>\n",
              "      <td>-0.007857</td>\n",
              "      <td>0.029273</td>\n",
              "      <td>0.458973</td>\n",
              "      <td>1.294689</td>\n",
              "    </tr>\n",
              "    <tr>\n",
              "      <th>1</th>\n",
              "      <td>-1.447663</td>\n",
              "      <td>-0.863712</td>\n",
              "      <td>1.317655</td>\n",
              "      <td>-0.847043</td>\n",
              "    </tr>\n",
              "    <tr>\n",
              "      <th>2</th>\n",
              "      <td>1.083452</td>\n",
              "      <td>-0.820827</td>\n",
              "      <td>-0.321457</td>\n",
              "      <td>0.784296</td>\n",
              "    </tr>\n",
              "    <tr>\n",
              "      <th>3</th>\n",
              "      <td>-0.575979</td>\n",
              "      <td>-0.232530</td>\n",
              "      <td>-0.007624</td>\n",
              "      <td>0.884733</td>\n",
              "    </tr>\n",
              "    <tr>\n",
              "      <th>4</th>\n",
              "      <td>-0.042168</td>\n",
              "      <td>0.613352</td>\n",
              "      <td>-0.669029</td>\n",
              "      <td>-1.565413</td>\n",
              "    </tr>\n",
              "    <tr>\n",
              "      <th>5</th>\n",
              "      <td>0.222308</td>\n",
              "      <td>0.144232</td>\n",
              "      <td>1.133568</td>\n",
              "      <td>0.282620</td>\n",
              "    </tr>\n",
              "  </tbody>\n",
              "</table>\n",
              "</div>"
            ],
            "text/plain": [
              "          A         B         C         D\n",
              "0 -0.007857  0.029273  0.458973  1.294689\n",
              "1 -1.447663 -0.863712  1.317655 -0.847043\n",
              "2  1.083452 -0.820827 -0.321457  0.784296\n",
              "3 -0.575979 -0.232530 -0.007624  0.884733\n",
              "4 -0.042168  0.613352 -0.669029 -1.565413\n",
              "5  0.222308  0.144232  1.133568  0.282620"
            ]
          },
          "metadata": {
            "tags": []
          },
          "execution_count": 59
        }
      ]
    },
    {
      "cell_type": "markdown",
      "metadata": {
        "id": "6BYqRad_z6zh"
      },
      "source": [
        "Aqui se inserta el archivo meteorlogógico de la actividad 1"
      ]
    },
    {
      "cell_type": "code",
      "metadata": {
        "colab": {
          "base_uri": "https://localhost:8080/"
        },
        "id": "_fG0Jaq9iHnH",
        "outputId": "be8b1647-2681-4121-e74e-916cebbf2600"
      },
      "source": [
        "import numpy as np\r\n",
        "\r\n",
        "import pandas as pd\r\n",
        "\r\n",
        "url = 'https://raw.githubusercontent.com/Hannahborrego17/Fisicacomputacional1/master/Actividad%201/datos%20diarios.txt'\r\n",
        "\r\n",
        "df = pd.read_csv(url)\r\n",
        "print(df.head(100))"
      ],
      "execution_count": 1,
      "outputs": [
        {
          "output_type": "stream",
          "text": [
            "                     CNA-SMN-CG-GMC-SMAA-CLIMATOLOGIA\n",
            "0                         BASE DE DATOS CLIMATOLOGICA\n",
            "1   DATOS DISPONIBLES EN LA BASE DE DATOS A MARZO ...\n",
            "2                                   ESTACION  : 26089\n",
            "3                         NOMBRE    : SANTA ANA (DGE)\n",
            "4                                  ESTADO    : SONORA\n",
            "..                                                ...\n",
            "95                22/03/1950  0     Nulo    37     6 \n",
            "96                23/03/1950  0     Nulo    38     8 \n",
            "97                24/03/1950  0     Nulo    34     2 \n",
            "98                25/03/1950  0     Nulo    32     2 \n",
            "99                26/03/1950  0     Nulo    21     0 \n",
            "\n",
            "[100 rows x 1 columns]\n"
          ],
          "name": "stdout"
        }
      ]
    },
    {
      "cell_type": "code",
      "metadata": {
        "id": "zUHUHX8mEXAW"
      },
      "source": [
        "import pandas as pd\r\n",
        "import numpy as np\r\n",
        "\r\n",
        "#archivo en formato raw\r\n",
        "url = 'https://raw.githubusercontent.com/Hannahborrego17/Fisicacomputacional1/master/Actividad%201/datos%20diarios.txt'\r\n",
        "\r\n",
        "my_cols = ['Fecha', 'precip', 'Evap', 'Tmax', 'Tmin']\r\n",
        "df_dist = pd.read_csv(url, names=my_cols, encoding='cp1251', sep='\\s+', header=None, skiprows=19, skipfooter=1, engine='python')\r\n",
        "\r\n"
      ],
      "execution_count": 60,
      "outputs": []
    },
    {
      "cell_type": "code",
      "metadata": {
        "colab": {
          "base_uri": "https://localhost:8080/"
        },
        "id": "gduJDUR8I1fq",
        "outputId": "bf3ef2e1-f13f-4a14-8ff0-da17fcd6f279"
      },
      "source": [
        "# revisamosel encabezado y el final del dataframe\r\n",
        "\r\n",
        "print(df_dist.head())\r\n",
        "print(df_dist.tail())"
      ],
      "execution_count": 61,
      "outputs": [
        {
          "output_type": "stream",
          "text": [
            "        Fecha precip  Evap Tmax Tmin\n",
            "0  01/01/1950      0  Nulo   34    9\n",
            "1  02/01/1950      0  Nulo   25   12\n",
            "2  03/01/1950      0  Nulo   30   13\n",
            "3  04/01/1950      0  Nulo   20    8\n",
            "4  05/01/1950      0  Nulo   28    5\n",
            "            Fecha precip  Evap  Tmax Tmin\n",
            "18117  26/11/2005      0     6    31    6\n",
            "18118  27/11/2005      0     6    31    6\n",
            "18119  28/11/2005      0     5    31    6\n",
            "18120  29/11/2005      0     6    30    6\n",
            "18121  30/11/2005      0  Nulo  Nulo    5\n"
          ],
          "name": "stdout"
        }
      ]
    },
    {
      "cell_type": "markdown",
      "metadata": {
        "id": "shhtpARq2Mti"
      },
      "source": [
        "Aqui vemos que nuestro data frame tiene 18122 renglones y 5 columnas"
      ]
    },
    {
      "cell_type": "code",
      "metadata": {
        "colab": {
          "base_uri": "https://localhost:8080/"
        },
        "id": "AxLum60_P7XL",
        "outputId": "b2f138ac-47b7-4099-89ee-ca02297f1257"
      },
      "source": [
        "# tamaño (renglones,columnas)\r\n",
        "df_dist.shape"
      ],
      "execution_count": 21,
      "outputs": [
        {
          "output_type": "execute_result",
          "data": {
            "text/plain": [
              "(18122, 5)"
            ]
          },
          "metadata": {
            "tags": []
          },
          "execution_count": 21
        }
      ]
    },
    {
      "cell_type": "code",
      "metadata": {
        "colab": {
          "base_uri": "https://localhost:8080/"
        },
        "id": "BwaJvJ3W2KYH",
        "outputId": "5a7aec31-c350-47bc-9f21-ee58319aa8ed"
      },
      "source": [
        "# Información del dataframe\r\n",
        "df_dist.info()"
      ],
      "execution_count": 71,
      "outputs": [
        {
          "output_type": "stream",
          "text": [
            "<class 'pandas.core.frame.DataFrame'>\n",
            "RangeIndex: 18122 entries, 0 to 18121\n",
            "Data columns (total 5 columns):\n",
            " #   Column  Non-Null Count  Dtype \n",
            "---  ------  --------------  ----- \n",
            " 0   Fecha   18122 non-null  object\n",
            " 1   precip  18122 non-null  object\n",
            " 2   Evap    18122 non-null  object\n",
            " 3   Tmax    18122 non-null  object\n",
            " 4   Tmin    18122 non-null  object\n",
            "dtypes: object(5)\n",
            "memory usage: 708.0+ KB\n"
          ],
          "name": "stdout"
        }
      ]
    },
    {
      "cell_type": "code",
      "metadata": {
        "id": "YgIxfi8y-dl5",
        "colab": {
          "base_uri": "https://localhost:8080/",
          "height": 198
        },
        "outputId": "51f99962-36da-4a28-d591-46a92cfc7301"
      },
      "source": [
        "# copia del trabajo y se preserva el dataframe original\r\n",
        "\r\n",
        "df_work0 = df_dist.copy()\r\n",
        "df_work0.head()"
      ],
      "execution_count": 24,
      "outputs": [
        {
          "output_type": "execute_result",
          "data": {
            "text/html": [
              "<div>\n",
              "<style scoped>\n",
              "    .dataframe tbody tr th:only-of-type {\n",
              "        vertical-align: middle;\n",
              "    }\n",
              "\n",
              "    .dataframe tbody tr th {\n",
              "        vertical-align: top;\n",
              "    }\n",
              "\n",
              "    .dataframe thead th {\n",
              "        text-align: right;\n",
              "    }\n",
              "</style>\n",
              "<table border=\"1\" class=\"dataframe\">\n",
              "  <thead>\n",
              "    <tr style=\"text-align: right;\">\n",
              "      <th></th>\n",
              "      <th>Fecha</th>\n",
              "      <th>precip</th>\n",
              "      <th>Evap</th>\n",
              "      <th>Tmax</th>\n",
              "      <th>Tmin</th>\n",
              "    </tr>\n",
              "  </thead>\n",
              "  <tbody>\n",
              "    <tr>\n",
              "      <th>0</th>\n",
              "      <td>01/01/1950</td>\n",
              "      <td>0</td>\n",
              "      <td>Nulo</td>\n",
              "      <td>34</td>\n",
              "      <td>9</td>\n",
              "    </tr>\n",
              "    <tr>\n",
              "      <th>1</th>\n",
              "      <td>02/01/1950</td>\n",
              "      <td>0</td>\n",
              "      <td>Nulo</td>\n",
              "      <td>25</td>\n",
              "      <td>12</td>\n",
              "    </tr>\n",
              "    <tr>\n",
              "      <th>2</th>\n",
              "      <td>03/01/1950</td>\n",
              "      <td>0</td>\n",
              "      <td>Nulo</td>\n",
              "      <td>30</td>\n",
              "      <td>13</td>\n",
              "    </tr>\n",
              "    <tr>\n",
              "      <th>3</th>\n",
              "      <td>04/01/1950</td>\n",
              "      <td>0</td>\n",
              "      <td>Nulo</td>\n",
              "      <td>20</td>\n",
              "      <td>8</td>\n",
              "    </tr>\n",
              "    <tr>\n",
              "      <th>4</th>\n",
              "      <td>05/01/1950</td>\n",
              "      <td>0</td>\n",
              "      <td>Nulo</td>\n",
              "      <td>28</td>\n",
              "      <td>5</td>\n",
              "    </tr>\n",
              "  </tbody>\n",
              "</table>\n",
              "</div>"
            ],
            "text/plain": [
              "        Fecha precip  Evap Tmax Tmin\n",
              "0  01/01/1950      0  Nulo   34    9\n",
              "1  02/01/1950      0  Nulo   25   12\n",
              "2  03/01/1950      0  Nulo   30   13\n",
              "3  04/01/1950      0  Nulo   20    8\n",
              "4  05/01/1950      0  Nulo   28    5"
            ]
          },
          "metadata": {
            "tags": []
          },
          "execution_count": 24
        }
      ]
    },
    {
      "cell_type": "code",
      "metadata": {
        "id": "PwoRZFC-17BA"
      },
      "source": [
        ""
      ],
      "execution_count": null,
      "outputs": []
    },
    {
      "cell_type": "code",
      "metadata": {
        "colab": {
          "base_uri": "https://localhost:8080/",
          "height": 198
        },
        "id": "P3FZVuJlR1wS",
        "outputId": "4ecee62c-84c9-44a4-cfb7-5e735ada08a4"
      },
      "source": [
        "# remplazamos los textos nulo por los espaccios en blanco\r\n",
        "str_Nulo = 'Nulo'\r\n",
        "df_work1 = df_work0.replace(to_replace=str_Nulo, value='', regex=True)\r\n",
        "df_work1.head()"
      ],
      "execution_count": 28,
      "outputs": [
        {
          "output_type": "execute_result",
          "data": {
            "text/html": [
              "<div>\n",
              "<style scoped>\n",
              "    .dataframe tbody tr th:only-of-type {\n",
              "        vertical-align: middle;\n",
              "    }\n",
              "\n",
              "    .dataframe tbody tr th {\n",
              "        vertical-align: top;\n",
              "    }\n",
              "\n",
              "    .dataframe thead th {\n",
              "        text-align: right;\n",
              "    }\n",
              "</style>\n",
              "<table border=\"1\" class=\"dataframe\">\n",
              "  <thead>\n",
              "    <tr style=\"text-align: right;\">\n",
              "      <th></th>\n",
              "      <th>Fecha</th>\n",
              "      <th>precip</th>\n",
              "      <th>Evap</th>\n",
              "      <th>Tmax</th>\n",
              "      <th>Tmin</th>\n",
              "    </tr>\n",
              "  </thead>\n",
              "  <tbody>\n",
              "    <tr>\n",
              "      <th>0</th>\n",
              "      <td>01/01/1950</td>\n",
              "      <td>0</td>\n",
              "      <td></td>\n",
              "      <td>34</td>\n",
              "      <td>9</td>\n",
              "    </tr>\n",
              "    <tr>\n",
              "      <th>1</th>\n",
              "      <td>02/01/1950</td>\n",
              "      <td>0</td>\n",
              "      <td></td>\n",
              "      <td>25</td>\n",
              "      <td>12</td>\n",
              "    </tr>\n",
              "    <tr>\n",
              "      <th>2</th>\n",
              "      <td>03/01/1950</td>\n",
              "      <td>0</td>\n",
              "      <td></td>\n",
              "      <td>30</td>\n",
              "      <td>13</td>\n",
              "    </tr>\n",
              "    <tr>\n",
              "      <th>3</th>\n",
              "      <td>04/01/1950</td>\n",
              "      <td>0</td>\n",
              "      <td></td>\n",
              "      <td>20</td>\n",
              "      <td>8</td>\n",
              "    </tr>\n",
              "    <tr>\n",
              "      <th>4</th>\n",
              "      <td>05/01/1950</td>\n",
              "      <td>0</td>\n",
              "      <td></td>\n",
              "      <td>28</td>\n",
              "      <td>5</td>\n",
              "    </tr>\n",
              "  </tbody>\n",
              "</table>\n",
              "</div>"
            ],
            "text/plain": [
              "        Fecha precip Evap Tmax Tmin\n",
              "0  01/01/1950      0        34    9\n",
              "1  02/01/1950      0        25   12\n",
              "2  03/01/1950      0        30   13\n",
              "3  04/01/1950      0        20    8\n",
              "4  05/01/1950      0        28    5"
            ]
          },
          "metadata": {
            "tags": []
          },
          "execution_count": 28
        }
      ]
    },
    {
      "cell_type": "code",
      "metadata": {
        "colab": {
          "base_uri": "https://localhost:8080/"
        },
        "id": "tvxPGGfmT-3-",
        "outputId": "4c9769a9-134c-4845-9819-453f325e0617"
      },
      "source": [
        "# información actualizada\r\n",
        "df_work1.info()\r\n",
        "print(df_work1.head())"
      ],
      "execution_count": 29,
      "outputs": [
        {
          "output_type": "stream",
          "text": [
            "<class 'pandas.core.frame.DataFrame'>\n",
            "RangeIndex: 18122 entries, 0 to 18121\n",
            "Data columns (total 5 columns):\n",
            " #   Column  Non-Null Count  Dtype \n",
            "---  ------  --------------  ----- \n",
            " 0   Fecha   18122 non-null  object\n",
            " 1   precip  18122 non-null  object\n",
            " 2   Evap    18122 non-null  object\n",
            " 3   Tmax    18122 non-null  object\n",
            " 4   Tmin    18122 non-null  object\n",
            "dtypes: object(5)\n",
            "memory usage: 708.0+ KB\n",
            "        Fecha precip Evap Tmax Tmin\n",
            "0  01/01/1950      0        34    9\n",
            "1  02/01/1950      0        25   12\n",
            "2  03/01/1950      0        30   13\n",
            "3  04/01/1950      0        20    8\n",
            "4  05/01/1950      0        28    5\n"
          ],
          "name": "stdout"
        }
      ]
    },
    {
      "cell_type": "code",
      "metadata": {
        "colab": {
          "base_uri": "https://localhost:8080/"
        },
        "id": "LPCiVodaYVst",
        "outputId": "109b7a0f-301f-4ac2-8355-c5e214115577"
      },
      "source": [
        "# convertit variables a constantes\r\n",
        "cols_list = ['precip', 'Evap', 'Tmax', 'Tmin']\r\n",
        "for cols in cols_list:\r\n",
        "  df_work:[cols] = pd.to_numeric(df_work1[cols], errors='coerce')\r\n",
        "df_work1.info()"
      ],
      "execution_count": 34,
      "outputs": [
        {
          "output_type": "stream",
          "text": [
            "<class 'pandas.core.frame.DataFrame'>\n",
            "RangeIndex: 18122 entries, 0 to 18121\n",
            "Data columns (total 5 columns):\n",
            " #   Column  Non-Null Count  Dtype \n",
            "---  ------  --------------  ----- \n",
            " 0   Fecha   18122 non-null  object\n",
            " 1   precip  18122 non-null  object\n",
            " 2   Evap    18122 non-null  object\n",
            " 3   Tmax    18122 non-null  object\n",
            " 4   Tmin    18122 non-null  object\n",
            "dtypes: object(5)\n",
            "memory usage: 708.0+ KB\n"
          ],
          "name": "stdout"
        }
      ]
    },
    {
      "cell_type": "code",
      "metadata": {
        "colab": {
          "base_uri": "https://localhost:8080/"
        },
        "id": "1G535jvmb3x7",
        "outputId": "f8fe196d-ad2c-40e2-8b41-d7af3df90c85"
      },
      "source": [
        "# sumamos los valores nulos\r\n",
        "df_work1.isnull().sum()"
      ],
      "execution_count": 35,
      "outputs": [
        {
          "output_type": "execute_result",
          "data": {
            "text/plain": [
              "Fecha     0\n",
              "precip    0\n",
              "Evap      0\n",
              "Tmax      0\n",
              "Tmin      0\n",
              "dtype: int64"
            ]
          },
          "metadata": {
            "tags": []
          },
          "execution_count": 35
        }
      ]
    },
    {
      "cell_type": "code",
      "metadata": {
        "colab": {
          "base_uri": "https://localhost:8080/"
        },
        "id": "BnAv3hPbgrIp",
        "outputId": "af371944-6f5d-43e3-c7a1-5da52771496a"
      },
      "source": [
        "print(df_work1.head())\r\n",
        "print(df_work1.head())"
      ],
      "execution_count": 36,
      "outputs": [
        {
          "output_type": "stream",
          "text": [
            "        Fecha precip Evap Tmax Tmin\n",
            "0  01/01/1950      0        34    9\n",
            "1  02/01/1950      0        25   12\n",
            "2  03/01/1950      0        30   13\n",
            "3  04/01/1950      0        20    8\n",
            "4  05/01/1950      0        28    5\n",
            "        Fecha precip Evap Tmax Tmin\n",
            "0  01/01/1950      0        34    9\n",
            "1  02/01/1950      0        25   12\n",
            "2  03/01/1950      0        30   13\n",
            "3  04/01/1950      0        20    8\n",
            "4  05/01/1950      0        28    5\n"
          ],
          "name": "stdout"
        }
      ]
    },
    {
      "cell_type": "code",
      "metadata": {
        "colab": {
          "base_uri": "https://localhost:8080/",
          "height": 168
        },
        "id": "zf7AMfPdhRdg",
        "outputId": "d0c408dc-f975-4dab-f376-79bae9dc1e44"
      },
      "source": [
        "# un analisis estadístico breve de las variables numericas redondeando a 2 cifras significativas\r\n",
        "df_work1.describe().round(2)"
      ],
      "execution_count": 39,
      "outputs": [
        {
          "output_type": "execute_result",
          "data": {
            "text/html": [
              "<div>\n",
              "<style scoped>\n",
              "    .dataframe tbody tr th:only-of-type {\n",
              "        vertical-align: middle;\n",
              "    }\n",
              "\n",
              "    .dataframe tbody tr th {\n",
              "        vertical-align: top;\n",
              "    }\n",
              "\n",
              "    .dataframe thead th {\n",
              "        text-align: right;\n",
              "    }\n",
              "</style>\n",
              "<table border=\"1\" class=\"dataframe\">\n",
              "  <thead>\n",
              "    <tr style=\"text-align: right;\">\n",
              "      <th></th>\n",
              "      <th>Fecha</th>\n",
              "      <th>precip</th>\n",
              "      <th>Evap</th>\n",
              "      <th>Tmax</th>\n",
              "      <th>Tmin</th>\n",
              "    </tr>\n",
              "  </thead>\n",
              "  <tbody>\n",
              "    <tr>\n",
              "      <th>count</th>\n",
              "      <td>18122</td>\n",
              "      <td>18122</td>\n",
              "      <td>18122</td>\n",
              "      <td>18122</td>\n",
              "      <td>18122</td>\n",
              "    </tr>\n",
              "    <tr>\n",
              "      <th>unique</th>\n",
              "      <td>18122</td>\n",
              "      <td>211</td>\n",
              "      <td>171</td>\n",
              "      <td>94</td>\n",
              "      <td>101</td>\n",
              "    </tr>\n",
              "    <tr>\n",
              "      <th>top</th>\n",
              "      <td>28/02/1978</td>\n",
              "      <td>0</td>\n",
              "      <td></td>\n",
              "      <td>36</td>\n",
              "      <td>6</td>\n",
              "    </tr>\n",
              "    <tr>\n",
              "      <th>freq</th>\n",
              "      <td>1</td>\n",
              "      <td>16727</td>\n",
              "      <td>8486</td>\n",
              "      <td>979</td>\n",
              "      <td>1035</td>\n",
              "    </tr>\n",
              "  </tbody>\n",
              "</table>\n",
              "</div>"
            ],
            "text/plain": [
              "             Fecha precip   Evap   Tmax   Tmin\n",
              "count        18122  18122  18122  18122  18122\n",
              "unique       18122    211    171     94    101\n",
              "top     28/02/1978      0            36      6\n",
              "freq             1  16727   8486    979   1035"
            ]
          },
          "metadata": {
            "tags": []
          },
          "execution_count": 39
        }
      ]
    },
    {
      "cell_type": "markdown",
      "metadata": {
        "id": "zZWcalwi0UrZ"
      },
      "source": [
        "Parte 3 se experimenta con las fechas"
      ]
    },
    {
      "cell_type": "code",
      "metadata": {
        "colab": {
          "base_uri": "https://localhost:8080/"
        },
        "id": "vrMtavbNtAXq",
        "outputId": "207a5731-22e9-4f08-bd8f-87f32cb07f93"
      },
      "source": [
        "# Ahora vamos con las fechas\r\n",
        "df_work2 = df_work1.copy()\r\n",
        "df_work2['Fecha'].head()"
      ],
      "execution_count": 64,
      "outputs": [
        {
          "output_type": "execute_result",
          "data": {
            "text/plain": [
              "0    01/01/1950\n",
              "1    02/01/1950\n",
              "2    03/01/1950\n",
              "3    04/01/1950\n",
              "4    05/01/1950\n",
              "Name: Fecha, dtype: object"
            ]
          },
          "metadata": {
            "tags": []
          },
          "execution_count": 64
        }
      ]
    },
    {
      "cell_type": "code",
      "metadata": {
        "colab": {
          "base_uri": "https://localhost:8080/"
        },
        "id": "TVxhyyultKf8",
        "outputId": "048c827a-4503-4b85-8563-c3339adbda87"
      },
      "source": [
        "df_work2['Fecha']=pd.to_datetime(df_work2['Fecha'], dayfirst=True).copy()\r\n",
        "print(df_work1.head())"
      ],
      "execution_count": 65,
      "outputs": [
        {
          "output_type": "stream",
          "text": [
            "        Fecha precip Evap Tmax Tmin\n",
            "0  01/01/1950      0        34    9\n",
            "1  02/01/1950      0        25   12\n",
            "2  03/01/1950      0        30   13\n",
            "3  04/01/1950      0        20    8\n",
            "4  05/01/1950      0        28    5\n"
          ],
          "name": "stdout"
        }
      ]
    },
    {
      "cell_type": "code",
      "metadata": {
        "colab": {
          "base_uri": "https://localhost:8080/"
        },
        "id": "_854ixN8tQxU",
        "outputId": "9ebd660f-c72f-4b84-f49f-8f3150830bf3"
      },
      "source": [
        "df_work2.dtypes"
      ],
      "execution_count": 66,
      "outputs": [
        {
          "output_type": "execute_result",
          "data": {
            "text/plain": [
              "Fecha     datetime64[ns]\n",
              "precip            object\n",
              "Evap              object\n",
              "Tmax              object\n",
              "Tmin              object\n",
              "dtype: object"
            ]
          },
          "metadata": {
            "tags": []
          },
          "execution_count": 66
        }
      ]
    },
    {
      "cell_type": "code",
      "metadata": {
        "id": "BT8eBm0nxJlW"
      },
      "source": [
        "# Buscamos ahora añadir dos columnas adicionales: df['Año'], df['Mes']\r\n",
        "# Usaremos la función .dt.year y .dt.month para extraer el Año y Mes de la Fecha\r\n",
        "df_work2['Año'] = df_work2['Fecha'].dt.year\r\n",
        "df_work2['Mes'] = df_work2['Fecha'].dt.month"
      ],
      "execution_count": 68,
      "outputs": []
    },
    {
      "cell_type": "code",
      "metadata": {
        "colab": {
          "base_uri": "https://localhost:8080/"
        },
        "id": "Q5P8ZIsdxP4Q",
        "outputId": "c71a91c0-5cfa-4517-cadf-3b2703824de1"
      },
      "source": [
        "print(df_work2.head())\r\n",
        "print(df_work2.tail())"
      ],
      "execution_count": 69,
      "outputs": [
        {
          "output_type": "stream",
          "text": [
            "       Fecha precip Evap Tmax Tmin   Año  Mes\n",
            "0 1950-01-01      0        34    9  1950    1\n",
            "1 1950-01-02      0        25   12  1950    1\n",
            "2 1950-01-03      0        30   13  1950    1\n",
            "3 1950-01-04      0        20    8  1950    1\n",
            "4 1950-01-05      0        28    5  1950    1\n",
            "           Fecha precip Evap Tmax Tmin   Año  Mes\n",
            "18117 2005-11-26      0    6   31    6  2005   11\n",
            "18118 2005-11-27      0    6   31    6  2005   11\n",
            "18119 2005-11-28      0    5   31    6  2005   11\n",
            "18120 2005-11-29      0    6   30    6  2005   11\n",
            "18121 2005-11-30      0              5  2005   11\n"
          ],
          "name": "stdout"
        }
      ]
    },
    {
      "cell_type": "code",
      "metadata": {
        "colab": {
          "base_uri": "https://localhost:8080/"
        },
        "id": "gGvQyk34xU_5",
        "outputId": "8317617d-040b-493c-f366-a5c7d908bbc9"
      },
      "source": [
        "df_work2.info()"
      ],
      "execution_count": 70,
      "outputs": [
        {
          "output_type": "stream",
          "text": [
            "<class 'pandas.core.frame.DataFrame'>\n",
            "RangeIndex: 18122 entries, 0 to 18121\n",
            "Data columns (total 7 columns):\n",
            " #   Column  Non-Null Count  Dtype         \n",
            "---  ------  --------------  -----         \n",
            " 0   Fecha   18122 non-null  datetime64[ns]\n",
            " 1   precip  18122 non-null  object        \n",
            " 2   Evap    18122 non-null  object        \n",
            " 3   Tmax    18122 non-null  object        \n",
            " 4   Tmin    18122 non-null  object        \n",
            " 5   Año     18122 non-null  int64         \n",
            " 6   Mes     18122 non-null  int64         \n",
            "dtypes: datetime64[ns](1), int64(2), object(4)\n",
            "memory usage: 991.2+ KB\n"
          ],
          "name": "stdout"
        }
      ]
    }
  ]
}