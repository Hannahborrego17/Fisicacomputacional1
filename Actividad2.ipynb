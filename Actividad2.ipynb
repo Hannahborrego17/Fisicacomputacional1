{
  "nbformat": 4,
  "nbformat_minor": 0,
  "metadata": {
    "colab": {
      "name": "Actividad2.ipynb",
      "provenance": []
    },
    "kernelspec": {
      "name": "python3",
      "display_name": "Python 3"
    }
  },
  "cells": [
    {
      "cell_type": "code",
      "metadata": {
        "id": "bCHrCY0fq4Mh"
      },
      "source": [
        "#Mi primer ejemplo de phyton\r\n"
      ],
      "execution_count": null,
      "outputs": []
    },
    {
      "cell_type": "markdown",
      "metadata": {
        "id": "MYV3CBpg5WaU"
      },
      "source": [
        "Actividad 1"
      ]
    },
    {
      "cell_type": "markdown",
      "metadata": {
        "id": "Jl8dm52YamWV"
      },
      "source": [
        "Programa para obtener el área del cículo con dos decimales en su resultado."
      ]
    },
    {
      "cell_type": "code",
      "metadata": {
        "colab": {
          "base_uri": "https://localhost:8080/"
        },
        "id": "CRxHsVhjrSH8",
        "outputId": "83644ab3-a7fe-4f75-c191-53ec8c0f8a73"
      },
      "source": [
        "import numpy as np\r\n",
        "\r\n",
        "\r\n",
        "print(\"Proporciona el radio del circulo: \", end=\"\")\r\n",
        "r=float(input(\"radio\"))\r\n",
        "\r\n",
        "a= np.pi * r ** 2\r\n",
        "\r\n",
        "# Imprime el valor del área con 2 decimales. \r\n",
        "print(\"\\nArea = {:.2f}\".format(a))\r\n"
      ],
      "execution_count": 1,
      "outputs": [
        {
          "output_type": "stream",
          "text": [
            "Proporciona el radio del circulo: radio1325\n",
            "\n",
            "Area = 5515458.60\n"
          ],
          "name": "stdout"
        }
      ]
    },
    {
      "cell_type": "markdown",
      "metadata": {
        "id": "J6Is5AL9Zpxe"
      },
      "source": [
        " Programa para obtener el área de la elipse"
      ]
    },
    {
      "cell_type": "code",
      "metadata": {
        "colab": {
          "base_uri": "https://localhost:8080/"
        },
        "id": "ydFk8qk70G1J",
        "outputId": "5a7fa56a-feb6-4496-b888-ddb3e58d2834"
      },
      "source": [
        "import numpy as np\r\n",
        "\r\n",
        "print(\"proporcione radio de la elipse\", end=\"\")\r\n",
        "a=float(input(\"semieje mayor\"))\r\n",
        "b=float(input(\"semieje menor\"))\r\n",
        "\r\n",
        "a= a * b * np.pi\r\n",
        "\r\n",
        "# imprime el valor del área con 2 decimales\r\n",
        "print(\"\\nArea = {:.2f}\".format(a))"
      ],
      "execution_count": 113,
      "outputs": [
        {
          "output_type": "stream",
          "text": [
            "proporcione radio de la elipsesemieje mayor2\n",
            "semieje menor3\n",
            "\n",
            "Area = 18.85\n"
          ],
          "name": "stdout"
        }
      ]
    },
    {
      "cell_type": "markdown",
      "metadata": {
        "id": "Fh2HeD98a-RC"
      },
      "source": [
        "Programa para obtener el volumen de la esfera"
      ]
    },
    {
      "cell_type": "code",
      "metadata": {
        "colab": {
          "base_uri": "https://localhost:8080/"
        },
        "id": "sODfxjGg2F_v",
        "outputId": "414ad648-8196-4da7-833b-a1a0d7112eb1"
      },
      "source": [
        "import numpy as np\r\n",
        "from fractions import Fraction\r\n",
        "\r\n",
        "print(\"proporcione volumen de la esfera\",end=\"\")\r\n",
        "r=float(input(\"radio\"))\r\n",
        "\r\n",
        "v= (4/3) * (np.pi) * (r ** 3)\r\n",
        "# returns fraction (4, 3)\r\n",
        "\r\n",
        "# imprime el valor del volumen con 2 decimales\r\n",
        "print(\"\\nVolumen = {:.2f}\".format(v))\r\n"
      ],
      "execution_count": 114,
      "outputs": [
        {
          "output_type": "stream",
          "text": [
            "proporcione volumen de la esferaradio1\n",
            "\n",
            "Volumen = 4.19\n"
          ],
          "name": "stdout"
        }
      ]
    },
    {
      "cell_type": "markdown",
      "metadata": {
        "id": "-5FduC8RagHV"
      },
      "source": [
        "Programa para obtener el volumen del cilindro circular"
      ]
    },
    {
      "cell_type": "code",
      "metadata": {
        "colab": {
          "base_uri": "https://localhost:8080/"
        },
        "id": "czncgObA8SEH",
        "outputId": "d4f39ac9-4285-4f11-873b-a4f6d2c273f2"
      },
      "source": [
        "import numpy as np\r\n",
        "\r\n",
        "print(\"proporcione volumen del cilindro circular\",end=\"\")\r\n",
        "h=float(input(\"altura\"))\r\n",
        "r=float(input(\"radio3\"))\r\n",
        "\r\n",
        "v= (np.pi) * h * (r ** 2)\r\n",
        "\r\n",
        "# imprime el valor del volumen con dos decimales\r\n",
        "print(\"\\nVolumen = {:.2f}\".format(v))\r\n",
        "\r\n"
      ],
      "execution_count": 124,
      "outputs": [
        {
          "output_type": "stream",
          "text": [
            "proporcione volumen del cilindro circularaltura1\n",
            "radio32\n",
            "\n",
            "Volumen = 12.57\n"
          ],
          "name": "stdout"
        }
      ]
    },
    {
      "cell_type": "markdown",
      "metadata": {
        "id": "Q2ZsXnJx7dEt"
      },
      "source": [
        "Actividad 2"
      ]
    },
    {
      "cell_type": "code",
      "metadata": {
        "id": "i8D0FwjR7bmR"
      },
      "source": [
        ""
      ],
      "execution_count": null,
      "outputs": []
    },
    {
      "cell_type": "markdown",
      "metadata": {
        "id": "prxJWhHdaEV5"
      },
      "source": [
        "Programa para obtener el resultado de la formula general"
      ]
    },
    {
      "cell_type": "code",
      "metadata": {
        "colab": {
          "base_uri": "https://localhost:8080/"
        },
        "id": "eCwFulNIaE76",
        "outputId": "83718049-43e0-4685-f40e-6314e1323594"
      },
      "source": [
        "#Calcularemos la formula general\r\n",
        "import math\r\n",
        "\r\n",
        "\r\n",
        "a=float(input(\"Esribe el valor de a\"))\r\n",
        "b=float(input(\"Escribe el valor de b\"))\r\n",
        "c=float(input(\"Escribe el valor de c\"))\r\n",
        "\r\n",
        "#Calculando el discriminante\r\n",
        "\r\n",
        "\r\n",
        "d=(b * b) - 4 * a * c\r\n",
        "\r\n",
        "if d<0:\r\n",
        "  print(\"No existen soluciones reales\")\r\n",
        "else:\r\n",
        "  x1= (-b + math.sqrt(d))/(2 * a)\r\n",
        "  x2= (-b - math.sqrt(d))/(2 * a)\r\n",
        "\r\n",
        " #imprimimos dichas soluciones\r\n",
        "print(\"Las soluciones de la ecuación son\")\r\n",
        "print(\"la solucion x1\", x1)\r\n",
        "print(\"la solucion x2\", x2)\r\n",
        "\r\n",
        "\r\n"
      ],
      "execution_count": 167,
      "outputs": [
        {
          "output_type": "stream",
          "text": [
            "Esribe el valor de a3\n",
            "Escribe el valor de b6\n",
            "Escribe el valor de c2\n",
            "Las soluciones de la ecuación son\n",
            "la solucion x1 -0.42264973081037427\n",
            "la solucion x2 -1.5773502691896255\n"
          ],
          "name": "stdout"
        }
      ]
    },
    {
      "cell_type": "markdown",
      "metadata": {
        "id": "L1ckCSSp7hmZ"
      },
      "source": [
        "Actividad 3"
      ]
    },
    {
      "cell_type": "markdown",
      "metadata": {
        "id": "dbT0-n7wcSxA"
      },
      "source": [
        "Programa para obtener las raices de una ecuación cuadrática por el método babilónico"
      ]
    },
    {
      "cell_type": "code",
      "metadata": {
        "colab": {
          "base_uri": "https://localhost:8080/"
        },
        "id": "Vr_FqHu10vyj",
        "outputId": "98d44c27-f2b5-4625-ad51-8ea44b1c8c43"
      },
      "source": [
        "#Método babilónico\r\n",
        "import math\r\n",
        "\r\n",
        "#Calculando el valor de la raíz\r\n",
        "\r\n",
        "a=float(input(\"Ingrese numero para calcular raíz\"))\r\n",
        "\r\n",
        "print(\"raiz cuadrada\", math.sqrt(a))\r\n",
        "S=float(input(\"Elige el mismo número al que le acabas de encontrar raiz por método tradicional\"))\r\n",
        "XN=float(input(\"Vuélvelo a elegir\"))\r\n",
        "i=1\r\n",
        "\r\n",
        "while abs(S-XN**2)>0.01:\r\n",
        "\r\n",
        "  print(\"Ciclo\",i,\":\", XN)\r\n",
        "\r\n",
        "  XN=1/2*(XN+(S/XN))\r\n",
        "\r\n",
        "  i=i+1\r\n",
        "\r\n",
        "  if i>101:\r\n",
        "\r\n",
        "    break"
      ],
      "execution_count": 158,
      "outputs": [
        {
          "output_type": "stream",
          "text": [
            "Ingrese numero para calcular raíz2\n",
            "raiz cuadrada 1.4142135623730951\n",
            "Elige el mismo número al que le acabas de encontrar raiz por método tradicional2\n",
            "Vuélvelo a elegir2\n",
            "Ciclo 1 : 2.0\n",
            "Ciclo 2 : 1.5\n"
          ],
          "name": "stdout"
        }
      ]
    },
    {
      "cell_type": "markdown",
      "metadata": {
        "id": "MpJgLVxocc_J"
      },
      "source": [
        "Ejercicios de clase, conditionas, loops: for y while, break y listas."
      ]
    },
    {
      "cell_type": "code",
      "metadata": {
        "colab": {
          "base_uri": "https://localhost:8080/"
        },
        "id": "Fx9EkAsDmpfk",
        "outputId": "359e7fb1-10ed-42f5-eac4-838bc3a8f249"
      },
      "source": [
        "#Ejercicios planteados en clase\r\n",
        "\r\n",
        "#conditional if\r\n",
        "\r\n",
        "x=3\r\n",
        "y=2\r\n",
        "z=1\r\n",
        "if x == y:\r\n",
        "    print(\"Hola\")\r\n",
        "elif x == z:\r\n",
        "    print(\"Nos vemos\")\r\n",
        "else:\r\n",
        "    print(\"Hasta luego\")   \r\n",
        "         "
      ],
      "execution_count": 42,
      "outputs": [
        {
          "output_type": "stream",
          "text": [
            "Hasta luego\n"
          ],
          "name": "stdout"
        }
      ]
    },
    {
      "cell_type": "code",
      "metadata": {
        "colab": {
          "base_uri": "https://localhost:8080/"
        },
        "id": "1oyAy2LHsC3Q",
        "outputId": "c5c5187a-f480-4d4a-b36b-bce2cae0f420"
      },
      "source": [
        "#Loop: for\r\n",
        "\r\n",
        "print(\"loop 1\")\r\n",
        "for i in range(5): #default - comienza en 0, incrementa en 1\r\n",
        "     print(i)\r\n",
        "\r\n",
        "print(\"loop 2\")\r\n",
        "for i in range(10, 2, -2):#entradas:inicio, fin, tamaño de paso\r\n",
        "     print(i)"
      ],
      "execution_count": 43,
      "outputs": [
        {
          "output_type": "stream",
          "text": [
            "loop 1\n",
            "0\n",
            "1\n",
            "2\n",
            "3\n",
            "4\n",
            "loop 2\n",
            "10\n",
            "8\n",
            "6\n",
            "4\n"
          ],
          "name": "stdout"
        }
      ]
    },
    {
      "cell_type": "code",
      "metadata": {
        "colab": {
          "base_uri": "https://localhost:8080/"
        },
        "id": "ZW07bEPIu36l",
        "outputId": "df7b2fd5-aed8-4c35-a6ba-2781dd240572"
      },
      "source": [
        "\"Loop: while\"\r\n",
        "\r\n",
        "i = 1\r\n",
        "while i < 100:\r\n",
        "    print(i**2)\r\n",
        "    i += i**2 # a+= b es notación compacta de a = a + b \r\n",
        "    i = i + i**2"
      ],
      "execution_count": 47,
      "outputs": [
        {
          "output_type": "stream",
          "text": [
            "1\n",
            "36\n"
          ],
          "name": "stdout"
        }
      ]
    },
    {
      "cell_type": "code",
      "metadata": {
        "colab": {
          "base_uri": "https://localhost:8080/"
        },
        "id": "KjaeF76xvqrm",
        "outputId": "12af358b-9a66-4b33-96dc-dca2c68a4c2c"
      },
      "source": [
        "for num in range(2, 10):\r\n",
        "    if num % 2 == 0:\r\n",
        "       continue #se regresa al inicio\r\n",
        "    print(f\"Encontrado {num} un número impar\")   "
      ],
      "execution_count": 48,
      "outputs": [
        {
          "output_type": "stream",
          "text": [
            "Encontrado 3 un número impar\n",
            "Encontrado 5 un número impar\n",
            "Encontrado 7 un número impar\n",
            "Encontrado 9 un número impar\n"
          ],
          "name": "stdout"
        }
      ]
    },
    {
      "cell_type": "code",
      "metadata": {
        "colab": {
          "base_uri": "https://localhost:8080/"
        },
        "id": "svmsuFUbwY5_",
        "outputId": "1e48925f-df89-4a2b-f77f-49b306093e89"
      },
      "source": [
        "n=64\r\n",
        "for x in range(2, n):\r\n",
        "     if n % x == 0: # si n es divisible por x (modulo 0)\r\n",
        "          print(f\"{n} igual {x} * {n // x}\")\r\n",
        "          break"
      ],
      "execution_count": 49,
      "outputs": [
        {
          "output_type": "stream",
          "text": [
            "64 igual 2 * 32\n"
          ],
          "name": "stdout"
        }
      ]
    },
    {
      "cell_type": "code",
      "metadata": {
        "colab": {
          "base_uri": "https://localhost:8080/"
        },
        "id": "D9lmcSNrxCHC",
        "outputId": "70d0a02e-fbc4-4258-b24b-e4c6ab7bf7f1"
      },
      "source": [
        "\r\n",
        "for i in range(5):\r\n",
        "     for j in range(5*i):\r\n",
        "          if j == 10:\r\n",
        "               print(j)\r\n",
        "               break\r\n",
        "#break se va a esta line               "
      ],
      "execution_count": 50,
      "outputs": [
        {
          "output_type": "stream",
          "text": [
            "10\n",
            "10\n"
          ],
          "name": "stdout"
        }
      ]
    },
    {
      "cell_type": "markdown",
      "metadata": {
        "id": "SPhHzjR9cohx"
      },
      "source": [
        "Actividad 4, graficación de la serie de taylor para la función ln(1 + x)"
      ]
    },
    {
      "cell_type": "code",
      "metadata": {
        "colab": {
          "base_uri": "https://localhost:8080/",
          "height": 329
        },
        "id": "ksunsMFztVY8",
        "outputId": "8a4f1d2b-3937-49d2-c60a-aaffce18ac9c"
      },
      "source": [
        "# Cargar la subbiblioteca pytlot de Matplotlib \r\n",
        "\r\n",
        "import matplotlib.pyplot as plt\r\n",
        "import math\r\n",
        "\r\n",
        "\r\n",
        "\r\n",
        "# Gráfica de funciones\r\n",
        "# Definición de variables y funciones\r\n",
        "\r\n",
        "x = np.linspace(-1.5,1.5,100)  # arrego de 100 puntos entre -pi y pi\r\n",
        "\r\n",
        "y = np.log (x+1)      # y será también un arreglo de 100 puntos automáticamente \r\n",
        "\r\n",
        "y1 = x\r\n",
        "\r\n",
        "y2 = x**2/(2)\r\n",
        "\r\n",
        "y3 = x**3/(3)\r\n",
        "\r\n",
        "y4 = x**4/(4)\r\n",
        "\r\n",
        "y5=  x**5/(5)\r\n",
        "\r\n",
        "y6=  x**6/(6)\r\n",
        "\r\n",
        "y7=  x**7/(7)\r\n",
        "\r\n",
        "y8=  x**8/(8)\r\n",
        "\r\n",
        "y9=  x**9/(9)\r\n",
        "\r\n",
        "y10= x**10/(10)\r\n",
        "\r\n",
        "y11= x**11/(11)\r\n",
        "\r\n",
        "y12= x**12/(12)\r\n",
        "\r\n",
        "y13= x**13/(13)\r\n",
        "\r\n",
        "y14= x**14/(14)\r\n",
        "\r\n",
        "y15= x**15/(15)\r\n",
        "\r\n",
        "y16= x**16/(16)\r\n",
        "\r\n",
        "sT = y1 - y2 + y3 - y4 # Serie de Taylor de log(1 + x) a 4o. Orden.\r\n",
        "\r\n",
        "sT1= y1 - y2 + y3 - y4 + y5 - y6 + y7\r\n",
        "\r\n",
        "sT2= y1 - y2 + y3 - y4 + y5 - y6 + y7 - y8 + y9 - y10 + y11\r\n",
        "\r\n",
        "sT3= y1 - y2 + y3 - y4 + y5 - y6 + y7 - y8 + y9 - y10 + y11 - y12 + y13 - y14 + y15 - y16\r\n",
        " \r\n",
        "\r\n",
        "# Creación de la gráficas\r\n",
        "\r\n",
        "plt.subplot(111)\r\n",
        "\r\n",
        "plt.xlabel(\"X label\")\r\n",
        "\r\n",
        "plt.ylabel(\"Y label\")\r\n",
        "\r\n",
        "plt.title(\"Title\")\r\n",
        "\r\n",
        "\r\n",
        "# Graficar varias funciones\r\n",
        "\r\n",
        "plt.plot(x,y, label=\"ln(x+1)\")\r\n",
        "\r\n",
        "plt.plot(x,sT, label='Serie Taylor Orden 4')\r\n",
        "\r\n",
        "plt.plot(x,sT1, label=\"serie Taylor orden 7\")\r\n",
        "\r\n",
        "plt.plot(x,sT2, label=\"serie Taylor orden 11\")\r\n",
        "\r\n",
        "plt.plot(x,sT3, label=\"serie Taylor orden 16\")\r\n",
        "\r\n",
        "# Agregar una malla\r\n",
        "\r\n",
        "plt.grid(True)\r\n",
        "\r\n",
        "# Fijar los límites en el eje Y.\r\n",
        "\r\n",
        "plt.ylim(-4, 2)\r\n",
        "\r\n",
        "# Ubicación de las etiquetas de las funciones\r\n",
        "\r\n",
        "plt.legend(bbox_to_anchor=(1,1), loc=\"upper left\")\r\n",
        "\r\n",
        "plt.show()\r\n",
        "\r\n",
        "#plt.savefig('plot.png')  # Si se desea guardar en un archivo la imagen de la gráfica\r\n",
        "\r\n",
        " "
      ],
      "execution_count": 123,
      "outputs": [
        {
          "output_type": "stream",
          "text": [
            "/usr/local/lib/python3.6/dist-packages/ipykernel_launcher.py:13: RuntimeWarning: invalid value encountered in log\n",
            "  del sys.path[0]\n"
          ],
          "name": "stderr"
        },
        {
          "output_type": "display_data",
          "data": {
            "image/png": "[encoded data removed]",
            "text/plain": [
              "<Figure size 432x288 with 1 Axes>"
            ]
          },
          "metadata": {
            "tags": [],
            "needs_background": "light"
          }
        }
      ]
    }
  ]
}