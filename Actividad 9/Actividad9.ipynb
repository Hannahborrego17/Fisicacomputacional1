{
  "nbformat": 4,
  "nbformat_minor": 0,
  "metadata": {
    "colab": {
      "name": "Actividad9.ipynb",
      "provenance": []
    },
    "kernelspec": {
      "name": "python3",
      "display_name": "Python 3"
    },
    "language_info": {
      "name": "python"
    }
  },
  "cells": [
    {
      "cell_type": "code",
      "metadata": {
        "id": "fekK5E17Crrt"
      },
      "source": [
        "# Ejemplo de Lotka-Volterra\n",
        "\n",
        "import numpy as np\n",
        "from scipy import integrate, linalg\n",
        "import pylab as plt\n",
        "\n",
        "# Definimos un vector X: X[0]=x, X[1]=y\n",
        "\n",
        "# Definimos los parámetros \n",
        "a = 1.\n",
        "b = 0.1\n",
        "c = 1.5\n",
        "d = 0.75\n",
        "\n",
        "def dX_dt(X, t=0):\n",
        "    \"\"\" El lado derecho del sistema de ecuaciones \"\"\"\n",
        "    return np.array([ a*X[0] -   b*X[0]*X[1] ,\n",
        "                  -c*X[1] + d*b*X[0]*X[1] ])"
      ],
      "execution_count": null,
      "outputs": []
    },
    {
      "cell_type": "code",
      "metadata": {
        "colab": {
          "base_uri": "https://localhost:8080/"
        },
        "id": "8eSzo8FoEevB",
        "outputId": "f9fea131-43f0-4dcc-b9ea-ffd718854afc"
      },
      "source": [
        "# Los puntos críticos del sistema\n",
        "X_f0 = np.array([     0. ,  0.])\n",
        "X_f1 = np.array([ c/(d*b), a/b])\n",
        "\n",
        "print('Puntos críticos del sistema para estos valores de parámetros')\n",
        "print('X_f0:', X_f0)\n",
        "print('X_f1:', X_f1)\n",
        "\n",
        "# En los puntos críticos se anulan las derivadas. \n",
        "all(dX_dt(X_f0) == np.zeros(2) ) and all(dX_dt(X_f1) == np.zeros(2))\n",
        "\n",
        "def d2X_dt2(X, t=0):\n",
        "    \"\"\" El Jacobiano evaluado en X}. \"\"\"\n",
        "    return np.array([[a -b*X[1],   -b*X[0]     ],\n",
        "                  [b*d*X[1] ,   -c +b*d*X[0]] ])"
      ],
      "execution_count": null,
      "outputs": [
        {
          "output_type": "stream",
          "text": [
            "Puntos críticos del sistema para estos valores de parámetros\n",
            "X_f0: [0. 0.]\n",
            "X_f1: [20. 10.]\n"
          ],
          "name": "stdout"
        }
      ]
    },
    {
      "cell_type": "code",
      "metadata": {
        "colab": {
          "base_uri": "https://localhost:8080/"
        },
        "id": "cpRtvttREjse",
        "outputId": "f358601e-8c4d-45b7-d3a3-525233f3d8ac"
      },
      "source": [
        "# El Jacobiano evaluado en el primer punto crítico X_f0\n",
        "A_f0 = d2X_dt2(X_f0)\n",
        "print('A_f0:')\n",
        "print(A_f0)"
      ],
      "execution_count": null,
      "outputs": [
        {
          "output_type": "stream",
          "text": [
            "A_f0:\n",
            "[[ 1.  -0. ]\n",
            " [ 0.  -1.5]]\n"
          ],
          "name": "stdout"
        }
      ]
    },
    {
      "cell_type": "code",
      "metadata": {
        "colab": {
          "base_uri": "https://localhost:8080/"
        },
        "id": "ab2hrZJMEn3j",
        "outputId": "92cf0368-200e-4690-f2c6-a420ebba3fde"
      },
      "source": [
        "# El Jacobiano evaluado en el segundo punto crítico X_f1\n",
        "A_f1 = d2X_dt2(X_f1)                    \n",
        "print('A_f1:')\n",
        "print(A_f1)\n",
        "                                \n",
        "# Y sus eigenvalores son +/- sqrt(c*a).j:\n",
        "lambda1, lambda2 = linalg.eigvals(A_f1) \n",
        "print('Eigenvalores:', lambda1, lambda2)\n",
        "# >>> (1.22474j, -1.22474j)\n",
        "\n",
        "# Los eigenvalores son imaginarios\n",
        "# Con periodo\n",
        "T_f1 = 2*np.pi/abs(lambda1) \n",
        "print('Periodo:', T_f1)"
      ],
      "execution_count": null,
      "outputs": [
        {
          "output_type": "stream",
          "text": [
            "A_f1:\n",
            "[[ 0.   -2.  ]\n",
            " [ 0.75  0.  ]]\n",
            "Eigenvalores: 1.224744871391589j -1.224744871391589j\n",
            "Periodo: 5.130199320647456\n"
          ],
          "name": "stdout"
        }
      ]
    },
    {
      "cell_type": "code",
      "metadata": {
        "colab": {
          "base_uri": "https://localhost:8080/",
          "height": 35
        },
        "id": "AUcGHv-fErvS",
        "outputId": "58559f4e-5222-4ebc-a89f-2a0887276a34"
      },
      "source": [
        "# Integramos el sistema de ecuaciones de Lotka-Volterra usando odeint\n",
        "\n",
        "t = np.linspace(0, 15,  1000)              # Rango de tiempo de integración\n",
        "X0 = np.array([10, 5])                     # Condiciones iniciales: 10 conejos y 5 zorros\n",
        "X, infodict = integrate.odeint(dX_dt, X0, t, full_output=True)\n",
        "infodict['message']"
      ],
      "execution_count": null,
      "outputs": [
        {
          "output_type": "execute_result",
          "data": {
            "application/vnd.google.colaboratory.intrinsic+json": {
              "type": "string"
            },
            "text/plain": [
              "'Integration successful.'"
            ]
          },
          "metadata": {
            "tags": []
          },
          "execution_count": 6
        }
      ]
    },
    {
      "cell_type": "code",
      "metadata": {
        "colab": {
          "base_uri": "https://localhost:8080/",
          "height": 368
        },
        "id": "m-7nkzmIEvrE",
        "outputId": "de9260d7-322a-4b11-a421-4541f887e981"
      },
      "source": [
        "# Graficamos las soluciones\n",
        "\n",
        "conejos, zorros = X.T\n",
        "\n",
        "\n",
        "f1 = plt.figure();\n",
        "plt.figure(figsize=(10, 5)); \n",
        "plt.plot(t, conejos, 'r-', label='Conejos');\n",
        "plt.plot(t, zorros  , 'b-', label='Zorros');\n",
        "plt.grid();\n",
        "plt.legend(loc='best');\n",
        "plt.xlabel('tiempo');\n",
        "plt.ylabel('población');\n",
        "plt.title('Evolución de la población de conejos y zorros');\n",
        "plt.show();"
      ],
      "execution_count": null,
      "outputs": [
        {
          "output_type": "display_data",
          "data": {
            "text/plain": [
              "<Figure size 432x288 with 0 Axes>"
            ]
          },
          "metadata": {
            "tags": []
          }
        },
        {
          "output_type": "display_data",
          "data": {
            "image/png": "[encoded data removed]",
            "text/plain": [
              "<Figure size 720x360 with 1 Axes>"
            ]
          },
          "metadata": {
            "tags": [],
            "needs_background": "light"
          }
        }
      ]
    },
    {
      "cell_type": "code",
      "metadata": {
        "colab": {
          "base_uri": "https://localhost:8080/",
          "height": 725
        },
        "id": "aKk1kbeGFFRQ",
        "outputId": "ac6dd1ee-b764-4596-bb1c-80707c7cd38b"
      },
      "source": [
        "# Graficamos la familia de soluciones en el espacio fase para distintas condiciones iniciales\n",
        "\n",
        "values  = np.linspace(0.3, 0.9, 5)                         # posición de X0 entre X_f0 y X_f1\n",
        "vcolors = plt.cm.cividis(np.linspace(0.3, 1., len(values)))  # colores para cada trayectoria\n",
        "\n",
        "plt.figure(figsize=(12, 8)); \n",
        "\n",
        "#-------------------------------------------------------\n",
        "# grafica las trayectorias\n",
        "for v, col in zip(values, vcolors):\n",
        "    X0 = v * X_f1                               # punto inicial\n",
        "    X = integrate.odeint( dX_dt, X0, t)         # Integración para cada condición inicial\n",
        "    plt.plot( X[:,0], X[:,1], lw=3.5*v, color=col, label='X0=(%.f, %.f)' % ( X0[0], X0[1]) )\n",
        "\n",
        "#-------------------------------------------------------\n",
        "# define una malla y calcula la pendiente (dirección) en cada punto\n",
        "ymax = plt.ylim(ymin=0)[1]                        # get axis limits\n",
        "xmax = plt.xlim(xmin=0)[1]\n",
        "nb_points   = 20\n",
        "\n",
        "x = np.linspace(0, xmax, nb_points)\n",
        "y = np.linspace(0, ymax, nb_points)\n",
        "\n",
        "X1 , Y1  = np.meshgrid(x, y)                       # crea la malla\n",
        "DX1, DY1 = dX_dt([X1, Y1])                      # calcula la tasa de crecimiento\n",
        "M = (np.hypot(DX1, DY1))                           # distancia euclideana \n",
        "M[ M == 0] = 1.                                 # Evita divisiones entre 0 \n",
        "DX1 /= M                                        # Normaliza el tamaño de cada flecha\n",
        "DY1 /= M\n",
        "\n",
        "#-------------------------------------------------------\n",
        "# Dibujar los campos de direcciones usando la función quiver de Matplotlib \n",
        "# EL color de las flechas indica la rapidez de crecimiento\n",
        "\n",
        "plt.title('Plano Fase: Trayectorias y campo de direcciones - Punto crítico (20,10)')\n",
        "Q = plt.quiver(X1, Y1, DX1, DY1, M, pivot='mid', cmap=p.cm.jet)\n",
        "plt.xlabel('Número de conejos')\n",
        "plt.ylabel('Número de zorros')\n",
        "plt.legend(loc='best')\n",
        "plt.grid()\n",
        "plt.xlim(0, xmax)\n",
        "plt.ylim(0, ymax)\n",
        "plt.show()"
      ],
      "execution_count": null,
      "outputs": [
        {
          "output_type": "error",
          "ename": "NameError",
          "evalue": "ignored",
          "traceback": [
            "\u001b[0;31m---------------------------------------------------------------------------\u001b[0m",
            "\u001b[0;31mNameError\u001b[0m                                 Traceback (most recent call last)",
            "\u001b[0;32m<ipython-input-8-5bba50ae385a>\u001b[0m in \u001b[0;36m<module>\u001b[0;34m()\u001b[0m\n\u001b[1;32m     34\u001b[0m \u001b[0;34m\u001b[0m\u001b[0m\n\u001b[1;32m     35\u001b[0m \u001b[0mplt\u001b[0m\u001b[0;34m.\u001b[0m\u001b[0mtitle\u001b[0m\u001b[0;34m(\u001b[0m\u001b[0;34m'Plano Fase: Trayectorias y campo de direcciones - Punto crítico (20,10)'\u001b[0m\u001b[0;34m)\u001b[0m\u001b[0;34m\u001b[0m\u001b[0;34m\u001b[0m\u001b[0m\n\u001b[0;32m---> 36\u001b[0;31m \u001b[0mQ\u001b[0m \u001b[0;34m=\u001b[0m \u001b[0mplt\u001b[0m\u001b[0;34m.\u001b[0m\u001b[0mquiver\u001b[0m\u001b[0;34m(\u001b[0m\u001b[0mX1\u001b[0m\u001b[0;34m,\u001b[0m \u001b[0mY1\u001b[0m\u001b[0;34m,\u001b[0m \u001b[0mDX1\u001b[0m\u001b[0;34m,\u001b[0m \u001b[0mDY1\u001b[0m\u001b[0;34m,\u001b[0m \u001b[0mM\u001b[0m\u001b[0;34m,\u001b[0m \u001b[0mpivot\u001b[0m\u001b[0;34m=\u001b[0m\u001b[0;34m'mid'\u001b[0m\u001b[0;34m,\u001b[0m \u001b[0mcmap\u001b[0m\u001b[0;34m=\u001b[0m\u001b[0mp\u001b[0m\u001b[0;34m.\u001b[0m\u001b[0mcm\u001b[0m\u001b[0;34m.\u001b[0m\u001b[0mjet\u001b[0m\u001b[0;34m)\u001b[0m\u001b[0;34m\u001b[0m\u001b[0;34m\u001b[0m\u001b[0m\n\u001b[0m\u001b[1;32m     37\u001b[0m \u001b[0mplt\u001b[0m\u001b[0;34m.\u001b[0m\u001b[0mxlabel\u001b[0m\u001b[0;34m(\u001b[0m\u001b[0;34m'Número de conejos'\u001b[0m\u001b[0;34m)\u001b[0m\u001b[0;34m\u001b[0m\u001b[0;34m\u001b[0m\u001b[0m\n\u001b[1;32m     38\u001b[0m \u001b[0mplt\u001b[0m\u001b[0;34m.\u001b[0m\u001b[0mylabel\u001b[0m\u001b[0;34m(\u001b[0m\u001b[0;34m'Número de zorros'\u001b[0m\u001b[0;34m)\u001b[0m\u001b[0;34m\u001b[0m\u001b[0;34m\u001b[0m\u001b[0m\n",
            "\u001b[0;31mNameError\u001b[0m: name 'p' is not defined"
          ]
        },
        {
          "output_type": "display_data",
          "data": {
            "image/png": "[encoded data removed]",
            "text/plain": [
              "<Figure size 864x576 with 1 Axes>"
            ]
          },
          "metadata": {
            "tags": [],
            "needs_background": "light"
          }
        }
      ]
    },
    {
      "cell_type": "code",
      "metadata": {
        "colab": {
          "base_uri": "https://localhost:8080/"
        },
        "id": "xU-EE4AsFNWQ",
        "outputId": "76202d02-3f08-41c8-f503-97866226e98c"
      },
      "source": [
        "# Resolviendo Ejercicio 7\n",
        "\n",
        "import numpy as np\n",
        "from scipy import integrate, linalg\n",
        "import pylab as plt\n",
        "\n",
        "# Definimos un vector X: X[0]=x, X[1]=y\n",
        "# Definimos la Matriz A \n",
        "\n",
        "A7 = np.array([[2,1], [1,1]])\n",
        "print('A =', A7)\n",
        "\n",
        "def dX_dt(X, t=1):\n",
        "    \"\"\" El lado derecho del sistema de ecuaciones \"\"\"\n",
        "    return np.array([ 2*X[0] + X[1] ,\n",
        "                  X[0]+X[1]])\n",
        "    \n",
        "# Los puntos críticos del sistema\n",
        "X_f0 = np.array([     0. ,  0.])\n",
        "\n",
        "print('Punto crítico del sistema')\n",
        "print('Punto crítico X_f0:', X_f0)\n",
        "print(' ')\n",
        "# En los puntos críticos se anulan las derivadas. \n",
        "all(dX_dt(X_f0) == np.zeros(2) )\n",
        "                                \n",
        "# Aplicamos la biblioteca scipy.linalg.eig()\n",
        "eigvals, eigvecs = linalg.eig(A7)\n",
        "print('Eigenvalores:', eigvals)\n",
        "print('Eigenvectores:', eigvecs)"
      ],
      "execution_count": null,
      "outputs": [
        {
          "output_type": "stream",
          "text": [
            "A = [[2 1]\n",
            " [1 1]]\n",
            "Punto crítico del sistema\n",
            "Punto crítico X_f0: [0. 0.]\n",
            " \n",
            "Eigenvalores: [2.61803399+0.j 0.38196601+0.j]\n",
            "Eigenvectores: [[ 0.85065081 -0.52573111]\n",
            " [ 0.52573111  0.85065081]]\n"
          ],
          "name": "stdout"
        }
      ]
    },
    {
      "cell_type": "code",
      "metadata": {
        "colab": {
          "base_uri": "https://localhost:8080/"
        },
        "id": "pbJM4DBGFSBs",
        "outputId": "6477666a-03c8-4022-f83f-68eac1d28881"
      },
      "source": [
        "# Solución\n",
        "# Los eigenvectores son linealmente independientes\n",
        "lambda1 = eigvals[0]\n",
        "lambda2 = eigvals[1]\n",
        "print('Eigenvalores')\n",
        "print('lambda1= ', lambda1)\n",
        "print('lambda2= ', lambda2)\n",
        "print(' ')\n",
        "print('Eigenvectores')\n",
        "v1 = eigvecs[:,0]\n",
        "v2 = eigvecs[:,1]\n",
        "print('v1=',v1)\n",
        "print('v2=',v2)"
      ],
      "execution_count": null,
      "outputs": [
        {
          "output_type": "stream",
          "text": [
            "Eigenvalores\n",
            "lambda1=  (2.618033988749895+0j)\n",
            "lambda2=  (0.3819660112501052+0j)\n",
            " \n",
            "Eigenvectores\n",
            "v1= [0.85065081 0.52573111]\n",
            "v2= [-0.52573111  0.85065081]\n"
          ],
          "name": "stdout"
        }
      ]
    },
    {
      "cell_type": "code",
      "metadata": {
        "colab": {
          "base_uri": "https://localhost:8080/",
          "height": 35
        },
        "id": "HSw7qbxNFWOV",
        "outputId": "54720f6e-7092-4b4f-9819-2536de418e20"
      },
      "source": [
        "# Solución numérica\n",
        "# Integramos el sistema de ecuaciones de Lotka-Volterra usando odeint\n",
        "\n",
        "t = np.linspace(1, 5,  500)              # Rango de tiempo de integración\n",
        "X0 = np.array([1, 1])                     # Condiciones iniciales\n",
        "X, infodict = integrate.odeint(dX_dt, X0, t, full_output=True)\n",
        "infodict['message']"
      ],
      "execution_count": null,
      "outputs": [
        {
          "output_type": "execute_result",
          "data": {
            "application/vnd.google.colaboratory.intrinsic+json": {
              "type": "string"
            },
            "text/plain": [
              "'Integration successful.'"
            ]
          },
          "metadata": {
            "tags": []
          },
          "execution_count": 12
        }
      ]
    },
    {
      "cell_type": "code",
      "metadata": {
        "colab": {
          "base_uri": "https://localhost:8080/",
          "height": 368
        },
        "id": "rjGNb762FaAB",
        "outputId": "177182df-5b65-4596-d27f-ce410f2e64e1"
      },
      "source": [
        "x, y = X.T\n",
        "\n",
        "f1 = plt.figure();\n",
        "plt.figure(figsize=(10, 5)); \n",
        "plt.plot(t, x, 'r-', label='x(t)');\n",
        "plt.plot(t, y  , 'b-', label='y(t)');\n",
        "plt.grid();\n",
        "plt.ylim(0, 10)\n",
        "plt.legend(loc='best');\n",
        "plt.xlabel('tiempo');\n",
        "plt.ylabel('Soluciones');\n",
        "plt.title('Soluciones x(t), y(t)');\n",
        "plt.show();"
      ],
      "execution_count": null,
      "outputs": [
        {
          "output_type": "display_data",
          "data": {
            "text/plain": [
              "<Figure size 432x288 with 0 Axes>"
            ]
          },
          "metadata": {
            "tags": []
          }
        },
        {
          "output_type": "display_data",
          "data": {
            "image/png": "[encoded data removed]",
            "text/plain": [
              "<Figure size 720x360 with 1 Axes>"
            ]
          },
          "metadata": {
            "tags": [],
            "needs_background": "light"
          }
        }
      ]
    },
    {
      "cell_type": "code",
      "metadata": {
        "colab": {
          "base_uri": "https://localhost:8080/",
          "height": 295
        },
        "id": "5q7J92MnFfTa",
        "outputId": "2287ddf4-4050-4fe8-fd5c-de6c9192dee5"
      },
      "source": [
        "# Solución en el plano fase\n",
        "\n",
        "plt.plot(x, y, 'brown')\n",
        "plt.xlabel('x')\n",
        "plt.ylabel('y')\n",
        "plt.grid()\n",
        "plt.ylim(0, 10)\n",
        "plt.xlim(0, 10)\n",
        "plt.title('Solución X(t) en el plano fase')\n",
        "plt.show()"
      ],
      "execution_count": null,
      "outputs": [
        {
          "output_type": "display_data",
          "data": {
            "image/png": "[encoded data removed]",
            "text/plain": [
              "<Figure size 432x288 with 1 Axes>"
            ]
          },
          "metadata": {
            "tags": [],
            "needs_background": "light"
          }
        }
      ]
    },
    {
      "cell_type": "code",
      "metadata": {
        "id": "OFTtKN76FkvG"
      },
      "source": [
        "# Solución del sistema\n",
        "t = np.linspace(1, 5,  500)              # Rango de tiempo de integración\n",
        "\n",
        "# Tenemos 4 ecuaciones y 4 constantes c11,c12,c21,c22\n",
        "# Xsol=c11*np.exp(lambda1*t)*v1[0]+c12*np.exp(lambda2*t)*v2[0]\n",
        "# Ysol=c21*np.exp(lambda1*t)*v1[1]+c22*np.exp(lambda2*t)*v2[1]\n",
        "# Xsol'= 2*Xsol + Ysol \n",
        "#      = lambda1*c11*np.exp(lambda1*t)*v1[0]+lambda2*c12*np.exp(lambda2*t)*v2[0]\n",
        "# Ysol'= Xsol + Ysol\n",
        "#      = lambda1*c21*np.exp(lambda1*t)*v1[1]+lambda2*c22*np.exp(lambda2*t)*v2[1]\n",
        "       \n",
        "# Aplicamos las condiciones iniciales\n",
        "# Xsol(1) = c11*b11 + c12*b12 = 1\n",
        "# Ysol(1) = c21*b21 + c22*b22 = 1\n",
        "# Xsol'(1) = 2*Xsol(1) + Ysol(1) = 3 \n",
        "#          = lambda1*c11*np.exp(lambda1)*v1[0]+lambda2*c12*np.exp(lambda2)*v2[0]\n",
        "#          = lambda1*c11*b11+lambda2*c12*b12\n",
        "# Ysol'(1) = Xsol(1) + Ysol(1) = 2\n",
        "#          = lambda1*c21*b21+lambda2*c22*b22\n",
        "\n",
        "\n",
        "\n",
        "b11 = np.exp(lambda1)*v1[0]\n",
        "b12 = np.exp(lambda2)*v2[0]\n",
        "b21 = np.exp(lambda1)*v1[1]\n",
        "b22 = np.exp(lambda2)*v2[1]"
      ],
      "execution_count": null,
      "outputs": []
    },
    {
      "cell_type": "code",
      "metadata": {
        "colab": {
          "base_uri": "https://localhost:8080/",
          "height": 244
        },
        "id": "Y9NGZK8uFqMx",
        "outputId": "7dcb4f9a-38d8-490d-98e3-c670cdb39f04"
      },
      "source": [
        "# Buscamos los valores de c1 y c2 que satisfacen las condiciones iniciales\n",
        "# B1 [c11,c12]^T = [1,3]^T\n",
        "# [c11,c12]^T = B1^{-1} [1,3^T]\n",
        "# B2 [c21,c22]^T = [1,2]^T\n",
        "# [c21,c22]^T = B2^{-1}[1,2]^T\n",
        "B1 = np.array([[b11,b12], [lambda1*b11,lambda2*b12]])\n",
        "B2 = np.array([[b21,b22] ,[lambda1*b21,lambda2*b22]])\n",
        "print('B1=', B1)\n",
        "print(' ')\n",
        "print('B2=', B2)\n",
        "print(' ')\n",
        "B1_inv = linalg.inv(B1)\n",
        "B2_inv = linalg.inv(B2)\n",
        "\n",
        "print('B1_inv = [[B1_inv[0][0], B1_inv[0][1]],')\n",
        "print('         [B1_inv[1][0], B1_inv[1][1]]]')\n",
        "print('B1_inv=', B1_inv)\n",
        "print(' ')\n",
        "print('B2_inv = [[B2_inv[0][0], B2_inv[0][1]],')\n",
        "print('         [B2_inv[1][0], B2_inv[1][1]]]')\n",
        "print('B2_inv=', B2_inv)\n",
        "print(' ')\n",
        "\n",
        "\n",
        "c_11 = B1_inv[0][0] + 3*B_inv[0][1] \n",
        "c_12 = B1_inv[1][0] + 3*B_inv[1][1] \n",
        "c_21 = B2_inv[0][0] + 2*B2_inv[0][1] \n",
        "c_22 = B2_inv[1][0] + 2*B2_inv[1][1] \n",
        "print(' ')\n",
        "print('c11=', c_11)\n",
        "print('c12=', c_12)\n",
        "print('c21=', c_21)\n",
        "print('c22=', c_22)\n",
        "\n",
        "\n",
        "# Satisface las condiciones iniciales?\n",
        "x1=c_11*np.exp(lambda1)*v1[0]+c_12*np.exp(lambda2)*v2[0]\n",
        "x2=c_21*np.exp(lambda1)*v1[1]+c_22*np.exp(lambda2)*v2[1]\n",
        "print('Condiciones iniciales: x(1), y(1):', x1, x2)"
      ],
      "execution_count": null,
      "outputs": [
        {
          "output_type": "error",
          "ename": "NameError",
          "evalue": "ignored",
          "traceback": [
            "\u001b[0;31m---------------------------------------------------------------------------\u001b[0m",
            "\u001b[0;31mNameError\u001b[0m                                 Traceback (most recent call last)",
            "\u001b[0;32m<ipython-input-10-d41544b3c91c>\u001b[0m in \u001b[0;36m<module>\u001b[0;34m()\u001b[0m\n\u001b[1;32m      4\u001b[0m \u001b[0;31m# B2 [c21,c22]^T = [1,2]^T\u001b[0m\u001b[0;34m\u001b[0m\u001b[0;34m\u001b[0m\u001b[0;34m\u001b[0m\u001b[0m\n\u001b[1;32m      5\u001b[0m \u001b[0;31m# [c21,c22]^T = B2^{-1}[1,2]^T\u001b[0m\u001b[0;34m\u001b[0m\u001b[0;34m\u001b[0m\u001b[0;34m\u001b[0m\u001b[0m\n\u001b[0;32m----> 6\u001b[0;31m \u001b[0mB1\u001b[0m \u001b[0;34m=\u001b[0m \u001b[0mnp\u001b[0m\u001b[0;34m.\u001b[0m\u001b[0marray\u001b[0m\u001b[0;34m(\u001b[0m\u001b[0;34m[\u001b[0m\u001b[0;34m[\u001b[0m\u001b[0mb11\u001b[0m\u001b[0;34m,\u001b[0m\u001b[0mb12\u001b[0m\u001b[0;34m]\u001b[0m\u001b[0;34m,\u001b[0m \u001b[0;34m[\u001b[0m\u001b[0mlambda1\u001b[0m\u001b[0;34m*\u001b[0m\u001b[0mb11\u001b[0m\u001b[0;34m,\u001b[0m\u001b[0mlambda2\u001b[0m\u001b[0;34m*\u001b[0m\u001b[0mb12\u001b[0m\u001b[0;34m]\u001b[0m\u001b[0;34m]\u001b[0m\u001b[0;34m)\u001b[0m\u001b[0;34m\u001b[0m\u001b[0;34m\u001b[0m\u001b[0m\n\u001b[0m\u001b[1;32m      7\u001b[0m \u001b[0mB2\u001b[0m \u001b[0;34m=\u001b[0m \u001b[0mnp\u001b[0m\u001b[0;34m.\u001b[0m\u001b[0marray\u001b[0m\u001b[0;34m(\u001b[0m\u001b[0;34m[\u001b[0m\u001b[0;34m[\u001b[0m\u001b[0mb21\u001b[0m\u001b[0;34m,\u001b[0m\u001b[0mb22\u001b[0m\u001b[0;34m]\u001b[0m \u001b[0;34m,\u001b[0m\u001b[0;34m[\u001b[0m\u001b[0mlambda1\u001b[0m\u001b[0;34m*\u001b[0m\u001b[0mb21\u001b[0m\u001b[0;34m,\u001b[0m\u001b[0mlambda2\u001b[0m\u001b[0;34m*\u001b[0m\u001b[0mb22\u001b[0m\u001b[0;34m]\u001b[0m\u001b[0;34m]\u001b[0m\u001b[0;34m)\u001b[0m\u001b[0;34m\u001b[0m\u001b[0;34m\u001b[0m\u001b[0m\n\u001b[1;32m      8\u001b[0m \u001b[0mprint\u001b[0m\u001b[0;34m(\u001b[0m\u001b[0;34m'B1='\u001b[0m\u001b[0;34m,\u001b[0m \u001b[0mB1\u001b[0m\u001b[0;34m)\u001b[0m\u001b[0;34m\u001b[0m\u001b[0;34m\u001b[0m\u001b[0m\n",
            "\u001b[0;31mNameError\u001b[0m: name 'b11' is not defined"
          ]
        }
      ]
    },
    {
      "cell_type": "code",
      "metadata": {
        "colab": {
          "base_uri": "https://localhost:8080/",
          "height": 244
        },
        "id": "H1bMaCdXF1zn",
        "outputId": "bb1b1c69-fe99-496e-c7ae-fb17ffd301ed"
      },
      "source": [
        "x, y = Xsol, Ysol\n",
        "\n",
        "f1 = plt.figure();\n",
        "plt.figure(figsize=(10, 5)); \n",
        "plt.plot(t, x, 'r-', label='x(t)');\n",
        "plt.plot(t, y  , 'b-', label='y(t)');\n",
        "plt.grid();\n",
        "plt.ylim(0, 10)\n",
        "plt.legend(loc='best');\n",
        "plt.xlabel('tiempo');\n",
        "plt.ylabel('Soluciones');\n",
        "plt.title('Soluciones x(t), y(t)');\n",
        "plt.show();"
      ],
      "execution_count": null,
      "outputs": [
        {
          "output_type": "error",
          "ename": "NameError",
          "evalue": "ignored",
          "traceback": [
            "\u001b[0;31m---------------------------------------------------------------------------\u001b[0m",
            "\u001b[0;31mNameError\u001b[0m                                 Traceback (most recent call last)",
            "\u001b[0;32m<ipython-input-11-4f1cbef7d75d>\u001b[0m in \u001b[0;36m<module>\u001b[0;34m()\u001b[0m\n\u001b[0;32m----> 1\u001b[0;31m \u001b[0mx\u001b[0m\u001b[0;34m,\u001b[0m \u001b[0my\u001b[0m \u001b[0;34m=\u001b[0m \u001b[0mXsol\u001b[0m\u001b[0;34m,\u001b[0m \u001b[0mYsol\u001b[0m\u001b[0;34m\u001b[0m\u001b[0;34m\u001b[0m\u001b[0m\n\u001b[0m\u001b[1;32m      2\u001b[0m \u001b[0;34m\u001b[0m\u001b[0m\n\u001b[1;32m      3\u001b[0m \u001b[0mf1\u001b[0m \u001b[0;34m=\u001b[0m \u001b[0mplt\u001b[0m\u001b[0;34m.\u001b[0m\u001b[0mfigure\u001b[0m\u001b[0;34m(\u001b[0m\u001b[0;34m)\u001b[0m\u001b[0;34m;\u001b[0m\u001b[0;34m\u001b[0m\u001b[0;34m\u001b[0m\u001b[0m\n\u001b[1;32m      4\u001b[0m \u001b[0mplt\u001b[0m\u001b[0;34m.\u001b[0m\u001b[0mfigure\u001b[0m\u001b[0;34m(\u001b[0m\u001b[0mfigsize\u001b[0m\u001b[0;34m=\u001b[0m\u001b[0;34m(\u001b[0m\u001b[0;36m10\u001b[0m\u001b[0;34m,\u001b[0m \u001b[0;36m5\u001b[0m\u001b[0;34m)\u001b[0m\u001b[0;34m)\u001b[0m\u001b[0;34m;\u001b[0m\u001b[0;34m\u001b[0m\u001b[0;34m\u001b[0m\u001b[0m\n\u001b[1;32m      5\u001b[0m \u001b[0mplt\u001b[0m\u001b[0;34m.\u001b[0m\u001b[0mplot\u001b[0m\u001b[0;34m(\u001b[0m\u001b[0mt\u001b[0m\u001b[0;34m,\u001b[0m \u001b[0mx\u001b[0m\u001b[0;34m,\u001b[0m \u001b[0;34m'r-'\u001b[0m\u001b[0;34m,\u001b[0m \u001b[0mlabel\u001b[0m\u001b[0;34m=\u001b[0m\u001b[0;34m'x(t)'\u001b[0m\u001b[0;34m)\u001b[0m\u001b[0;34m;\u001b[0m\u001b[0;34m\u001b[0m\u001b[0;34m\u001b[0m\u001b[0m\n",
            "\u001b[0;31mNameError\u001b[0m: name 'Xsol' is not defined"
          ]
        }
      ]
    },
    {
      "cell_type": "code",
      "metadata": {
        "colab": {
          "base_uri": "https://localhost:8080/"
        },
        "id": "qiz-tF2wF7qj",
        "outputId": "7dde8ede-92c8-4d75-b8ab-8dd98eab970e"
      },
      "source": [
        "import numpy as np\n",
        "from scipy import integrate, linalg\n",
        "import pylab as plt\n",
        "\n",
        "# Definimos un vector X: X[0]=x, X[1]=y, X[2]=z\n",
        "# Definimos la Matriz A \n",
        "\n",
        "A3 = np.array([[1,0,0],[1,2,0], [1,0,-1]])\n",
        "print('A =', A3)\n",
        "\n",
        "def dX_dt(X,t=0):\n",
        "    \"\"\" El lado derecho del sistema de ecuaciones \"\"\"\n",
        "    return np.array([X[0], X[0] + 2*X[1] ,\n",
        "                  X[0]-X[1]])\n",
        "    \n",
        "# Los puntos críticos del sistema\n",
        "X_f0 = np.array([ 0.0 , 0.0, 0.0])\n",
        "\n",
        "print('Punto crítico del sistema')\n",
        "print('Punto crítico X_f0:', X_f0)\n",
        "print(' ')\n",
        "# En los puntos críticos se anulan las derivadas. \n",
        "all(dX_dt(X_f0) == np.zeros(3) )\n",
        "                                \n",
        "# Aplicamos la biblioteca scipy.linalg.eig()\n",
        "eigvals, eigvecs = linalg.eig(A3)\n",
        "print('Eigenvalores:', eigvals)\n",
        "print('Eigenvectores:', eigvecs)"
      ],
      "execution_count": null,
      "outputs": [
        {
          "output_type": "stream",
          "text": [
            "A = [[ 1  0  0]\n",
            " [ 1  2  0]\n",
            " [ 1  0 -1]]\n",
            "Punto crítico del sistema\n",
            "Punto crítico X_f0: [0. 0. 0.]\n",
            " \n",
            "Eigenvalores: [-1.+0.j  2.+0.j  1.+0.j]\n",
            "Eigenvectores: [[ 0.          0.          0.66666667]\n",
            " [ 0.          1.         -0.66666667]\n",
            " [ 1.          0.          0.33333333]]\n"
          ],
          "name": "stdout"
        }
      ]
    },
    {
      "cell_type": "code",
      "metadata": {
        "colab": {
          "base_uri": "https://localhost:8080/"
        },
        "id": "Vi4KxPSgF_dp",
        "outputId": "c01cdb72-d9ea-45ef-b276-853411960bd3"
      },
      "source": [
        "# Solución\n",
        "# Los eigenvectores son linealmente independientes\n",
        "lambda1 = eigvals[0]\n",
        "lambda2 = eigvals[1]\n",
        "lambda3 = eigvals[2]\n",
        "print('Eigenvalores')\n",
        "print('lambda1= ', lambda1)\n",
        "print('lambda2= ', lambda2)\n",
        "print('lambda3= ', lambda3)\n",
        "print(' ')\n",
        "print('Eigenvectores')\n",
        "v1 = eigvecs[:,0]\n",
        "v2 = eigvecs[:,1]\n",
        "v3 = eigvecs[:,2]\n",
        "print('v1=',v1)\n",
        "print('v2=',v2)\n",
        "print('v3=',v3)"
      ],
      "execution_count": null,
      "outputs": [
        {
          "output_type": "stream",
          "text": [
            "Eigenvalores\n",
            "lambda1=  (-1+0j)\n",
            "lambda2=  (2+0j)\n",
            "lambda3=  (1+0j)\n",
            " \n",
            "Eigenvectores\n",
            "v1= [0. 0. 1.]\n",
            "v2= [0. 1. 0.]\n",
            "v3= [ 0.66666667 -0.66666667  0.33333333]\n"
          ],
          "name": "stdout"
        }
      ]
    },
    {
      "cell_type": "code",
      "metadata": {
        "colab": {
          "base_uri": "https://localhost:8080/",
          "height": 35
        },
        "id": "bUED8776GCts",
        "outputId": "3c811979-35a6-4e6e-97a4-050ae6c96b1e"
      },
      "source": [
        "# La solución del sistema \n",
        "# Solución numérica\n",
        "# Integramos el sistema de ecuaciones de Lotka-Volterra usando odeint\n",
        "\n",
        "t = np.linspace(0, 3,  300)              # Rango de tiempo de integración\n",
        "X0 = np.array([1, 0, 0])                     # Condiciones iniciales\n",
        "X, infodict = integrate.odeint(dX_dt, X0, t, full_output=True)\n",
        "infodict['message']"
      ],
      "execution_count": null,
      "outputs": [
        {
          "output_type": "execute_result",
          "data": {
            "application/vnd.google.colaboratory.intrinsic+json": {
              "type": "string"
            },
            "text/plain": [
              "'Integration successful.'"
            ]
          },
          "metadata": {
            "tags": []
          },
          "execution_count": 14
        }
      ]
    },
    {
      "cell_type": "code",
      "metadata": {
        "colab": {
          "base_uri": "https://localhost:8080/",
          "height": 368
        },
        "id": "Ljv42rXUGGA9",
        "outputId": "d8d4bb9c-ed18-4f67-d47a-5bfb4a6a8984"
      },
      "source": [
        "x, y, z = X.T\n",
        "\n",
        "f1 = plt.figure();\n",
        "plt.figure(figsize=(10, 5)); \n",
        "plt.plot(t, x, 'r-', label='x(t)');\n",
        "plt.plot(t, y  , 'b-', label='y(t)');\n",
        "plt.plot(t, z  , 'g-', label='z(t)');\n",
        "plt.grid();\n",
        "plt.ylim(-10, 10)\n",
        "plt.legend(loc='best');\n",
        "plt.xlabel('tiempo');\n",
        "plt.ylabel('Soluciones');\n",
        "plt.title('Soluciones x(t), y(t), z(t)');\n",
        "plt.show();"
      ],
      "execution_count": null,
      "outputs": [
        {
          "output_type": "display_data",
          "data": {
            "text/plain": [
              "<Figure size 432x288 with 0 Axes>"
            ]
          },
          "metadata": {
            "tags": []
          }
        },
        {
          "output_type": "display_data",
          "data": {
            "image/png": "[encoded data removed]",
            "text/plain": [
              "<Figure size 720x360 with 1 Axes>"
            ]
          },
          "metadata": {
            "tags": [],
            "needs_background": "light"
          }
        }
      ]
    },
    {
      "cell_type": "code",
      "metadata": {
        "colab": {
          "base_uri": "https://localhost:8080/",
          "height": 295
        },
        "id": "nqL0MqXIGJV5",
        "outputId": "f2511fa8-98ee-4064-e2e7-3e5a5e357bab"
      },
      "source": [
        "# Solución en el plano fase\n",
        "\n",
        "plt.plot(x, y, 'brown')\n",
        "plt.xlabel('x')\n",
        "plt.ylabel('y')\n",
        "plt.grid()\n",
        "plt.ylim(-10, 10)\n",
        "plt.xlim(-10, 10)\n",
        "plt.title('Solución X(t) en el plano fase xy')\n",
        "plt.show()"
      ],
      "execution_count": null,
      "outputs": [
        {
          "output_type": "display_data",
          "data": {
            "image/png": "[encoded data removed]",
            "text/plain": [
              "<Figure size 432x288 with 1 Axes>"
            ]
          },
          "metadata": {
            "tags": [],
            "needs_background": "light"
          }
        }
      ]
    },
    {
      "cell_type": "code",
      "metadata": {
        "colab": {
          "base_uri": "https://localhost:8080/",
          "height": 295
        },
        "id": "Q43Rg4c4GNjs",
        "outputId": "36d1726e-e4ff-46d0-f527-2575cbd2e4de"
      },
      "source": [
        "plt.plot(x, z, 'brown')\n",
        "plt.xlabel('x')\n",
        "plt.ylabel('z')\n",
        "plt.grid()\n",
        "plt.ylim(-10, 10)\n",
        "plt.xlim(-10, 10)\n",
        "plt.title('Solución X(t) en el plano fase xz')\n",
        "plt.show()"
      ],
      "execution_count": null,
      "outputs": [
        {
          "output_type": "display_data",
          "data": {
            "image/png": "[encoded data removed]",
            "text/plain": [
              "<Figure size 432x288 with 1 Axes>"
            ]
          },
          "metadata": {
            "tags": [],
            "needs_background": "light"
          }
        }
      ]
    },
    {
      "cell_type": "code",
      "metadata": {
        "colab": {
          "base_uri": "https://localhost:8080/",
          "height": 295
        },
        "id": "oTbnNQmGGQq5",
        "outputId": "c249d208-8f45-4e98-877d-bd431e6c0223"
      },
      "source": [
        "plt.plot(y, z, 'brown')\n",
        "plt.xlabel('y')\n",
        "plt.ylabel('z')\n",
        "plt.grid()\n",
        "plt.ylim(-10, 10)\n",
        "plt.xlim(-10, 10)\n",
        "plt.title('Solución X(t) en el plano fase yz')\n",
        "plt.show()"
      ],
      "execution_count": null,
      "outputs": [
        {
          "output_type": "display_data",
          "data": {
            "image/png": "[encoded data removed]",
            "text/plain": [
              "<Figure size 432x288 with 1 Axes>"
            ]
          },
          "metadata": {
            "tags": [],
            "needs_background": "light"
          }
        }
      ]
    },
    {
      "cell_type": "code",
      "metadata": {
        "colab": {
          "base_uri": "https://localhost:8080/",
          "height": 248
        },
        "id": "a-JRUNwBGUsh",
        "outputId": "ed0d2e0d-6cd2-4309-8efa-41d97e32b867"
      },
      "source": [
        "# Solución en el plano fase\n",
        " \n",
        "# importing mplot3d toolkits, numpy and matplotlib\n",
        "from mpl_toolkits import mplot3d\n",
        "import numpy as np\n",
        "import matplotlib.pyplot as plt\n",
        "  \n",
        "fig = plt.figure()\n",
        "  \n",
        "# syntax for 3-D projection\n",
        "ax = plt.axes(projection ='3d')\n",
        "\n",
        "\n",
        "plt.xlim(-10, 10)\n",
        "plt.ylim(-10, 10)\n",
        "\n",
        "plt.xlabel('x');\n",
        "plt.ylabel('y');\n",
        "\n",
        "# defining all 3 axes\n",
        "x, y, z = X.T\n",
        "  \n",
        "# plotting\n",
        "ax.plot3D(x, y, z, 'brown')\n",
        "ax.set_title('Solución en el espacio fase (x(t),y(t),z(t))')\n",
        "plt.show()"
      ],
      "execution_count": null,
      "outputs": [
        {
          "output_type": "display_data",
          "data": {
            "image/png": "[encoded data removed]",
            "text/plain": [
              "<Figure size 432x288 with 1 Axes>"
            ]
          },
          "metadata": {
            "tags": [],
            "needs_background": "light"
          }
        }
      ]
    },
    {
      "cell_type": "code",
      "metadata": {
        "id": "EFjH8hXZGaP6"
      },
      "source": [
        "# Solución del sistema\n",
        "t = np.linspace(0, 3,  300)              # Rango de tiempo de integración\n",
        "\n",
        "# Xsol=c1*np.exp(lambda1*t)*v1[0]+c2*np.exp(lambda2*t)*v2[0]+c3*np.exp(lambda3*t)*v3[0]\n",
        "# Ysol=c1*np.exp(lambda1*t)*v1[1]+c2*np.exp(lambda2*t)*v2[1]+c3*np.exp(lambda3*t)*v3[1]\n",
        "# Zsol=c1*np.exp(lambda1*t)*v1[2]+c2*np.exp(lambda2*t)*v2[2]+c3*np.exp(lambda3*t)*v3[2]\n",
        "\n",
        "\n",
        "# Aplicamos las condiciones iniciales\n",
        "# Xsol(0) = c1*b11 + c2*b12 + c3*b13 = 1\n",
        "# Ysol(0) = c1*b21 + c2*b22 + c3*b23 = 0\n",
        "# Zsol(0) = c1*b31 + c2*b32 + c3*b33 = 0\n",
        "\n",
        "\n",
        "b11 = v1[0]\n",
        "b12 = v2[0]\n",
        "b13 = v3[0]\n",
        "b21 = v1[1]\n",
        "b22 = v2[1]\n",
        "b23 = v3[1]\n",
        "b31 = v1[2]\n",
        "b32 = v2[2]\n",
        "b33 = v3[2]"
      ],
      "execution_count": null,
      "outputs": []
    },
    {
      "cell_type": "code",
      "metadata": {
        "colab": {
          "base_uri": "https://localhost:8080/"
        },
        "id": "kga2yMYuGf9x",
        "outputId": "247148ff-d68a-4ea4-bad6-715a1ea05c34"
      },
      "source": [
        "# Buscaremos los valores de c1,c2 y c3 que satisfacen las condiciones iniciales\n",
        "# B1 [c1,c2,c3]^T = [1,0,0]^T\n",
        "# [c11,c12,c13]^T = B1^{-1} [1,0,0]^T\n",
        "# B1 es la matriz de los eigenvectores en las columnas\n",
        "B1 = np.array([[b11, b12, b13], [b21, b22, b23], [b31, b32, b33]])\n",
        "\n",
        "print('B1=', B1)\n",
        "print(' ')\n",
        "\n",
        "\n",
        "B1_inv = linalg.inv(B1)\n",
        "\n",
        "\n",
        "print('B1_inv = [[B1_inv[0][0], B1_inv[0][1]], B1_inv[0][2]')\n",
        "print('         [B1_inv[1][0], B1_inv[1][1]], B1_inv[1][2]')\n",
        "print('         [B1_inv[2][0], B1_inv[2][1]], B1_inv[2][2]]')\n",
        "print('B1_inv=', B1_inv)\n",
        "print(' ')\n",
        "\n",
        "X0 = np.array([[1,0,0]])\n",
        "\n",
        "C = B1_inv@X0.T \n",
        "\n",
        "# Matriz de los coeficientes\n",
        "C\n",
        "\n",
        "c_1 = C[0]\n",
        "c_2 = C[1]\n",
        "c_3 = C[2]\n",
        "\n",
        "print('Los coeficientes son:')\n",
        "print('c_1=',c_1)\n",
        "print('c_2=',c_2)\n",
        "print('c_3=',c_3)\n",
        "\n",
        "# Satisface las condiciones iniciales?\n",
        "x1 = c_1*v1[0]+c_2*v2[0]+c_3*v3[0]\n",
        "x2 = c_1*v1[1]+c_2*v2[1]+c_3*v3[1]\n",
        "x3 = c_1*v1[2]+c_2*v2[2]+c_3*v3[2]\n",
        "\n",
        "print('Condiciones iniciales: x(0),y(0),z(0): (1,0,0)', x1, x2, x3 )"
      ],
      "execution_count": null,
      "outputs": [
        {
          "output_type": "stream",
          "text": [
            "B1= [[ 0.          0.          0.66666667]\n",
            " [ 0.          1.         -0.66666667]\n",
            " [ 1.          0.          0.33333333]]\n",
            " \n",
            "B1_inv = [[B1_inv[0][0], B1_inv[0][1]], B1_inv[0][2]\n",
            "         [B1_inv[1][0], B1_inv[1][1]], B1_inv[1][2]\n",
            "         [B1_inv[2][0], B1_inv[2][1]], B1_inv[2][2]]\n",
            "B1_inv= [[-0.5 -0.   1. ]\n",
            " [ 1.   1.   0. ]\n",
            " [ 1.5  0.   0. ]]\n",
            " \n",
            "Los coeficientes son:\n",
            "c_1= [-0.5]\n",
            "c_2= [1.]\n",
            "c_3= [1.5]\n",
            "Condiciones iniciales: x(0),y(0),z(0): (1,0,0) [1.] [0.] [0.]\n"
          ],
          "name": "stdout"
        }
      ]
    },
    {
      "cell_type": "code",
      "metadata": {
        "id": "Xv27OY3K4mRC"
      },
      "source": [
        "import numpy as np\n",
        "import scipy.linalg as la\n",
        "from numpy.linalg import matrix_power as mpow\n",
        "import matplotlib.pyplot as plt\n",
        "%matplotlib inline"
      ],
      "execution_count": null,
      "outputs": []
    },
    {
      "cell_type": "markdown",
      "metadata": {
        "id": "kuveMqXOzE5B"
      },
      "source": [
        "Ejercicio 1:"
      ]
    },
    {
      "cell_type": "code",
      "metadata": {
        "colab": {
          "base_uri": "https://localhost:8080/"
        },
        "id": "LVCtVaozzNlF",
        "outputId": "48c68fe4-cc14-487f-c4a8-ad59d43ed188"
      },
      "source": [
        "#Encontrando los eigenvalores de la matriz\n",
        "A = np.array([[0,1],[-1,0]])\n",
        "print(A)"
      ],
      "execution_count": null,
      "outputs": [
        {
          "output_type": "stream",
          "text": [
            "[[ 0  1]\n",
            " [-1  0]]\n"
          ],
          "name": "stdout"
        }
      ]
    },
    {
      "cell_type": "code",
      "metadata": {
        "colab": {
          "base_uri": "https://localhost:8080/"
        },
        "id": "b6VrHAeb32zM",
        "outputId": "0353fdf0-1dbf-47a5-b3fa-c14d40f28152"
      },
      "source": [
        "eigvals, eigvecs = la.eig(A)\n",
        "print('Eigenvalores:', eigvals)\n",
        "print('Eigenvectores:', eigvecs) "
      ],
      "execution_count": null,
      "outputs": [
        {
          "output_type": "stream",
          "text": [
            "Eigenvalores: [0.+1.j 0.-1.j]\n",
            "Eigenvectores: [[0.70710678+0.j         0.70710678-0.j        ]\n",
            " [0.        +0.70710678j 0.        -0.70710678j]]\n"
          ],
          "name": "stdout"
        }
      ]
    },
    {
      "cell_type": "markdown",
      "metadata": {
        "id": "lPnchCEE5WII"
      },
      "source": [
        "Punto crítico del tipo centro"
      ]
    },
    {
      "cell_type": "code",
      "metadata": {
        "colab": {
          "base_uri": "https://localhost:8080/"
        },
        "id": "xxGmU9xL5dYw",
        "outputId": "1898cefd-b5fa-4f29-d250-cf6c22670e50"
      },
      "source": [
        "#Ahora la matriz B=0 y se rezuelve el sistema ax=0\n",
        "B=np.zeros((2,1))\n",
        "pcr=la.solve(A,B)\n",
        "print('x=',pcr[0],'\\n','y=',pcr[1])"
      ],
      "execution_count": null,
      "outputs": [
        {
          "output_type": "stream",
          "text": [
            "x= [-0.] \n",
            " y= [0.]\n"
          ],
          "name": "stdout"
        }
      ]
    },
    {
      "cell_type": "markdown",
      "metadata": {
        "id": "QqM0CoZQ6J-I"
      },
      "source": [
        "Se concluye que es un punto crítico del tipo centro\n",
        "       Por transformada de laplace se obtiene que (x y)=(c1cost + c2sent-c1sent + c2cost)"
      ]
    },
    {
      "cell_type": "code",
      "metadata": {
        "colab": {
          "base_uri": "https://localhost:8080/",
          "height": 299
        },
        "id": "2rxmwEF_6NNM",
        "outputId": "6b377634-9c37-47c7-dd41-82691f1054f0"
      },
      "source": [
        "def x(t,c1,c2):\n",
        "  t0=np.zeros((1000,))\n",
        "  T0=t\n",
        "  dydt=[c1*np.cos(t0)+c2*np.sin(t0),-c1*np.sin(t0)+c2*np.cos(t0)]\n",
        "  return dydt\n",
        "\n",
        "  t=np.linspace(0,50,1000)\n",
        "  c1=list(np.linspace(0.5,4,7))\n",
        "  c2=list(np.linspace(5,0.2,7))\n",
        "\n",
        "  plt.figure(figsize=(10,10))\n",
        "  for c,d in zip(c1,c2):\n",
        "    v=x(t,c,d)\n",
        "    m=np.array(v)\n",
        "    plt.plot(m[0,:],m[1,:],label=('$c_1$={:.2f'.format(c),'$c_2$={:.2f}'.format(d)))\n",
        "    plt.xlabel('x(t)')\n",
        "    plt.ylabel('y(t)')\n",
        "plt.title('soluciones')\n",
        "plt.legend()\n",
        "plt.show()"
      ],
      "execution_count": null,
      "outputs": [
        {
          "output_type": "stream",
          "text": [
            "No handles with labels found to put in legend.\n"
          ],
          "name": "stderr"
        },
        {
          "output_type": "display_data",
          "data": {
            "image/png": "[encoded data removed]",
            "text/plain": [
              "<Figure size 432x288 with 1 Axes>"
            ]
          },
          "metadata": {
            "tags": [],
            "needs_background": "light"
          }
        }
      ]
    },
    {
      "cell_type": "markdown",
      "metadata": {
        "id": "Arn2oIC1_UwQ"
      },
      "source": [
        "Ejercicio 2:"
      ]
    },
    {
      "cell_type": "code",
      "metadata": {
        "colab": {
          "base_uri": "https://localhost:8080/"
        },
        "id": "hrjpyPgB_XRq",
        "outputId": "30cf4354-b4b6-4b4a-c05b-8c9ed9b816d3"
      },
      "source": [
        "A = np.array([[0,1],[1,0]])\n",
        "print(A)"
      ],
      "execution_count": null,
      "outputs": [
        {
          "output_type": "stream",
          "text": [
            "[[0 1]\n",
            " [1 0]]\n"
          ],
          "name": "stdout"
        }
      ]
    },
    {
      "cell_type": "code",
      "metadata": {
        "colab": {
          "base_uri": "https://localhost:8080/"
        },
        "id": "i09Mw71w_jHw",
        "outputId": "2d130c33-b68a-4aac-83ce-ce76de937e13"
      },
      "source": [
        "eigvals, eigvecs = la.eig(A)\n",
        "print('Eigenvalores:', eigvals)\n",
        "print('Eigenvectores:', eigvecs)"
      ],
      "execution_count": null,
      "outputs": [
        {
          "output_type": "stream",
          "text": [
            "Eigenvalores: [ 1.+0.j -1.+0.j]\n",
            "Eigenvectores: [[ 0.70710678 -0.70710678]\n",
            " [ 0.70710678  0.70710678]]\n"
          ],
          "name": "stdout"
        }
      ]
    },
    {
      "cell_type": "markdown",
      "metadata": {
        "id": "RV6qBmjt_rGN"
      },
      "source": [
        "Punto silla"
      ]
    },
    {
      "cell_type": "code",
      "metadata": {
        "colab": {
          "base_uri": "https://localhost:8080/"
        },
        "id": "iSHzInbr_sJK",
        "outputId": "c95b757e-d8a7-4053-9aaa-e84f9d8fcd93"
      },
      "source": [
        "#Ahora la matriz B=0 y se rezuelve el sistema ax=0\n",
        "B=np.zeros((2,1))\n",
        "pcr=la.solve(A,B)\n",
        "print('x=',pcr[0],'\\n','y=',pcr[1])"
      ],
      "execution_count": null,
      "outputs": [
        {
          "output_type": "stream",
          "text": [
            "x= [0.] \n",
            " y= [0.]\n"
          ],
          "name": "stdout"
        }
      ]
    },
    {
      "cell_type": "markdown",
      "metadata": {
        "id": "R8SbtGif_7Bl"
      },
      "source": [
        "Definitivamente es del tipo silla, la solcuin del sistema es\n",
        "(x y)=(c1e^t-c2e^-tc1e^t+c2e^-t)"
      ]
    },
    {
      "cell_type": "code",
      "metadata": {
        "colab": {
          "base_uri": "https://localhost:8080/",
          "height": 298
        },
        "id": "1Yi3V69iAKHi",
        "outputId": "b2bd9794-7562-4d93-add2-87ce617f789d"
      },
      "source": [
        "def x(t,c1,c2):\n",
        "  dydt=[c1*np.exp(t)-c2*np.exp(-t), c1*np.exp(t)+c2*np.exp(-t)]\n",
        "  return dydt\n",
        "\n",
        "  t=np.linspace(-3,3,500)\n",
        "  c1=list(np.linspace(-1.3,1,7))\n",
        "  c2=list(np.linspace(1.2,-1,7))\n",
        "\n",
        "  plt.figure(figsize=(10,10))\n",
        "  for c,d in zip(c1,c2):\n",
        "    v=x(t,c,d)\n",
        "    m=np.array(v)\n",
        "    plt.plot(m[0,:],m[1,:],label=('$c_1$={:.2f'.format(c),'$c_2$={:.2f}'.format(d)))\n",
        "    plt.xlabel('x(t)')\n",
        "    plt.ylabel('y(t)')\n",
        "plt.title('soluciones')\n",
        "plt.legend()\n",
        "plt.show()"
      ],
      "execution_count": null,
      "outputs": [
        {
          "output_type": "stream",
          "text": [
            "No handles with labels found to put in legend.\n"
          ],
          "name": "stderr"
        },
        {
          "output_type": "display_data",
          "data": {
            "image/png": "[encoded data removed]",
            "text/plain": [
              "<Figure size 432x288 with 1 Axes>"
            ]
          },
          "metadata": {
            "tags": [],
            "needs_background": "light"
          }
        }
      ]
    },
    {
      "cell_type": "markdown",
      "metadata": {
        "id": "IwclqllZpCgF"
      },
      "source": [
        "Ejercicio 3:"
      ]
    },
    {
      "cell_type": "code",
      "metadata": {
        "colab": {
          "base_uri": "https://localhost:8080/"
        },
        "id": "lVSKkSOepE39",
        "outputId": "9626e0f2-c93a-425a-c75b-c98f9bc73747"
      },
      "source": [
        "#Encontramos los eigenvalores con una constante w0\n",
        "w0=1\n",
        "A=np.array([[0,1],[w0,0]])\n",
        "B=np.zeros((2,1))\n",
        "pcr=la.solve(A,B)\n",
        "print('x=',pcr[0],'y=',pcr[1])"
      ],
      "execution_count": null,
      "outputs": [
        {
          "output_type": "stream",
          "text": [
            "x= [0.] y= [0.]\n"
          ],
          "name": "stdout"
        }
      ]
    },
    {
      "cell_type": "markdown",
      "metadata": {
        "id": "vRQXBvwgEC45"
      },
      "source": [
        "Punto crítico tipo centro, la solucion del sistema es (x y)=(c1cos(w0t)´+c2sin(w0t)-c1sin(w0t)+c2cos(w0t))"
      ]
    },
    {
      "cell_type": "code",
      "metadata": {
        "colab": {
          "base_uri": "https://localhost:8080/",
          "height": 299
        },
        "id": "-dxZEEizEWPx",
        "outputId": "b42eff65-1bd3-4c37-a07c-8157edd99d1c"
      },
      "source": [
        "def x(t,c1,c2,w0):\n",
        "  dydt=[c1*np.cos(w0*t)+c2*np.sin(w0*t),-c1*np.sin(w0*t)+c2*np.cos(w0*t)]\n",
        "  return dydt\n",
        "\n",
        "  w0=10\n",
        "\n",
        "  t=np.linspace(-3,3,500)\n",
        "  c1=list(np.linspace(-1.3,1,7))\n",
        "  c2=list(np.linspace(1.2,-1,7))\n",
        "\n",
        "  plt.figure(figsize=(10,10))\n",
        "  for c,d in zip(c1,c2):\n",
        "    v=x(t,c,d,w0)\n",
        "    m=np.array(v)\n",
        "    plt.plot(m[0,:],m[1,:],label=('$c_1$={:.2f'.format(c),'$c_2$={:.2f}'.format(d)))\n",
        "    plt.xlabel('x(t)')\n",
        "    plt.ylabel('y(t)')\n",
        "plt.title(('soluciones'))\n",
        "plt.legend()\n",
        "plt.show()"
      ],
      "execution_count": null,
      "outputs": [
        {
          "output_type": "stream",
          "text": [
            "No handles with labels found to put in legend.\n"
          ],
          "name": "stderr"
        },
        {
          "output_type": "display_data",
          "data": {
            "image/png": "[encoded data removed]",
            "text/plain": [
              "<Figure size 432x288 with 1 Axes>"
            ]
          },
          "metadata": {
            "tags": [],
            "needs_background": "light"
          }
        }
      ]
    },
    {
      "cell_type": "markdown",
      "metadata": {
        "id": "txJKF62MJ3RW"
      },
      "source": [
        "Ejercicio 4:"
      ]
    },
    {
      "cell_type": "code",
      "metadata": {
        "colab": {
          "base_uri": "https://localhost:8080/"
        },
        "id": "syLdkde8J5sC",
        "outputId": "dad6de87-4e55-4fc4-dd1a-3803e0729dd7"
      },
      "source": [
        "A1 = np.array([[-2,0,0],[0,0,2],[0,-2,0]])\n",
        "A2 = np.array([[0,-2],[2,0]])\n",
        "eigenval, eigenvec = la.eig(A1)\n",
        "print(eigenval)\n",
        "eigenval, eigenvec = la.eig(A2)"
      ],
      "execution_count": null,
      "outputs": [
        {
          "output_type": "stream",
          "text": [
            "[ 0.+2.j  0.-2.j -2.+0.j]\n"
          ],
          "name": "stdout"
        }
      ]
    },
    {
      "cell_type": "markdown",
      "metadata": {
        "id": "RqJuzGq4LZj6"
      },
      "source": [
        "Encontrando puntos críticos resolviendo el sistema:"
      ]
    },
    {
      "cell_type": "code",
      "metadata": {
        "colab": {
          "base_uri": "https://localhost:8080/",
          "height": 316
        },
        "id": "w23BZQYaLcaC",
        "outputId": "76b23fcf-3774-4a5b-dee5-53b7156e9c75"
      },
      "source": [
        "B=np.zeros((3,1))\n",
        "pcr=la.solve(A1,A2)\n",
        "print('x=',pcr[0],'y=',pcr[1])"
      ],
      "execution_count": null,
      "outputs": [
        {
          "output_type": "error",
          "ename": "ValueError",
          "evalue": "ignored",
          "traceback": [
            "\u001b[0;31m---------------------------------------------------------------------------\u001b[0m",
            "\u001b[0;31mValueError\u001b[0m                                Traceback (most recent call last)",
            "\u001b[0;32m<ipython-input-98-d9b74841f843>\u001b[0m in \u001b[0;36m<module>\u001b[0;34m()\u001b[0m\n\u001b[1;32m      1\u001b[0m \u001b[0mB\u001b[0m\u001b[0;34m=\u001b[0m\u001b[0mnp\u001b[0m\u001b[0;34m.\u001b[0m\u001b[0mzeros\u001b[0m\u001b[0;34m(\u001b[0m\u001b[0;34m(\u001b[0m\u001b[0;36m3\u001b[0m\u001b[0;34m,\u001b[0m\u001b[0;36m1\u001b[0m\u001b[0;34m)\u001b[0m\u001b[0;34m)\u001b[0m\u001b[0;34m\u001b[0m\u001b[0;34m\u001b[0m\u001b[0m\n\u001b[0;32m----> 2\u001b[0;31m \u001b[0mpcr\u001b[0m\u001b[0;34m=\u001b[0m\u001b[0mla\u001b[0m\u001b[0;34m.\u001b[0m\u001b[0msolve\u001b[0m\u001b[0;34m(\u001b[0m\u001b[0mA1\u001b[0m\u001b[0;34m,\u001b[0m\u001b[0mA2\u001b[0m\u001b[0;34m)\u001b[0m\u001b[0;34m\u001b[0m\u001b[0;34m\u001b[0m\u001b[0m\n\u001b[0m\u001b[1;32m      3\u001b[0m \u001b[0mprint\u001b[0m\u001b[0;34m(\u001b[0m\u001b[0;34m'x='\u001b[0m\u001b[0;34m,\u001b[0m\u001b[0mpcr\u001b[0m\u001b[0;34m[\u001b[0m\u001b[0;36m0\u001b[0m\u001b[0;34m]\u001b[0m\u001b[0;34m,\u001b[0m\u001b[0;34m'y='\u001b[0m\u001b[0;34m,\u001b[0m\u001b[0mpcr\u001b[0m\u001b[0;34m[\u001b[0m\u001b[0;36m1\u001b[0m\u001b[0;34m]\u001b[0m\u001b[0;34m)\u001b[0m\u001b[0;34m\u001b[0m\u001b[0;34m\u001b[0m\u001b[0m\n",
            "\u001b[0;32m/usr/local/lib/python3.7/dist-packages/scipy/linalg/basic.py\u001b[0m in \u001b[0;36msolve\u001b[0;34m(a, b, sym_pos, lower, overwrite_a, overwrite_b, debug, check_finite, assume_a, transposed)\u001b[0m\n\u001b[1;32m    150\u001b[0m         \u001b[0;31m# Last chance to catch 1x1 scalar a and 1D b arrays\u001b[0m\u001b[0;34m\u001b[0m\u001b[0;34m\u001b[0m\u001b[0;34m\u001b[0m\u001b[0m\n\u001b[1;32m    151\u001b[0m         \u001b[0;32mif\u001b[0m \u001b[0;32mnot\u001b[0m \u001b[0;34m(\u001b[0m\u001b[0mn\u001b[0m \u001b[0;34m==\u001b[0m \u001b[0;36m1\u001b[0m \u001b[0;32mand\u001b[0m \u001b[0mb1\u001b[0m\u001b[0;34m.\u001b[0m\u001b[0msize\u001b[0m \u001b[0;34m!=\u001b[0m \u001b[0;36m0\u001b[0m\u001b[0;34m)\u001b[0m\u001b[0;34m:\u001b[0m\u001b[0;34m\u001b[0m\u001b[0;34m\u001b[0m\u001b[0m\n\u001b[0;32m--> 152\u001b[0;31m             raise ValueError('Input b has to have same number of rows as '\n\u001b[0m\u001b[1;32m    153\u001b[0m                              'input a')\n\u001b[1;32m    154\u001b[0m \u001b[0;34m\u001b[0m\u001b[0m\n",
            "\u001b[0;31mValueError\u001b[0m: Input b has to have same number of rows as input a"
          ]
        }
      ]
    },
    {
      "cell_type": "code",
      "metadata": {
        "id": "NPxihhs-MNID"
      },
      "source": [
        "#Definiendo\n",
        "def x(t, c1, c2, c3):\n",
        "  dydt=[c1*np.exp(-2*t), c2*np.cos(2*t)+c3*np.sin(2*t), -c2*np.sin(2*t)+c3*np.cos(2*t)]\n",
        "  return r\n",
        "\n",
        "  t=np.linspace(-10,30,1000)\n",
        "  c1=list(np.linspace(-1,5,7))\n",
        "  c2=list(np.linspace(5,-1,6))\n",
        "  c3=list(np.linspace(-7,4,5))\n",
        "\n",
        "  plt.figure(figsize=(10,10))\n",
        "  for c,d in zip(c1,c2,c3):\n",
        "    v=x(t,c,d,e)\n",
        "    m=np.array(v)\n",
        "  ax.plot3D(m[0,:],m[1,:],m[2,:])\n",
        "  plt.xlabel('x(t)')\n",
        "  plt.ylabel('y(t)')\n",
        "  ax.set_zlabel('z(t)')\n",
        "  plt.title('hola')\n",
        "  plt.show()"
      ],
      "execution_count": null,
      "outputs": []
    },
    {
      "cell_type": "markdown",
      "metadata": {
        "id": "swvK3hA_ioe-"
      },
      "source": [
        "Ejercicio 5:"
      ]
    },
    {
      "cell_type": "code",
      "metadata": {
        "colab": {
          "base_uri": "https://localhost:8080/"
        },
        "id": "oWVZy14lircs",
        "outputId": "3c1f87c7-d22c-457b-a456-c30e3cca06da"
      },
      "source": [
        "#Obtener los eigenvalores por separado\n",
        "A1 = np.array([[-1,0,1],[0,3,0],[-1,0,-1]])\n",
        "A2 = np.array([[-1,1],[-1,-1]])\n",
        "print(A1)\n",
        "print(A2)"
      ],
      "execution_count": null,
      "outputs": [
        {
          "output_type": "stream",
          "text": [
            "[[-1  0  1]\n",
            " [ 0  3  0]\n",
            " [-1  0 -1]]\n",
            "[[-1  1]\n",
            " [-1 -1]]\n"
          ],
          "name": "stdout"
        }
      ]
    },
    {
      "cell_type": "code",
      "metadata": {
        "colab": {
          "base_uri": "https://localhost:8080/"
        },
        "id": "svKfiWE3jgkS",
        "outputId": "9910f6e2-03f7-4a72-bd20-56281914e23a"
      },
      "source": [
        "eigvals, eigvecs = la.eig(A)\n",
        "print('Eigenvalores:', eigvals)\n",
        "print('Eigenvectores:', eigvecs)"
      ],
      "execution_count": null,
      "outputs": [
        {
          "output_type": "stream",
          "text": [
            "Eigenvalores: [ 1.+0.j -1.+0.j]\n",
            "Eigenvectores: [[ 0.70710678 -0.70710678]\n",
            " [ 0.70710678  0.70710678]]\n"
          ],
          "name": "stdout"
        }
      ]
    },
    {
      "cell_type": "code",
      "metadata": {
        "colab": {
          "base_uri": "https://localhost:8080/",
          "height": 371
        },
        "id": "gA_1V9fbjmZJ",
        "outputId": "d6786dbc-f74f-411c-eec9-806955c43da0"
      },
      "source": [
        "#Encontrando puntos críticos\n",
        "\n",
        "B=np.zeros((3,1))\n",
        "pcr=la.solve(A,B)\n",
        "print('x=',pcr[0],'\\n','y=',pcr[1])"
      ],
      "execution_count": null,
      "outputs": [
        {
          "output_type": "error",
          "ename": "ValueError",
          "evalue": "ignored",
          "traceback": [
            "\u001b[0;31m---------------------------------------------------------------------------\u001b[0m",
            "\u001b[0;31mValueError\u001b[0m                                Traceback (most recent call last)",
            "\u001b[0;32m<ipython-input-113-527833610d7a>\u001b[0m in \u001b[0;36m<module>\u001b[0;34m()\u001b[0m\n\u001b[1;32m      2\u001b[0m \u001b[0;34m\u001b[0m\u001b[0m\n\u001b[1;32m      3\u001b[0m \u001b[0mB\u001b[0m\u001b[0;34m=\u001b[0m\u001b[0mnp\u001b[0m\u001b[0;34m.\u001b[0m\u001b[0mzeros\u001b[0m\u001b[0;34m(\u001b[0m\u001b[0;34m(\u001b[0m\u001b[0;36m3\u001b[0m\u001b[0;34m,\u001b[0m\u001b[0;36m1\u001b[0m\u001b[0;34m)\u001b[0m\u001b[0;34m)\u001b[0m\u001b[0;34m\u001b[0m\u001b[0;34m\u001b[0m\u001b[0m\n\u001b[0;32m----> 4\u001b[0;31m \u001b[0mpcr\u001b[0m\u001b[0;34m=\u001b[0m\u001b[0mla\u001b[0m\u001b[0;34m.\u001b[0m\u001b[0msolve\u001b[0m\u001b[0;34m(\u001b[0m\u001b[0mA\u001b[0m\u001b[0;34m,\u001b[0m\u001b[0mB\u001b[0m\u001b[0;34m)\u001b[0m\u001b[0;34m\u001b[0m\u001b[0;34m\u001b[0m\u001b[0m\n\u001b[0m\u001b[1;32m      5\u001b[0m \u001b[0mprint\u001b[0m\u001b[0;34m(\u001b[0m\u001b[0;34m'x='\u001b[0m\u001b[0;34m,\u001b[0m\u001b[0mpcr\u001b[0m\u001b[0;34m[\u001b[0m\u001b[0;36m0\u001b[0m\u001b[0;34m]\u001b[0m\u001b[0;34m,\u001b[0m\u001b[0;34m'\\n'\u001b[0m\u001b[0;34m,\u001b[0m\u001b[0;34m'y='\u001b[0m\u001b[0;34m,\u001b[0m\u001b[0mpcr\u001b[0m\u001b[0;34m[\u001b[0m\u001b[0;36m1\u001b[0m\u001b[0;34m]\u001b[0m\u001b[0;34m)\u001b[0m\u001b[0;34m\u001b[0m\u001b[0;34m\u001b[0m\u001b[0m\n",
            "\u001b[0;32m/usr/local/lib/python3.7/dist-packages/scipy/linalg/basic.py\u001b[0m in \u001b[0;36msolve\u001b[0;34m(a, b, sym_pos, lower, overwrite_a, overwrite_b, debug, check_finite, assume_a, transposed)\u001b[0m\n\u001b[1;32m    150\u001b[0m         \u001b[0;31m# Last chance to catch 1x1 scalar a and 1D b arrays\u001b[0m\u001b[0;34m\u001b[0m\u001b[0;34m\u001b[0m\u001b[0;34m\u001b[0m\u001b[0m\n\u001b[1;32m    151\u001b[0m         \u001b[0;32mif\u001b[0m \u001b[0;32mnot\u001b[0m \u001b[0;34m(\u001b[0m\u001b[0mn\u001b[0m \u001b[0;34m==\u001b[0m \u001b[0;36m1\u001b[0m \u001b[0;32mand\u001b[0m \u001b[0mb1\u001b[0m\u001b[0;34m.\u001b[0m\u001b[0msize\u001b[0m \u001b[0;34m!=\u001b[0m \u001b[0;36m0\u001b[0m\u001b[0;34m)\u001b[0m\u001b[0;34m:\u001b[0m\u001b[0;34m\u001b[0m\u001b[0;34m\u001b[0m\u001b[0m\n\u001b[0;32m--> 152\u001b[0;31m             raise ValueError('Input b has to have same number of rows as '\n\u001b[0m\u001b[1;32m    153\u001b[0m                              'input a')\n\u001b[1;32m    154\u001b[0m \u001b[0;34m\u001b[0m\u001b[0m\n",
            "\u001b[0;31mValueError\u001b[0m: Input b has to have same number of rows as input a"
          ]
        }
      ]
    },
    {
      "cell_type": "code",
      "metadata": {
        "id": "nRKtu1JRkS-d"
      },
      "source": [
        "#Definiendo\n",
        "def x(t, c1, c2, c3):\n",
        "  dydt=[np.exp(-t)*(c1*np.sin(t)+c3*np.cos(t)), c2*np.exp(3*t), np.exp(-t)*(c3*np.sin(t)-c1*np.cos(t))]\n",
        "  return dydt\n",
        "\n",
        "  t=np.linspace(-10,30,1000)\n",
        "  c1=list(np.linspace(-1,5,7))\n",
        "  c2=list(np.linspace(5,-1,6))\n",
        "  c3=list(np.linspace(-7,4,5))\n",
        "\n",
        "  fig=plt.figure(figsize=(10,10))\n",
        "  ax=plt.axes(projection='3d')\n",
        "  for c,d in zip(c1,c2,c3):\n",
        "    v=x(t,c,d,e)\n",
        "    m=np.array(v)\n",
        "  ax.plot3D(m[0,:],m[1,:],m[2,:])\n",
        "  plt.xlabel('x(t)')\n",
        "  plt.ylabel('y(t)')\n",
        "  ax.set_zlabel('z(t)')\n",
        "  plt.title('hola')\n",
        "  plt.show()"
      ],
      "execution_count": null,
      "outputs": []
    },
    {
      "cell_type": "markdown",
      "metadata": {
        "id": "SbzsITETn1Aa"
      },
      "source": [
        "Ejercicio 6:"
      ]
    },
    {
      "cell_type": "code",
      "metadata": {
        "id": "t9PpzK57pTGB"
      },
      "source": [
        "from scipy.integrate import odeint, solve_ivp"
      ],
      "execution_count": null,
      "outputs": []
    },
    {
      "cell_type": "code",
      "metadata": {
        "colab": {
          "base_uri": "https://localhost:8080/",
          "height": 391
        },
        "id": "vSMz3MpNlrU0",
        "outputId": "b9dd4b3c-dbd2-46c9-8317-9efd1c1ab9be"
      },
      "source": [
        "def Ec6(t,y):\n",
        "  x, v = y\n",
        "  dydt=[-x, x+2*v]\n",
        "  return dydt\n",
        "\n",
        "t=np.linspace(0,5,500)\n",
        "y0=[0,3]\n",
        "\n",
        "plt.figure(figsize=(10,10))\n",
        "y=odeint(Ec6,y0,t)\n",
        "plt.plot(t,y[0: 0],'k',label='$x(t)$')\n",
        "plt.plot(t,y[0: 0],'k',label='$x(t)$')\n",
        "plt,title('Soluciones')\n",
        "plt.xlabel('t')\n",
        "plt.ylabel('y')\n",
        "plt.legend()\n",
        "plt.show()\n",
        "\n"
      ],
      "execution_count": null,
      "outputs": [
        {
          "output_type": "error",
          "ename": "TypeError",
          "evalue": "ignored",
          "traceback": [
            "\u001b[0;31m---------------------------------------------------------------------------\u001b[0m",
            "\u001b[0;31mTypeError\u001b[0m                                 Traceback (most recent call last)",
            "\u001b[0;32m<ipython-input-134-1f8f88f4409f>\u001b[0m in \u001b[0;36m<module>\u001b[0;34m()\u001b[0m\n\u001b[1;32m      8\u001b[0m \u001b[0;34m\u001b[0m\u001b[0m\n\u001b[1;32m      9\u001b[0m \u001b[0mplt\u001b[0m\u001b[0;34m.\u001b[0m\u001b[0mfigure\u001b[0m\u001b[0;34m(\u001b[0m\u001b[0mfigsize\u001b[0m\u001b[0;34m=\u001b[0m\u001b[0;34m(\u001b[0m\u001b[0;36m10\u001b[0m\u001b[0;34m,\u001b[0m\u001b[0;36m10\u001b[0m\u001b[0;34m)\u001b[0m\u001b[0;34m)\u001b[0m\u001b[0;34m\u001b[0m\u001b[0;34m\u001b[0m\u001b[0m\n\u001b[0;32m---> 10\u001b[0;31m \u001b[0my\u001b[0m\u001b[0;34m=\u001b[0m\u001b[0modeint\u001b[0m\u001b[0;34m(\u001b[0m\u001b[0mEc6\u001b[0m\u001b[0;34m,\u001b[0m\u001b[0my0\u001b[0m\u001b[0;34m,\u001b[0m\u001b[0mt\u001b[0m\u001b[0;34m)\u001b[0m\u001b[0;34m\u001b[0m\u001b[0;34m\u001b[0m\u001b[0m\n\u001b[0m\u001b[1;32m     11\u001b[0m \u001b[0mplt\u001b[0m\u001b[0;34m.\u001b[0m\u001b[0mplot\u001b[0m\u001b[0;34m(\u001b[0m\u001b[0mt\u001b[0m\u001b[0;34m,\u001b[0m\u001b[0my\u001b[0m\u001b[0;34m[\u001b[0m\u001b[0;36m0\u001b[0m\u001b[0;34m:\u001b[0m \u001b[0;36m0\u001b[0m\u001b[0;34m]\u001b[0m\u001b[0;34m,\u001b[0m\u001b[0;34m'k'\u001b[0m\u001b[0;34m,\u001b[0m\u001b[0mlabel\u001b[0m\u001b[0;34m=\u001b[0m\u001b[0;34m'$x(t)$'\u001b[0m\u001b[0;34m)\u001b[0m\u001b[0;34m\u001b[0m\u001b[0;34m\u001b[0m\u001b[0m\n\u001b[1;32m     12\u001b[0m \u001b[0mplt\u001b[0m\u001b[0;34m.\u001b[0m\u001b[0mplot\u001b[0m\u001b[0;34m(\u001b[0m\u001b[0mt\u001b[0m\u001b[0;34m,\u001b[0m\u001b[0my\u001b[0m\u001b[0;34m[\u001b[0m\u001b[0;36m0\u001b[0m\u001b[0;34m:\u001b[0m \u001b[0;36m0\u001b[0m\u001b[0;34m]\u001b[0m\u001b[0;34m,\u001b[0m\u001b[0;34m'k'\u001b[0m\u001b[0;34m,\u001b[0m\u001b[0mlabel\u001b[0m\u001b[0;34m=\u001b[0m\u001b[0;34m'$x(t)$'\u001b[0m\u001b[0;34m)\u001b[0m\u001b[0;34m\u001b[0m\u001b[0;34m\u001b[0m\u001b[0m\n",
            "\u001b[0;32m/usr/local/lib/python3.7/dist-packages/scipy/integrate/odepack.py\u001b[0m in \u001b[0;36modeint\u001b[0;34m(func, y0, t, args, Dfun, col_deriv, full_output, ml, mu, rtol, atol, tcrit, h0, hmax, hmin, ixpr, mxstep, mxhnil, mxordn, mxords, printmessg, tfirst)\u001b[0m\n\u001b[1;32m    243\u001b[0m                              \u001b[0mfull_output\u001b[0m\u001b[0;34m,\u001b[0m \u001b[0mrtol\u001b[0m\u001b[0;34m,\u001b[0m \u001b[0matol\u001b[0m\u001b[0;34m,\u001b[0m \u001b[0mtcrit\u001b[0m\u001b[0;34m,\u001b[0m \u001b[0mh0\u001b[0m\u001b[0;34m,\u001b[0m \u001b[0mhmax\u001b[0m\u001b[0;34m,\u001b[0m \u001b[0mhmin\u001b[0m\u001b[0;34m,\u001b[0m\u001b[0;34m\u001b[0m\u001b[0;34m\u001b[0m\u001b[0m\n\u001b[1;32m    244\u001b[0m                              \u001b[0mixpr\u001b[0m\u001b[0;34m,\u001b[0m \u001b[0mmxstep\u001b[0m\u001b[0;34m,\u001b[0m \u001b[0mmxhnil\u001b[0m\u001b[0;34m,\u001b[0m \u001b[0mmxordn\u001b[0m\u001b[0;34m,\u001b[0m \u001b[0mmxords\u001b[0m\u001b[0;34m,\u001b[0m\u001b[0;34m\u001b[0m\u001b[0;34m\u001b[0m\u001b[0m\n\u001b[0;32m--> 245\u001b[0;31m                              int(bool(tfirst)))\n\u001b[0m\u001b[1;32m    246\u001b[0m     \u001b[0;32mif\u001b[0m \u001b[0moutput\u001b[0m\u001b[0;34m[\u001b[0m\u001b[0;34m-\u001b[0m\u001b[0;36m1\u001b[0m\u001b[0;34m]\u001b[0m \u001b[0;34m<\u001b[0m \u001b[0;36m0\u001b[0m\u001b[0;34m:\u001b[0m\u001b[0;34m\u001b[0m\u001b[0;34m\u001b[0m\u001b[0m\n\u001b[1;32m    247\u001b[0m         \u001b[0mwarning_msg\u001b[0m \u001b[0;34m=\u001b[0m \u001b[0m_msgs\u001b[0m\u001b[0;34m[\u001b[0m\u001b[0moutput\u001b[0m\u001b[0;34m[\u001b[0m\u001b[0;34m-\u001b[0m\u001b[0;36m1\u001b[0m\u001b[0;34m]\u001b[0m\u001b[0;34m]\u001b[0m \u001b[0;34m+\u001b[0m \u001b[0;34m\" Run with full_output = 1 to get quantitative information.\"\u001b[0m\u001b[0;34m\u001b[0m\u001b[0;34m\u001b[0m\u001b[0m\n",
            "\u001b[0;32m<ipython-input-134-1f8f88f4409f>\u001b[0m in \u001b[0;36mEc6\u001b[0;34m(t, y)\u001b[0m\n\u001b[1;32m      1\u001b[0m \u001b[0;32mdef\u001b[0m \u001b[0mEc6\u001b[0m\u001b[0;34m(\u001b[0m\u001b[0mt\u001b[0m\u001b[0;34m,\u001b[0m\u001b[0my\u001b[0m\u001b[0;34m)\u001b[0m\u001b[0;34m:\u001b[0m\u001b[0;34m\u001b[0m\u001b[0;34m\u001b[0m\u001b[0m\n\u001b[0;32m----> 2\u001b[0;31m   \u001b[0mx\u001b[0m\u001b[0;34m,\u001b[0m \u001b[0mv\u001b[0m \u001b[0;34m=\u001b[0m \u001b[0my\u001b[0m\u001b[0;34m\u001b[0m\u001b[0;34m\u001b[0m\u001b[0m\n\u001b[0m\u001b[1;32m      3\u001b[0m   \u001b[0mdydt\u001b[0m\u001b[0;34m=\u001b[0m\u001b[0;34m[\u001b[0m\u001b[0;34m-\u001b[0m\u001b[0mx\u001b[0m\u001b[0;34m,\u001b[0m \u001b[0mx\u001b[0m\u001b[0;34m+\u001b[0m\u001b[0;36m2\u001b[0m\u001b[0;34m*\u001b[0m\u001b[0mv\u001b[0m\u001b[0;34m]\u001b[0m\u001b[0;34m\u001b[0m\u001b[0;34m\u001b[0m\u001b[0m\n\u001b[1;32m      4\u001b[0m   \u001b[0;32mreturn\u001b[0m \u001b[0mdydt\u001b[0m\u001b[0;34m\u001b[0m\u001b[0;34m\u001b[0m\u001b[0m\n\u001b[1;32m      5\u001b[0m \u001b[0;34m\u001b[0m\u001b[0m\n",
            "\u001b[0;31mTypeError\u001b[0m: cannot unpack non-iterable float object"
          ]
        },
        {
          "output_type": "display_data",
          "data": {
            "text/plain": [
              "<Figure size 720x720 with 0 Axes>"
            ]
          },
          "metadata": {
            "tags": []
          }
        }
      ]
    },
    {
      "cell_type": "code",
      "metadata": {
        "colab": {
          "base_uri": "https://localhost:8080/",
          "height": 391
        },
        "id": "XumJ7X7osWTQ",
        "outputId": "38d9e8ae-7c48-4c40-c917-03438faefd26"
      },
      "source": [
        "def Ec7(t, y):\n",
        " x, v = y\n",
        " dydt = [2*x+v, x+v]\n",
        " return dydt\n",
        "\n",
        "t=np.linspace(0,5,500)\n",
        "y0=[1,1]\n",
        "\n",
        "plt.figure(figsize=(10,10))\n",
        "y=odeint(Ec7,y0,t)\n",
        "plt.plot(t,y[0: 0],'k',label='$x(t)$')\n",
        "plt.plot(t,y[0: 0],'k',label='$x(t)$')\n",
        "plt,title('Soluciones')\n",
        "plt.xlabel('t')\n",
        "plt.ylabel('y')\n",
        "plt.legend()\n",
        "plt.show()\n"
      ],
      "execution_count": null,
      "outputs": [
        {
          "output_type": "error",
          "ename": "TypeError",
          "evalue": "ignored",
          "traceback": [
            "\u001b[0;31m---------------------------------------------------------------------------\u001b[0m",
            "\u001b[0;31mTypeError\u001b[0m                                 Traceback (most recent call last)",
            "\u001b[0;32m<ipython-input-137-511cae468242>\u001b[0m in \u001b[0;36m<module>\u001b[0;34m()\u001b[0m\n\u001b[1;32m      9\u001b[0m \u001b[0;34m\u001b[0m\u001b[0m\n\u001b[1;32m     10\u001b[0m \u001b[0mplt\u001b[0m\u001b[0;34m.\u001b[0m\u001b[0mfigure\u001b[0m\u001b[0;34m(\u001b[0m\u001b[0mfigsize\u001b[0m\u001b[0;34m=\u001b[0m\u001b[0;34m(\u001b[0m\u001b[0;36m10\u001b[0m\u001b[0;34m,\u001b[0m\u001b[0;36m10\u001b[0m\u001b[0;34m)\u001b[0m\u001b[0;34m)\u001b[0m\u001b[0;34m\u001b[0m\u001b[0;34m\u001b[0m\u001b[0m\n\u001b[0;32m---> 11\u001b[0;31m \u001b[0my\u001b[0m\u001b[0;34m=\u001b[0m\u001b[0modeint\u001b[0m\u001b[0;34m(\u001b[0m\u001b[0mEc7\u001b[0m\u001b[0;34m,\u001b[0m\u001b[0my0\u001b[0m\u001b[0;34m,\u001b[0m\u001b[0mt\u001b[0m\u001b[0;34m)\u001b[0m\u001b[0;34m\u001b[0m\u001b[0;34m\u001b[0m\u001b[0m\n\u001b[0m\u001b[1;32m     12\u001b[0m \u001b[0mplt\u001b[0m\u001b[0;34m.\u001b[0m\u001b[0mplot\u001b[0m\u001b[0;34m(\u001b[0m\u001b[0mt\u001b[0m\u001b[0;34m,\u001b[0m\u001b[0my\u001b[0m\u001b[0;34m[\u001b[0m\u001b[0;36m0\u001b[0m\u001b[0;34m:\u001b[0m \u001b[0;36m0\u001b[0m\u001b[0;34m]\u001b[0m\u001b[0;34m,\u001b[0m\u001b[0;34m'k'\u001b[0m\u001b[0;34m,\u001b[0m\u001b[0mlabel\u001b[0m\u001b[0;34m=\u001b[0m\u001b[0;34m'$x(t)$'\u001b[0m\u001b[0;34m)\u001b[0m\u001b[0;34m\u001b[0m\u001b[0;34m\u001b[0m\u001b[0m\n\u001b[1;32m     13\u001b[0m \u001b[0mplt\u001b[0m\u001b[0;34m.\u001b[0m\u001b[0mplot\u001b[0m\u001b[0;34m(\u001b[0m\u001b[0mt\u001b[0m\u001b[0;34m,\u001b[0m\u001b[0my\u001b[0m\u001b[0;34m[\u001b[0m\u001b[0;36m0\u001b[0m\u001b[0;34m:\u001b[0m \u001b[0;36m0\u001b[0m\u001b[0;34m]\u001b[0m\u001b[0;34m,\u001b[0m\u001b[0;34m'k'\u001b[0m\u001b[0;34m,\u001b[0m\u001b[0mlabel\u001b[0m\u001b[0;34m=\u001b[0m\u001b[0;34m'$x(t)$'\u001b[0m\u001b[0;34m)\u001b[0m\u001b[0;34m\u001b[0m\u001b[0;34m\u001b[0m\u001b[0m\n",
            "\u001b[0;32m/usr/local/lib/python3.7/dist-packages/scipy/integrate/odepack.py\u001b[0m in \u001b[0;36modeint\u001b[0;34m(func, y0, t, args, Dfun, col_deriv, full_output, ml, mu, rtol, atol, tcrit, h0, hmax, hmin, ixpr, mxstep, mxhnil, mxordn, mxords, printmessg, tfirst)\u001b[0m\n\u001b[1;32m    243\u001b[0m                              \u001b[0mfull_output\u001b[0m\u001b[0;34m,\u001b[0m \u001b[0mrtol\u001b[0m\u001b[0;34m,\u001b[0m \u001b[0matol\u001b[0m\u001b[0;34m,\u001b[0m \u001b[0mtcrit\u001b[0m\u001b[0;34m,\u001b[0m \u001b[0mh0\u001b[0m\u001b[0;34m,\u001b[0m \u001b[0mhmax\u001b[0m\u001b[0;34m,\u001b[0m \u001b[0mhmin\u001b[0m\u001b[0;34m,\u001b[0m\u001b[0;34m\u001b[0m\u001b[0;34m\u001b[0m\u001b[0m\n\u001b[1;32m    244\u001b[0m                              \u001b[0mixpr\u001b[0m\u001b[0;34m,\u001b[0m \u001b[0mmxstep\u001b[0m\u001b[0;34m,\u001b[0m \u001b[0mmxhnil\u001b[0m\u001b[0;34m,\u001b[0m \u001b[0mmxordn\u001b[0m\u001b[0;34m,\u001b[0m \u001b[0mmxords\u001b[0m\u001b[0;34m,\u001b[0m\u001b[0;34m\u001b[0m\u001b[0;34m\u001b[0m\u001b[0m\n\u001b[0;32m--> 245\u001b[0;31m                              int(bool(tfirst)))\n\u001b[0m\u001b[1;32m    246\u001b[0m     \u001b[0;32mif\u001b[0m \u001b[0moutput\u001b[0m\u001b[0;34m[\u001b[0m\u001b[0;34m-\u001b[0m\u001b[0;36m1\u001b[0m\u001b[0;34m]\u001b[0m \u001b[0;34m<\u001b[0m \u001b[0;36m0\u001b[0m\u001b[0;34m:\u001b[0m\u001b[0;34m\u001b[0m\u001b[0;34m\u001b[0m\u001b[0m\n\u001b[1;32m    247\u001b[0m         \u001b[0mwarning_msg\u001b[0m \u001b[0;34m=\u001b[0m \u001b[0m_msgs\u001b[0m\u001b[0;34m[\u001b[0m\u001b[0moutput\u001b[0m\u001b[0;34m[\u001b[0m\u001b[0;34m-\u001b[0m\u001b[0;36m1\u001b[0m\u001b[0;34m]\u001b[0m\u001b[0;34m]\u001b[0m \u001b[0;34m+\u001b[0m \u001b[0;34m\" Run with full_output = 1 to get quantitative information.\"\u001b[0m\u001b[0;34m\u001b[0m\u001b[0;34m\u001b[0m\u001b[0m\n",
            "\u001b[0;32m<ipython-input-137-511cae468242>\u001b[0m in \u001b[0;36mEc7\u001b[0;34m(t, y)\u001b[0m\n\u001b[1;32m      1\u001b[0m \u001b[0;32mfrom\u001b[0m \u001b[0mscipy\u001b[0m\u001b[0;34m.\u001b[0m\u001b[0mintegrate\u001b[0m \u001b[0;32mimport\u001b[0m \u001b[0modeint\u001b[0m\u001b[0;34m,\u001b[0m \u001b[0msolve_ivp\u001b[0m\u001b[0;34m\u001b[0m\u001b[0;34m\u001b[0m\u001b[0m\n\u001b[1;32m      2\u001b[0m \u001b[0;32mdef\u001b[0m \u001b[0mEc7\u001b[0m\u001b[0;34m(\u001b[0m\u001b[0mt\u001b[0m\u001b[0;34m,\u001b[0m \u001b[0my\u001b[0m\u001b[0;34m)\u001b[0m\u001b[0;34m:\u001b[0m\u001b[0;34m\u001b[0m\u001b[0;34m\u001b[0m\u001b[0m\n\u001b[0;32m----> 3\u001b[0;31m  \u001b[0mx\u001b[0m\u001b[0;34m,\u001b[0m \u001b[0mv\u001b[0m \u001b[0;34m=\u001b[0m \u001b[0my\u001b[0m\u001b[0;34m\u001b[0m\u001b[0;34m\u001b[0m\u001b[0m\n\u001b[0m\u001b[1;32m      4\u001b[0m  \u001b[0mdydt\u001b[0m \u001b[0;34m=\u001b[0m \u001b[0;34m[\u001b[0m\u001b[0;36m2\u001b[0m\u001b[0;34m*\u001b[0m\u001b[0mx\u001b[0m\u001b[0;34m+\u001b[0m\u001b[0mv\u001b[0m\u001b[0;34m,\u001b[0m \u001b[0mx\u001b[0m\u001b[0;34m+\u001b[0m\u001b[0mv\u001b[0m\u001b[0;34m]\u001b[0m\u001b[0;34m\u001b[0m\u001b[0;34m\u001b[0m\u001b[0m\n\u001b[1;32m      5\u001b[0m  \u001b[0;32mreturn\u001b[0m \u001b[0mdydt\u001b[0m\u001b[0;34m\u001b[0m\u001b[0;34m\u001b[0m\u001b[0m\n",
            "\u001b[0;31mTypeError\u001b[0m: cannot unpack non-iterable float object"
          ]
        },
        {
          "output_type": "display_data",
          "data": {
            "text/plain": [
              "<Figure size 720x720 with 0 Axes>"
            ]
          },
          "metadata": {
            "tags": []
          }
        }
      ]
    },
    {
      "cell_type": "code",
      "metadata": {
        "colab": {
          "base_uri": "https://localhost:8080/",
          "height": 413
        },
        "id": "RNrznIaptKSb",
        "outputId": "df4afc49-b89f-4042-9727-468561261f2b"
      },
      "source": [
        "def Ec8(t, y):\n",
        " x1, x2 = y\n",
        " dydt = [3*x2, x1-2*x2]\n",
        " return dydt\n",
        "\n",
        "t=np.linspace(0,5,500)\n",
        "y0=[0,3]\n",
        "\n",
        "plt.figure(figsize=(10,10))\n",
        "y=odeint(Ec8,y0,t)\n",
        "plt.plot(t,y[0: 0],'k',label='$x(t)$')\n",
        "plt.plot(t,y[0: 0],'r',label='$x(t)$')\n",
        "plt,title('Soluciones')\n",
        "plt.xlabel('t')\n",
        "plt.ylabel('y')\n",
        "plt.legend()\n",
        "plt.show()\n",
        "\n",
        "#Espacio fase de las soluciones\n",
        "plt.figure(figsize=(7,7))\n",
        "y=odeint(Ec8,y0,t)\n",
        "plt.plot(y[0:,0],y[0:,1],'k',label='$x_2(t)$ vs $x_1(t)$')\n",
        "plt,title('Soluciones')\n",
        "plt.xlabel('t')\n",
        "plt.ylabel('y')\n",
        "plt.legend()\n",
        "plt.show()\n"
      ],
      "execution_count": null,
      "outputs": [
        {
          "output_type": "error",
          "ename": "TypeError",
          "evalue": "ignored",
          "traceback": [
            "\u001b[0;31m---------------------------------------------------------------------------\u001b[0m",
            "\u001b[0;31mTypeError\u001b[0m                                 Traceback (most recent call last)",
            "\u001b[0;32m<ipython-input-139-5000122e0ac3>\u001b[0m in \u001b[0;36m<module>\u001b[0;34m()\u001b[0m\n\u001b[1;32m      8\u001b[0m \u001b[0;34m\u001b[0m\u001b[0m\n\u001b[1;32m      9\u001b[0m \u001b[0mplt\u001b[0m\u001b[0;34m.\u001b[0m\u001b[0mfigure\u001b[0m\u001b[0;34m(\u001b[0m\u001b[0mfigsize\u001b[0m\u001b[0;34m=\u001b[0m\u001b[0;34m(\u001b[0m\u001b[0;36m10\u001b[0m\u001b[0;34m,\u001b[0m\u001b[0;36m10\u001b[0m\u001b[0;34m)\u001b[0m\u001b[0;34m)\u001b[0m\u001b[0;34m\u001b[0m\u001b[0;34m\u001b[0m\u001b[0m\n\u001b[0;32m---> 10\u001b[0;31m \u001b[0my\u001b[0m\u001b[0;34m=\u001b[0m\u001b[0modeint\u001b[0m\u001b[0;34m(\u001b[0m\u001b[0mEc8\u001b[0m\u001b[0;34m,\u001b[0m\u001b[0my0\u001b[0m\u001b[0;34m,\u001b[0m\u001b[0mt\u001b[0m\u001b[0;34m)\u001b[0m\u001b[0;34m\u001b[0m\u001b[0;34m\u001b[0m\u001b[0m\n\u001b[0m\u001b[1;32m     11\u001b[0m \u001b[0mplt\u001b[0m\u001b[0;34m.\u001b[0m\u001b[0mplot\u001b[0m\u001b[0;34m(\u001b[0m\u001b[0mt\u001b[0m\u001b[0;34m,\u001b[0m\u001b[0my\u001b[0m\u001b[0;34m[\u001b[0m\u001b[0;36m0\u001b[0m\u001b[0;34m:\u001b[0m \u001b[0;36m0\u001b[0m\u001b[0;34m]\u001b[0m\u001b[0;34m,\u001b[0m\u001b[0;34m'k'\u001b[0m\u001b[0;34m,\u001b[0m\u001b[0mlabel\u001b[0m\u001b[0;34m=\u001b[0m\u001b[0;34m'$x(t)$'\u001b[0m\u001b[0;34m)\u001b[0m\u001b[0;34m\u001b[0m\u001b[0;34m\u001b[0m\u001b[0m\n\u001b[1;32m     12\u001b[0m \u001b[0mplt\u001b[0m\u001b[0;34m.\u001b[0m\u001b[0mplot\u001b[0m\u001b[0;34m(\u001b[0m\u001b[0mt\u001b[0m\u001b[0;34m,\u001b[0m\u001b[0my\u001b[0m\u001b[0;34m[\u001b[0m\u001b[0;36m0\u001b[0m\u001b[0;34m:\u001b[0m \u001b[0;36m0\u001b[0m\u001b[0;34m]\u001b[0m\u001b[0;34m,\u001b[0m\u001b[0;34m'k'\u001b[0m\u001b[0;34m,\u001b[0m\u001b[0mlabel\u001b[0m\u001b[0;34m=\u001b[0m\u001b[0;34m'$x(t)$'\u001b[0m\u001b[0;34m)\u001b[0m\u001b[0;34m\u001b[0m\u001b[0;34m\u001b[0m\u001b[0m\n",
            "\u001b[0;32m/usr/local/lib/python3.7/dist-packages/scipy/integrate/odepack.py\u001b[0m in \u001b[0;36modeint\u001b[0;34m(func, y0, t, args, Dfun, col_deriv, full_output, ml, mu, rtol, atol, tcrit, h0, hmax, hmin, ixpr, mxstep, mxhnil, mxordn, mxords, printmessg, tfirst)\u001b[0m\n\u001b[1;32m    243\u001b[0m                              \u001b[0mfull_output\u001b[0m\u001b[0;34m,\u001b[0m \u001b[0mrtol\u001b[0m\u001b[0;34m,\u001b[0m \u001b[0matol\u001b[0m\u001b[0;34m,\u001b[0m \u001b[0mtcrit\u001b[0m\u001b[0;34m,\u001b[0m \u001b[0mh0\u001b[0m\u001b[0;34m,\u001b[0m \u001b[0mhmax\u001b[0m\u001b[0;34m,\u001b[0m \u001b[0mhmin\u001b[0m\u001b[0;34m,\u001b[0m\u001b[0;34m\u001b[0m\u001b[0;34m\u001b[0m\u001b[0m\n\u001b[1;32m    244\u001b[0m                              \u001b[0mixpr\u001b[0m\u001b[0;34m,\u001b[0m \u001b[0mmxstep\u001b[0m\u001b[0;34m,\u001b[0m \u001b[0mmxhnil\u001b[0m\u001b[0;34m,\u001b[0m \u001b[0mmxordn\u001b[0m\u001b[0;34m,\u001b[0m \u001b[0mmxords\u001b[0m\u001b[0;34m,\u001b[0m\u001b[0;34m\u001b[0m\u001b[0;34m\u001b[0m\u001b[0m\n\u001b[0;32m--> 245\u001b[0;31m                              int(bool(tfirst)))\n\u001b[0m\u001b[1;32m    246\u001b[0m     \u001b[0;32mif\u001b[0m \u001b[0moutput\u001b[0m\u001b[0;34m[\u001b[0m\u001b[0;34m-\u001b[0m\u001b[0;36m1\u001b[0m\u001b[0;34m]\u001b[0m \u001b[0;34m<\u001b[0m \u001b[0;36m0\u001b[0m\u001b[0;34m:\u001b[0m\u001b[0;34m\u001b[0m\u001b[0;34m\u001b[0m\u001b[0m\n\u001b[1;32m    247\u001b[0m         \u001b[0mwarning_msg\u001b[0m \u001b[0;34m=\u001b[0m \u001b[0m_msgs\u001b[0m\u001b[0;34m[\u001b[0m\u001b[0moutput\u001b[0m\u001b[0;34m[\u001b[0m\u001b[0;34m-\u001b[0m\u001b[0;36m1\u001b[0m\u001b[0;34m]\u001b[0m\u001b[0;34m]\u001b[0m \u001b[0;34m+\u001b[0m \u001b[0;34m\" Run with full_output = 1 to get quantitative information.\"\u001b[0m\u001b[0;34m\u001b[0m\u001b[0;34m\u001b[0m\u001b[0m\n",
            "\u001b[0;32m<ipython-input-139-5000122e0ac3>\u001b[0m in \u001b[0;36mEc8\u001b[0;34m(t, y)\u001b[0m\n\u001b[1;32m      1\u001b[0m \u001b[0;32mdef\u001b[0m \u001b[0mEc8\u001b[0m\u001b[0;34m(\u001b[0m\u001b[0mt\u001b[0m\u001b[0;34m,\u001b[0m \u001b[0my\u001b[0m\u001b[0;34m)\u001b[0m\u001b[0;34m:\u001b[0m\u001b[0;34m\u001b[0m\u001b[0;34m\u001b[0m\u001b[0m\n\u001b[0;32m----> 2\u001b[0;31m  \u001b[0mx1\u001b[0m\u001b[0;34m,\u001b[0m \u001b[0mx2\u001b[0m \u001b[0;34m=\u001b[0m \u001b[0my\u001b[0m\u001b[0;34m\u001b[0m\u001b[0;34m\u001b[0m\u001b[0m\n\u001b[0m\u001b[1;32m      3\u001b[0m  \u001b[0mdydt\u001b[0m \u001b[0;34m=\u001b[0m \u001b[0;34m[\u001b[0m\u001b[0;36m3\u001b[0m\u001b[0;34m*\u001b[0m\u001b[0mx2\u001b[0m\u001b[0;34m,\u001b[0m \u001b[0mx1\u001b[0m\u001b[0;34m-\u001b[0m\u001b[0;36m2\u001b[0m\u001b[0;34m*\u001b[0m\u001b[0mx2\u001b[0m\u001b[0;34m]\u001b[0m\u001b[0;34m\u001b[0m\u001b[0;34m\u001b[0m\u001b[0m\n\u001b[1;32m      4\u001b[0m  \u001b[0;32mreturn\u001b[0m \u001b[0mdydt\u001b[0m\u001b[0;34m\u001b[0m\u001b[0;34m\u001b[0m\u001b[0m\n\u001b[1;32m      5\u001b[0m \u001b[0;34m\u001b[0m\u001b[0m\n",
            "\u001b[0;31mTypeError\u001b[0m: cannot unpack non-iterable float object"
          ]
        },
        {
          "output_type": "display_data",
          "data": {
            "text/plain": [
              "<Figure size 720x720 with 0 Axes>"
            ]
          },
          "metadata": {
            "tags": []
          }
        }
      ]
    },
    {
      "cell_type": "code",
      "metadata": {
        "colab": {
          "base_uri": "https://localhost:8080/",
          "height": 498
        },
        "id": "g3eMVBH7uTr0",
        "outputId": "b36fa310-7dbe-4ea6-9137-b4ee762a7e4f"
      },
      "source": [
        "def Ec9(t, y):\n",
        " x1, x2, x3 = y\n",
        " dydt = [2*x1, -x2, 2*x2-3*x3]\n",
        " return dydt\n",
        "\n",
        "t=np.linspace(0,5,500)\n",
        "y0=[0,-A,A]\n",
        "\n",
        "plt.figure(figsize=(10,10))\n",
        "y=odeint(Ec9,y0,t)\n",
        "plt.plot(t,y[0: 0],'k',label='$x(t)$')\n",
        "plt.plot(t,y[0: 0],'r',label='$x(t)$')\n",
        "plt.plot(t,y[0: 0],'g',label='$x(t)$')\n",
        "plt,title('Soluciones')\n",
        "plt.xlabel('t')\n",
        "plt.ylabel('y')\n",
        "plt.legend()\n",
        "plt.show()\n",
        "\n",
        "#Espacio fase de las soluciones\n",
        "plt.figure(figsize=(7,7))\n",
        "ax.plt.axes(projection='3d')\n",
        "ax.plot3D(y[0:,0],y[0:,1],y[0:,2])\n",
        "ax.set_title('Gráfico del vector de solución $x$ en $R^3$')\n",
        "ax.set_xlabel('$x_1(t)$')\n",
        "ax.set_ylabel('$x_2(t)$')\n",
        "ax.set_zlabel('$x_3(t)$')\n",
        "plt.show()"
      ],
      "execution_count": null,
      "outputs": [
        {
          "output_type": "error",
          "ename": "ValueError",
          "evalue": "ignored",
          "traceback": [
            "\u001b[0;31m---------------------------------------------------------------------------\u001b[0m",
            "\u001b[0;31mTypeError\u001b[0m                                 Traceback (most recent call last)",
            "\u001b[0;31mTypeError\u001b[0m: only size-1 arrays can be converted to Python scalars",
            "\nThe above exception was the direct cause of the following exception:\n",
            "\u001b[0;31mValueError\u001b[0m                                Traceback (most recent call last)",
            "\u001b[0;32m<ipython-input-142-5f5692c10cab>\u001b[0m in \u001b[0;36m<module>\u001b[0;34m()\u001b[0m\n\u001b[1;32m      8\u001b[0m \u001b[0;34m\u001b[0m\u001b[0m\n\u001b[1;32m      9\u001b[0m \u001b[0mplt\u001b[0m\u001b[0;34m.\u001b[0m\u001b[0mfigure\u001b[0m\u001b[0;34m(\u001b[0m\u001b[0mfigsize\u001b[0m\u001b[0;34m=\u001b[0m\u001b[0;34m(\u001b[0m\u001b[0;36m10\u001b[0m\u001b[0;34m,\u001b[0m\u001b[0;36m10\u001b[0m\u001b[0;34m)\u001b[0m\u001b[0;34m)\u001b[0m\u001b[0;34m\u001b[0m\u001b[0;34m\u001b[0m\u001b[0m\n\u001b[0;32m---> 10\u001b[0;31m \u001b[0my\u001b[0m\u001b[0;34m=\u001b[0m\u001b[0modeint\u001b[0m\u001b[0;34m(\u001b[0m\u001b[0mEc9\u001b[0m\u001b[0;34m,\u001b[0m\u001b[0my0\u001b[0m\u001b[0;34m,\u001b[0m\u001b[0mt\u001b[0m\u001b[0;34m)\u001b[0m\u001b[0;34m\u001b[0m\u001b[0;34m\u001b[0m\u001b[0m\n\u001b[0m\u001b[1;32m     11\u001b[0m \u001b[0mplt\u001b[0m\u001b[0;34m.\u001b[0m\u001b[0mplot\u001b[0m\u001b[0;34m(\u001b[0m\u001b[0mt\u001b[0m\u001b[0;34m,\u001b[0m\u001b[0my\u001b[0m\u001b[0;34m[\u001b[0m\u001b[0;36m0\u001b[0m\u001b[0;34m:\u001b[0m \u001b[0;36m0\u001b[0m\u001b[0;34m]\u001b[0m\u001b[0;34m,\u001b[0m\u001b[0;34m'k'\u001b[0m\u001b[0;34m,\u001b[0m\u001b[0mlabel\u001b[0m\u001b[0;34m=\u001b[0m\u001b[0;34m'$x(t)$'\u001b[0m\u001b[0;34m)\u001b[0m\u001b[0;34m\u001b[0m\u001b[0;34m\u001b[0m\u001b[0m\n\u001b[1;32m     12\u001b[0m \u001b[0mplt\u001b[0m\u001b[0;34m.\u001b[0m\u001b[0mplot\u001b[0m\u001b[0;34m(\u001b[0m\u001b[0mt\u001b[0m\u001b[0;34m,\u001b[0m\u001b[0my\u001b[0m\u001b[0;34m[\u001b[0m\u001b[0;36m0\u001b[0m\u001b[0;34m:\u001b[0m \u001b[0;36m0\u001b[0m\u001b[0;34m]\u001b[0m\u001b[0;34m,\u001b[0m\u001b[0;34m'r'\u001b[0m\u001b[0;34m,\u001b[0m\u001b[0mlabel\u001b[0m\u001b[0;34m=\u001b[0m\u001b[0;34m'$x(t)$'\u001b[0m\u001b[0;34m)\u001b[0m\u001b[0;34m\u001b[0m\u001b[0;34m\u001b[0m\u001b[0m\n",
            "\u001b[0;32m/usr/local/lib/python3.7/dist-packages/scipy/integrate/odepack.py\u001b[0m in \u001b[0;36modeint\u001b[0;34m(func, y0, t, args, Dfun, col_deriv, full_output, ml, mu, rtol, atol, tcrit, h0, hmax, hmin, ixpr, mxstep, mxhnil, mxordn, mxords, printmessg, tfirst)\u001b[0m\n\u001b[1;32m    243\u001b[0m                              \u001b[0mfull_output\u001b[0m\u001b[0;34m,\u001b[0m \u001b[0mrtol\u001b[0m\u001b[0;34m,\u001b[0m \u001b[0matol\u001b[0m\u001b[0;34m,\u001b[0m \u001b[0mtcrit\u001b[0m\u001b[0;34m,\u001b[0m \u001b[0mh0\u001b[0m\u001b[0;34m,\u001b[0m \u001b[0mhmax\u001b[0m\u001b[0;34m,\u001b[0m \u001b[0mhmin\u001b[0m\u001b[0;34m,\u001b[0m\u001b[0;34m\u001b[0m\u001b[0;34m\u001b[0m\u001b[0m\n\u001b[1;32m    244\u001b[0m                              \u001b[0mixpr\u001b[0m\u001b[0;34m,\u001b[0m \u001b[0mmxstep\u001b[0m\u001b[0;34m,\u001b[0m \u001b[0mmxhnil\u001b[0m\u001b[0;34m,\u001b[0m \u001b[0mmxordn\u001b[0m\u001b[0;34m,\u001b[0m \u001b[0mmxords\u001b[0m\u001b[0;34m,\u001b[0m\u001b[0;34m\u001b[0m\u001b[0;34m\u001b[0m\u001b[0m\n\u001b[0;32m--> 245\u001b[0;31m                              int(bool(tfirst)))\n\u001b[0m\u001b[1;32m    246\u001b[0m     \u001b[0;32mif\u001b[0m \u001b[0moutput\u001b[0m\u001b[0;34m[\u001b[0m\u001b[0;34m-\u001b[0m\u001b[0;36m1\u001b[0m\u001b[0;34m]\u001b[0m \u001b[0;34m<\u001b[0m \u001b[0;36m0\u001b[0m\u001b[0;34m:\u001b[0m\u001b[0;34m\u001b[0m\u001b[0;34m\u001b[0m\u001b[0m\n\u001b[1;32m    247\u001b[0m         \u001b[0mwarning_msg\u001b[0m \u001b[0;34m=\u001b[0m \u001b[0m_msgs\u001b[0m\u001b[0;34m[\u001b[0m\u001b[0moutput\u001b[0m\u001b[0;34m[\u001b[0m\u001b[0;34m-\u001b[0m\u001b[0;36m1\u001b[0m\u001b[0;34m]\u001b[0m\u001b[0;34m]\u001b[0m \u001b[0;34m+\u001b[0m \u001b[0;34m\" Run with full_output = 1 to get quantitative information.\"\u001b[0m\u001b[0;34m\u001b[0m\u001b[0;34m\u001b[0m\u001b[0m\n",
            "\u001b[0;31mValueError\u001b[0m: setting an array element with a sequence."
          ]
        },
        {
          "output_type": "display_data",
          "data": {
            "text/plain": [
              "<Figure size 720x720 with 0 Axes>"
            ]
          },
          "metadata": {
            "tags": []
          }
        }
      ]
    },
    {
      "cell_type": "code",
      "metadata": {
        "id": "cNQnCqIqwYzg"
      },
      "source": [
        "def x(t,y,k1,k2,A1,A2):\n",
        "  x1, x2, v1, v2 = y\n",
        "  return [v1,v2, -(k1+k2)*x1+k2x2-A1*x1-k2*x2-A2*v2+k2]\n",
        "\n",
        "  k1=6\n",
        "  k2=4\n",
        "  A1 = A2 = 0\n",
        "  y0={1,4,0,0}\n",
        "\n",
        "  E=np.array([0,0,1,0],[0,0,0,1],[-(k1+k2),k2,-A1,0],[k2,{k,0,A2}])\n",
        "  eigenval, eigenvec = la.eig(E)\n",
        "  print(eigenval)"
      ],
      "execution_count": 148,
      "outputs": []
    },
    {
      "cell_type": "code",
      "metadata": {
        "colab": {
          "base_uri": "https://localhost:8080/",
          "height": 452
        },
        "id": "O0fJKPvcywZ9",
        "outputId": "f0884617-f9eb-4639-bdd5-20210bb6ab51"
      },
      "source": [
        "t=np.linspace(0,50,500)\n",
        "k1=6\n",
        "k2=4\n",
        "b1 = b2 = 0\n",
        "y0[odeint(x,y0,t,args=(k1,k2,A1,A2))]\n",
        "\n",
        "plt.figure(figsize=(10,10))\n",
        "plt.plot(y[0:0],y[0:1], color='r')\n",
        "plt.title('Espacio fase de lasolución $x_2 contra $x_1$')\n",
        "plt.xlabel('$x_1$')\n",
        "plt.ylabel('$x_2$')\n",
        "plt.show()"
      ],
      "execution_count": 154,
      "outputs": [
        {
          "output_type": "error",
          "ename": "ValueError",
          "evalue": "ignored",
          "traceback": [
            "\u001b[0;31m---------------------------------------------------------------------------\u001b[0m",
            "\u001b[0;31mTypeError\u001b[0m                                 Traceback (most recent call last)",
            "\u001b[0;31mTypeError\u001b[0m: only size-1 arrays can be converted to Python scalars",
            "\nThe above exception was the direct cause of the following exception:\n",
            "\u001b[0;31mValueError\u001b[0m                                Traceback (most recent call last)",
            "\u001b[0;32m<ipython-input-154-26956dbcee15>\u001b[0m in \u001b[0;36m<module>\u001b[0;34m()\u001b[0m\n\u001b[1;32m      3\u001b[0m \u001b[0mk2\u001b[0m\u001b[0;34m=\u001b[0m\u001b[0;36m4\u001b[0m\u001b[0;34m\u001b[0m\u001b[0;34m\u001b[0m\u001b[0m\n\u001b[1;32m      4\u001b[0m \u001b[0mb1\u001b[0m \u001b[0;34m=\u001b[0m \u001b[0mb2\u001b[0m \u001b[0;34m=\u001b[0m \u001b[0;36m0\u001b[0m\u001b[0;34m\u001b[0m\u001b[0;34m\u001b[0m\u001b[0m\n\u001b[0;32m----> 5\u001b[0;31m \u001b[0my0\u001b[0m\u001b[0;34m[\u001b[0m\u001b[0modeint\u001b[0m\u001b[0;34m(\u001b[0m\u001b[0mx\u001b[0m\u001b[0;34m,\u001b[0m\u001b[0my0\u001b[0m\u001b[0;34m,\u001b[0m\u001b[0mt\u001b[0m\u001b[0;34m,\u001b[0m\u001b[0margs\u001b[0m\u001b[0;34m=\u001b[0m\u001b[0;34m(\u001b[0m\u001b[0mk1\u001b[0m\u001b[0;34m,\u001b[0m\u001b[0mk2\u001b[0m\u001b[0;34m,\u001b[0m\u001b[0mA1\u001b[0m\u001b[0;34m,\u001b[0m\u001b[0mA2\u001b[0m\u001b[0;34m)\u001b[0m\u001b[0;34m)\u001b[0m\u001b[0;34m]\u001b[0m\u001b[0;34m\u001b[0m\u001b[0;34m\u001b[0m\u001b[0m\n\u001b[0m\u001b[1;32m      6\u001b[0m \u001b[0;34m\u001b[0m\u001b[0m\n\u001b[1;32m      7\u001b[0m \u001b[0mplt\u001b[0m\u001b[0;34m.\u001b[0m\u001b[0mfigure\u001b[0m\u001b[0;34m(\u001b[0m\u001b[0mfigsize\u001b[0m\u001b[0;34m=\u001b[0m\u001b[0;34m(\u001b[0m\u001b[0;36m10\u001b[0m\u001b[0;34m,\u001b[0m\u001b[0;36m10\u001b[0m\u001b[0;34m)\u001b[0m\u001b[0;34m)\u001b[0m\u001b[0;34m\u001b[0m\u001b[0;34m\u001b[0m\u001b[0m\n",
            "\u001b[0;32m/usr/local/lib/python3.7/dist-packages/scipy/integrate/odepack.py\u001b[0m in \u001b[0;36modeint\u001b[0;34m(func, y0, t, args, Dfun, col_deriv, full_output, ml, mu, rtol, atol, tcrit, h0, hmax, hmin, ixpr, mxstep, mxhnil, mxordn, mxords, printmessg, tfirst)\u001b[0m\n\u001b[1;32m    243\u001b[0m                              \u001b[0mfull_output\u001b[0m\u001b[0;34m,\u001b[0m \u001b[0mrtol\u001b[0m\u001b[0;34m,\u001b[0m \u001b[0matol\u001b[0m\u001b[0;34m,\u001b[0m \u001b[0mtcrit\u001b[0m\u001b[0;34m,\u001b[0m \u001b[0mh0\u001b[0m\u001b[0;34m,\u001b[0m \u001b[0mhmax\u001b[0m\u001b[0;34m,\u001b[0m \u001b[0mhmin\u001b[0m\u001b[0;34m,\u001b[0m\u001b[0;34m\u001b[0m\u001b[0;34m\u001b[0m\u001b[0m\n\u001b[1;32m    244\u001b[0m                              \u001b[0mixpr\u001b[0m\u001b[0;34m,\u001b[0m \u001b[0mmxstep\u001b[0m\u001b[0;34m,\u001b[0m \u001b[0mmxhnil\u001b[0m\u001b[0;34m,\u001b[0m \u001b[0mmxordn\u001b[0m\u001b[0;34m,\u001b[0m \u001b[0mmxords\u001b[0m\u001b[0;34m,\u001b[0m\u001b[0;34m\u001b[0m\u001b[0;34m\u001b[0m\u001b[0m\n\u001b[0;32m--> 245\u001b[0;31m                              int(bool(tfirst)))\n\u001b[0m\u001b[1;32m    246\u001b[0m     \u001b[0;32mif\u001b[0m \u001b[0moutput\u001b[0m\u001b[0;34m[\u001b[0m\u001b[0;34m-\u001b[0m\u001b[0;36m1\u001b[0m\u001b[0;34m]\u001b[0m \u001b[0;34m<\u001b[0m \u001b[0;36m0\u001b[0m\u001b[0;34m:\u001b[0m\u001b[0;34m\u001b[0m\u001b[0;34m\u001b[0m\u001b[0m\n\u001b[1;32m    247\u001b[0m         \u001b[0mwarning_msg\u001b[0m \u001b[0;34m=\u001b[0m \u001b[0m_msgs\u001b[0m\u001b[0;34m[\u001b[0m\u001b[0moutput\u001b[0m\u001b[0;34m[\u001b[0m\u001b[0;34m-\u001b[0m\u001b[0;36m1\u001b[0m\u001b[0;34m]\u001b[0m\u001b[0;34m]\u001b[0m \u001b[0;34m+\u001b[0m \u001b[0;34m\" Run with full_output = 1 to get quantitative information.\"\u001b[0m\u001b[0;34m\u001b[0m\u001b[0;34m\u001b[0m\u001b[0m\n",
            "\u001b[0;31mValueError\u001b[0m: setting an array element with a sequence."
          ]
        }
      ]
    },
    {
      "cell_type": "code",
      "metadata": {
        "colab": {
          "base_uri": "https://localhost:8080/",
          "height": 953
        },
        "id": "wdBInoTA0aAZ",
        "outputId": "12c83127-e22e-45d9-9a48-42e1f5149009"
      },
      "source": [
        "plt.figure(figsize=(10,10))\n",
        "plt.plot(t,y[0:0],color='r',label='$x_1(t)$')\n",
        "plt.plot(t,y[0:1], color='g',label='$x_2(t)$')\n",
        "plt.title('Espacio fase de lasolución $x_2 contra $x_1$')\n",
        "plt.xlabel('$t$')\n",
        "plt.ylabel('$y$')\n",
        "plt.show()"
      ],
      "execution_count": 155,
      "outputs": [
        {
          "output_type": "error",
          "ename": "ValueError",
          "evalue": "ignored",
          "traceback": [
            "\u001b[0;31m---------------------------------------------------------------------------\u001b[0m",
            "\u001b[0;31mValueError\u001b[0m                                Traceback (most recent call last)",
            "\u001b[0;32m<ipython-input-155-9e98e681a50b>\u001b[0m in \u001b[0;36m<module>\u001b[0;34m()\u001b[0m\n\u001b[1;32m      1\u001b[0m \u001b[0mplt\u001b[0m\u001b[0;34m.\u001b[0m\u001b[0mfigure\u001b[0m\u001b[0;34m(\u001b[0m\u001b[0mfigsize\u001b[0m\u001b[0;34m=\u001b[0m\u001b[0;34m(\u001b[0m\u001b[0;36m10\u001b[0m\u001b[0;34m,\u001b[0m\u001b[0;36m10\u001b[0m\u001b[0;34m)\u001b[0m\u001b[0;34m)\u001b[0m\u001b[0;34m\u001b[0m\u001b[0;34m\u001b[0m\u001b[0m\n\u001b[0;32m----> 2\u001b[0;31m \u001b[0mplt\u001b[0m\u001b[0;34m.\u001b[0m\u001b[0mplot\u001b[0m\u001b[0;34m(\u001b[0m\u001b[0mt\u001b[0m\u001b[0;34m,\u001b[0m\u001b[0my\u001b[0m\u001b[0;34m[\u001b[0m\u001b[0;36m0\u001b[0m\u001b[0;34m:\u001b[0m\u001b[0;36m0\u001b[0m\u001b[0;34m]\u001b[0m\u001b[0;34m,\u001b[0m\u001b[0mcolor\u001b[0m\u001b[0;34m=\u001b[0m\u001b[0;34m'r'\u001b[0m\u001b[0;34m,\u001b[0m\u001b[0mlabel\u001b[0m\u001b[0;34m=\u001b[0m\u001b[0;34m'$x_1(t)$'\u001b[0m\u001b[0;34m)\u001b[0m\u001b[0;34m\u001b[0m\u001b[0;34m\u001b[0m\u001b[0m\n\u001b[0m\u001b[1;32m      3\u001b[0m \u001b[0mplt\u001b[0m\u001b[0;34m.\u001b[0m\u001b[0mplot\u001b[0m\u001b[0;34m(\u001b[0m\u001b[0mt\u001b[0m\u001b[0;34m,\u001b[0m\u001b[0my\u001b[0m\u001b[0;34m[\u001b[0m\u001b[0;36m0\u001b[0m\u001b[0;34m:\u001b[0m\u001b[0;36m1\u001b[0m\u001b[0;34m]\u001b[0m\u001b[0;34m,\u001b[0m \u001b[0mcolor\u001b[0m\u001b[0;34m=\u001b[0m\u001b[0;34m'g'\u001b[0m\u001b[0;34m,\u001b[0m\u001b[0mlabel\u001b[0m\u001b[0;34m=\u001b[0m\u001b[0;34m'$x_2(t)$'\u001b[0m\u001b[0;34m)\u001b[0m\u001b[0;34m\u001b[0m\u001b[0;34m\u001b[0m\u001b[0m\n\u001b[1;32m      4\u001b[0m \u001b[0mplt\u001b[0m\u001b[0;34m.\u001b[0m\u001b[0mtitle\u001b[0m\u001b[0;34m(\u001b[0m\u001b[0;34m'Espacio fase de lasolución $x_2 contra $x_1$'\u001b[0m\u001b[0;34m)\u001b[0m\u001b[0;34m\u001b[0m\u001b[0;34m\u001b[0m\u001b[0m\n\u001b[1;32m      5\u001b[0m \u001b[0mplt\u001b[0m\u001b[0;34m.\u001b[0m\u001b[0mxlabel\u001b[0m\u001b[0;34m(\u001b[0m\u001b[0;34m'$t$'\u001b[0m\u001b[0;34m)\u001b[0m\u001b[0;34m\u001b[0m\u001b[0;34m\u001b[0m\u001b[0m\n",
            "\u001b[0;32m/usr/local/lib/python3.7/dist-packages/matplotlib/pyplot.py\u001b[0m in \u001b[0;36mplot\u001b[0;34m(scalex, scaley, data, *args, **kwargs)\u001b[0m\n\u001b[1;32m   2761\u001b[0m     return gca().plot(\n\u001b[1;32m   2762\u001b[0m         *args, scalex=scalex, scaley=scaley, **({\"data\": data} if data\n\u001b[0;32m-> 2763\u001b[0;31m         is not None else {}), **kwargs)\n\u001b[0m\u001b[1;32m   2764\u001b[0m \u001b[0;34m\u001b[0m\u001b[0m\n\u001b[1;32m   2765\u001b[0m \u001b[0;34m\u001b[0m\u001b[0m\n",
            "\u001b[0;32m/usr/local/lib/python3.7/dist-packages/matplotlib/axes/_axes.py\u001b[0m in \u001b[0;36mplot\u001b[0;34m(self, scalex, scaley, data, *args, **kwargs)\u001b[0m\n\u001b[1;32m   1645\u001b[0m         \"\"\"\n\u001b[1;32m   1646\u001b[0m         \u001b[0mkwargs\u001b[0m \u001b[0;34m=\u001b[0m \u001b[0mcbook\u001b[0m\u001b[0;34m.\u001b[0m\u001b[0mnormalize_kwargs\u001b[0m\u001b[0;34m(\u001b[0m\u001b[0mkwargs\u001b[0m\u001b[0;34m,\u001b[0m \u001b[0mmlines\u001b[0m\u001b[0;34m.\u001b[0m\u001b[0mLine2D\u001b[0m\u001b[0;34m)\u001b[0m\u001b[0;34m\u001b[0m\u001b[0;34m\u001b[0m\u001b[0m\n\u001b[0;32m-> 1647\u001b[0;31m         \u001b[0mlines\u001b[0m \u001b[0;34m=\u001b[0m \u001b[0;34m[\u001b[0m\u001b[0;34m*\u001b[0m\u001b[0mself\u001b[0m\u001b[0;34m.\u001b[0m\u001b[0m_get_lines\u001b[0m\u001b[0;34m(\u001b[0m\u001b[0;34m*\u001b[0m\u001b[0margs\u001b[0m\u001b[0;34m,\u001b[0m \u001b[0mdata\u001b[0m\u001b[0;34m=\u001b[0m\u001b[0mdata\u001b[0m\u001b[0;34m,\u001b[0m \u001b[0;34m**\u001b[0m\u001b[0mkwargs\u001b[0m\u001b[0;34m)\u001b[0m\u001b[0;34m]\u001b[0m\u001b[0;34m\u001b[0m\u001b[0;34m\u001b[0m\u001b[0m\n\u001b[0m\u001b[1;32m   1648\u001b[0m         \u001b[0;32mfor\u001b[0m \u001b[0mline\u001b[0m \u001b[0;32min\u001b[0m \u001b[0mlines\u001b[0m\u001b[0;34m:\u001b[0m\u001b[0;34m\u001b[0m\u001b[0;34m\u001b[0m\u001b[0m\n\u001b[1;32m   1649\u001b[0m             \u001b[0mself\u001b[0m\u001b[0;34m.\u001b[0m\u001b[0madd_line\u001b[0m\u001b[0;34m(\u001b[0m\u001b[0mline\u001b[0m\u001b[0;34m)\u001b[0m\u001b[0;34m\u001b[0m\u001b[0;34m\u001b[0m\u001b[0m\n",
            "\u001b[0;32m/usr/local/lib/python3.7/dist-packages/matplotlib/axes/_base.py\u001b[0m in \u001b[0;36m__call__\u001b[0;34m(self, *args, **kwargs)\u001b[0m\n\u001b[1;32m    214\u001b[0m                 \u001b[0mthis\u001b[0m \u001b[0;34m+=\u001b[0m \u001b[0margs\u001b[0m\u001b[0;34m[\u001b[0m\u001b[0;36m0\u001b[0m\u001b[0;34m]\u001b[0m\u001b[0;34m,\u001b[0m\u001b[0;34m\u001b[0m\u001b[0;34m\u001b[0m\u001b[0m\n\u001b[1;32m    215\u001b[0m                 \u001b[0margs\u001b[0m \u001b[0;34m=\u001b[0m \u001b[0margs\u001b[0m\u001b[0;34m[\u001b[0m\u001b[0;36m1\u001b[0m\u001b[0;34m:\u001b[0m\u001b[0;34m]\u001b[0m\u001b[0;34m\u001b[0m\u001b[0;34m\u001b[0m\u001b[0m\n\u001b[0;32m--> 216\u001b[0;31m             \u001b[0;32myield\u001b[0m \u001b[0;32mfrom\u001b[0m \u001b[0mself\u001b[0m\u001b[0;34m.\u001b[0m\u001b[0m_plot_args\u001b[0m\u001b[0;34m(\u001b[0m\u001b[0mthis\u001b[0m\u001b[0;34m,\u001b[0m \u001b[0mkwargs\u001b[0m\u001b[0;34m)\u001b[0m\u001b[0;34m\u001b[0m\u001b[0;34m\u001b[0m\u001b[0m\n\u001b[0m\u001b[1;32m    217\u001b[0m \u001b[0;34m\u001b[0m\u001b[0m\n\u001b[1;32m    218\u001b[0m     \u001b[0;32mdef\u001b[0m \u001b[0mget_next_color\u001b[0m\u001b[0;34m(\u001b[0m\u001b[0mself\u001b[0m\u001b[0;34m)\u001b[0m\u001b[0;34m:\u001b[0m\u001b[0;34m\u001b[0m\u001b[0;34m\u001b[0m\u001b[0m\n",
            "\u001b[0;32m/usr/local/lib/python3.7/dist-packages/matplotlib/axes/_base.py\u001b[0m in \u001b[0;36m_plot_args\u001b[0;34m(self, tup, kwargs)\u001b[0m\n\u001b[1;32m    340\u001b[0m \u001b[0;34m\u001b[0m\u001b[0m\n\u001b[1;32m    341\u001b[0m         \u001b[0;32mif\u001b[0m \u001b[0mx\u001b[0m\u001b[0;34m.\u001b[0m\u001b[0mshape\u001b[0m\u001b[0;34m[\u001b[0m\u001b[0;36m0\u001b[0m\u001b[0;34m]\u001b[0m \u001b[0;34m!=\u001b[0m \u001b[0my\u001b[0m\u001b[0;34m.\u001b[0m\u001b[0mshape\u001b[0m\u001b[0;34m[\u001b[0m\u001b[0;36m0\u001b[0m\u001b[0;34m]\u001b[0m\u001b[0;34m:\u001b[0m\u001b[0;34m\u001b[0m\u001b[0;34m\u001b[0m\u001b[0m\n\u001b[0;32m--> 342\u001b[0;31m             raise ValueError(f\"x and y must have same first dimension, but \"\n\u001b[0m\u001b[1;32m    343\u001b[0m                              f\"have shapes {x.shape} and {y.shape}\")\n\u001b[1;32m    344\u001b[0m         \u001b[0;32mif\u001b[0m \u001b[0mx\u001b[0m\u001b[0;34m.\u001b[0m\u001b[0mndim\u001b[0m \u001b[0;34m>\u001b[0m \u001b[0;36m2\u001b[0m \u001b[0;32mor\u001b[0m \u001b[0my\u001b[0m\u001b[0;34m.\u001b[0m\u001b[0mndim\u001b[0m \u001b[0;34m>\u001b[0m \u001b[0;36m2\u001b[0m\u001b[0;34m:\u001b[0m\u001b[0;34m\u001b[0m\u001b[0;34m\u001b[0m\u001b[0m\n",
            "\u001b[0;31mValueError\u001b[0m: x and y must have same first dimension, but have shapes (500,) and (0,)"
          ]
        },
        {
          "output_type": "display_data",
          "data": {
            "image/png": "[encoded data removed]",
            "text/plain": [
              "<Figure size 720x720 with 1 Axes>"
            ]
          },
          "metadata": {
            "tags": [],
            "needs_background": "light"
          }
        }
      ]
    },
    {
      "cell_type": "code",
      "metadata": {
        "colab": {
          "base_uri": "https://localhost:8080/",
          "height": 469
        },
        "id": "jInNZqrl0Qn-",
        "outputId": "a3bcbcad-3e6a-49aa-b259-6efb9017f742"
      },
      "source": [
        "def Ec10(t, y, k1, k2, A1, A2):\n",
        " x1, x2, x3, v2 = y\n",
        " dydt = [v1, v2, -(k1+k1)*x1+k2*x2-A1,x1+k2*x2-A1*v1+k1-k2*x2-B2*v2+k2]\n",
        " return dydt\n",
        "\n",
        "t=np.linspace(0,5,500)\n",
        "y0=[0,-A,A]\n",
        "\n",
        "plt.figure(figsize=(10,10))\n",
        "y=odeint(Ec9,y0,t)\n",
        "plt.plot(t,y[0: 0],'k',label='$x(t)$')\n",
        "plt.plot(t,y[0: 0],'r',label='$x(t)$')\n",
        "plt.plot(t,y[0: 0],'g',label='$x(t)$')\n",
        "plt,title('Soluciones')\n",
        "plt.xlabel('t')\n",
        "plt.ylabel('y')\n",
        "plt.legend()\n",
        "plt.show()\n",
        "\n",
        "t=np.linspace(0,50,500)\n",
        "k1=6\n",
        "k2=4\n",
        "A1 = 0.1\n",
        "A2 = 0.2\n",
        "y0=1,4,0,0]\n",
        "y0[odeint(x,y0,t,args=(k1,k2,A1,A2))]\n",
        "\n",
        "plt.figure(figsize=(10,10))\n",
        "plt.plot(y[0:0],y[0:1], color='r')\n",
        "plt.title('Espacio fase de lasolución $x_2 contra $x_1$')\n",
        "plt.xlabel('$x_1$')\n",
        "plt.ylabel('$x_2$')\n",
        "plt.show()"
      ],
      "execution_count": 156,
      "outputs": [
        {
          "output_type": "error",
          "ename": "ValueError",
          "evalue": "ignored",
          "traceback": [
            "\u001b[0;31m---------------------------------------------------------------------------\u001b[0m",
            "\u001b[0;31mTypeError\u001b[0m                                 Traceback (most recent call last)",
            "\u001b[0;31mTypeError\u001b[0m: only size-1 arrays can be converted to Python scalars",
            "\nThe above exception was the direct cause of the following exception:\n",
            "\u001b[0;31mValueError\u001b[0m                                Traceback (most recent call last)",
            "\u001b[0;32m<ipython-input-156-452bc749ed62>\u001b[0m in \u001b[0;36m<module>\u001b[0;34m()\u001b[0m\n\u001b[1;32m      8\u001b[0m \u001b[0;34m\u001b[0m\u001b[0m\n\u001b[1;32m      9\u001b[0m \u001b[0mplt\u001b[0m\u001b[0;34m.\u001b[0m\u001b[0mfigure\u001b[0m\u001b[0;34m(\u001b[0m\u001b[0mfigsize\u001b[0m\u001b[0;34m=\u001b[0m\u001b[0;34m(\u001b[0m\u001b[0;36m10\u001b[0m\u001b[0;34m,\u001b[0m\u001b[0;36m10\u001b[0m\u001b[0;34m)\u001b[0m\u001b[0;34m)\u001b[0m\u001b[0;34m\u001b[0m\u001b[0;34m\u001b[0m\u001b[0m\n\u001b[0;32m---> 10\u001b[0;31m \u001b[0my\u001b[0m\u001b[0;34m=\u001b[0m\u001b[0modeint\u001b[0m\u001b[0;34m(\u001b[0m\u001b[0mEc9\u001b[0m\u001b[0;34m,\u001b[0m\u001b[0my0\u001b[0m\u001b[0;34m,\u001b[0m\u001b[0mt\u001b[0m\u001b[0;34m)\u001b[0m\u001b[0;34m\u001b[0m\u001b[0;34m\u001b[0m\u001b[0m\n\u001b[0m\u001b[1;32m     11\u001b[0m \u001b[0mplt\u001b[0m\u001b[0;34m.\u001b[0m\u001b[0mplot\u001b[0m\u001b[0;34m(\u001b[0m\u001b[0mt\u001b[0m\u001b[0;34m,\u001b[0m\u001b[0my\u001b[0m\u001b[0;34m[\u001b[0m\u001b[0;36m0\u001b[0m\u001b[0;34m:\u001b[0m \u001b[0;36m0\u001b[0m\u001b[0;34m]\u001b[0m\u001b[0;34m,\u001b[0m\u001b[0;34m'k'\u001b[0m\u001b[0;34m,\u001b[0m\u001b[0mlabel\u001b[0m\u001b[0;34m=\u001b[0m\u001b[0;34m'$x(t)$'\u001b[0m\u001b[0;34m)\u001b[0m\u001b[0;34m\u001b[0m\u001b[0;34m\u001b[0m\u001b[0m\n\u001b[1;32m     12\u001b[0m \u001b[0mplt\u001b[0m\u001b[0;34m.\u001b[0m\u001b[0mplot\u001b[0m\u001b[0;34m(\u001b[0m\u001b[0mt\u001b[0m\u001b[0;34m,\u001b[0m\u001b[0my\u001b[0m\u001b[0;34m[\u001b[0m\u001b[0;36m0\u001b[0m\u001b[0;34m:\u001b[0m \u001b[0;36m0\u001b[0m\u001b[0;34m]\u001b[0m\u001b[0;34m,\u001b[0m\u001b[0;34m'r'\u001b[0m\u001b[0;34m,\u001b[0m\u001b[0mlabel\u001b[0m\u001b[0;34m=\u001b[0m\u001b[0;34m'$x(t)$'\u001b[0m\u001b[0;34m)\u001b[0m\u001b[0;34m\u001b[0m\u001b[0;34m\u001b[0m\u001b[0m\n",
            "\u001b[0;32m/usr/local/lib/python3.7/dist-packages/scipy/integrate/odepack.py\u001b[0m in \u001b[0;36modeint\u001b[0;34m(func, y0, t, args, Dfun, col_deriv, full_output, ml, mu, rtol, atol, tcrit, h0, hmax, hmin, ixpr, mxstep, mxhnil, mxordn, mxords, printmessg, tfirst)\u001b[0m\n\u001b[1;32m    243\u001b[0m                              \u001b[0mfull_output\u001b[0m\u001b[0;34m,\u001b[0m \u001b[0mrtol\u001b[0m\u001b[0;34m,\u001b[0m \u001b[0matol\u001b[0m\u001b[0;34m,\u001b[0m \u001b[0mtcrit\u001b[0m\u001b[0;34m,\u001b[0m \u001b[0mh0\u001b[0m\u001b[0;34m,\u001b[0m \u001b[0mhmax\u001b[0m\u001b[0;34m,\u001b[0m \u001b[0mhmin\u001b[0m\u001b[0;34m,\u001b[0m\u001b[0;34m\u001b[0m\u001b[0;34m\u001b[0m\u001b[0m\n\u001b[1;32m    244\u001b[0m                              \u001b[0mixpr\u001b[0m\u001b[0;34m,\u001b[0m \u001b[0mmxstep\u001b[0m\u001b[0;34m,\u001b[0m \u001b[0mmxhnil\u001b[0m\u001b[0;34m,\u001b[0m \u001b[0mmxordn\u001b[0m\u001b[0;34m,\u001b[0m \u001b[0mmxords\u001b[0m\u001b[0;34m,\u001b[0m\u001b[0;34m\u001b[0m\u001b[0;34m\u001b[0m\u001b[0m\n\u001b[0;32m--> 245\u001b[0;31m                              int(bool(tfirst)))\n\u001b[0m\u001b[1;32m    246\u001b[0m     \u001b[0;32mif\u001b[0m \u001b[0moutput\u001b[0m\u001b[0;34m[\u001b[0m\u001b[0;34m-\u001b[0m\u001b[0;36m1\u001b[0m\u001b[0;34m]\u001b[0m \u001b[0;34m<\u001b[0m \u001b[0;36m0\u001b[0m\u001b[0;34m:\u001b[0m\u001b[0;34m\u001b[0m\u001b[0;34m\u001b[0m\u001b[0m\n\u001b[1;32m    247\u001b[0m         \u001b[0mwarning_msg\u001b[0m \u001b[0;34m=\u001b[0m \u001b[0m_msgs\u001b[0m\u001b[0;34m[\u001b[0m\u001b[0moutput\u001b[0m\u001b[0;34m[\u001b[0m\u001b[0;34m-\u001b[0m\u001b[0;36m1\u001b[0m\u001b[0;34m]\u001b[0m\u001b[0;34m]\u001b[0m \u001b[0;34m+\u001b[0m \u001b[0;34m\" Run with full_output = 1 to get quantitative information.\"\u001b[0m\u001b[0;34m\u001b[0m\u001b[0;34m\u001b[0m\u001b[0m\n",
            "\u001b[0;31mValueError\u001b[0m: setting an array element with a sequence."
          ]
        },
        {
          "output_type": "display_data",
          "data": {
            "text/plain": [
              "<Figure size 720x720 with 0 Axes>"
            ]
          },
          "metadata": {
            "tags": []
          }
        }
      ]
    },
    {
      "cell_type": "code",
      "metadata": {
        "id": "7cVxekmc2aN0"
      },
      "source": [
        "plt.plot(t,y[0: 0],'k',label='$x(t)$')\n",
        "plt.plot(t,y[0: 0],'r',label='$x(t)$')\n",
        "plt.plot(t,y[0: 0],'g',label='$x(t)$')\n",
        "plt,title('Soluciones')\n",
        "plt.xlabel('t')\n",
        "plt.ylabel('y')\n",
        "plt.legend()\n",
        "plt.show()\n"
      ],
      "execution_count": null,
      "outputs": []
    }
  ]
}