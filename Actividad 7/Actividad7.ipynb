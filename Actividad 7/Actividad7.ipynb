{
  "nbformat": 4,
  "nbformat_minor": 0,
  "metadata": {
    "colab": {
      "name": "Actividad7.ipynb",
      "provenance": []
    },
    "kernelspec": {
      "name": "python3",
      "display_name": "Python 3"
    }
  },
  "cells": [
    {
      "cell_type": "code",
      "metadata": {
        "id": "AszuAikq1Li1"
      },
      "source": [
        "import numpy as np\n",
        "import scipy.linalg as la\n",
        "from numpy.linalg import matrix_power as mpow\n",
        "import matplotlib.pyplot as plt\n",
        "%matplotlib inline"
      ],
      "execution_count": null,
      "outputs": []
    },
    {
      "cell_type": "code",
      "metadata": {
        "colab": {
          "base_uri": "https://localhost:8080/"
        },
        "id": "TCiCx6SU2SCm",
        "outputId": "bd17ae07-6026-4acb-c802-c59f2ce660ee"
      },
      "source": [
        "# Definimos un arreglo 1-D\n",
        "a = np.array([1,2,3,4,3,2,1])\n",
        "print(a)"
      ],
      "execution_count": null,
      "outputs": [
        {
          "output_type": "stream",
          "text": [
            "[1 2 3 4 3 2 1]\n"
          ],
          "name": "stdout"
        }
      ]
    },
    {
      "cell_type": "code",
      "metadata": {
        "colab": {
          "base_uri": "https://localhost:8080/"
        },
        "id": "gwDoP7N52aOd",
        "outputId": "adbe3025-47d9-4ca1-80c1-215d9087a964"
      },
      "source": [
        "# Propiedades del arreglo anterior\n",
        "print('Número de dimensiones:', a.ndim)\n",
        "print('Forma (shape):', a.shape)\n",
        "print('Tamaño (size):', a.size)"
      ],
      "execution_count": null,
      "outputs": [
        {
          "output_type": "stream",
          "text": [
            "Número de dimensiones: 1\n",
            "Forma (shape): (7,)\n",
            "Tamaño (size): 7\n"
          ],
          "name": "stdout"
        }
      ]
    },
    {
      "cell_type": "code",
      "metadata": {
        "colab": {
          "base_uri": "https://localhost:8080/"
        },
        "id": "1z6KDudh2ecq",
        "outputId": "fd74fead-895e-4d6e-8172-094d32d383fa"
      },
      "source": [
        "# Definimos un arreglo 2-D. Pensemos en una Matriz M de 2-D.\n",
        "M = np.array([[1,2],[3,4],[5,6],[7,8]])\n",
        "print(M)"
      ],
      "execution_count": null,
      "outputs": [
        {
          "output_type": "stream",
          "text": [
            "[[1 2]\n",
            " [3 4]\n",
            " [5 6]\n",
            " [7 8]]\n"
          ],
          "name": "stdout"
        }
      ]
    },
    {
      "cell_type": "code",
      "metadata": {
        "colab": {
          "base_uri": "https://localhost:8080/"
        },
        "id": "4GMUySYJ2iJ1",
        "outputId": "7768f6b4-e300-4035-c5ed-c988f2d2f736"
      },
      "source": [
        "# Propiedades del arreglo anterior. \n",
        "print('Número de dimensiones:', M.ndim)\n",
        "print('Forma (shape):', M.shape)\n",
        "print('Tamaño (size):', M.size)"
      ],
      "execution_count": null,
      "outputs": [
        {
          "output_type": "stream",
          "text": [
            "Número de dimensiones: 2\n",
            "Forma (shape): (4, 2)\n",
            "Tamaño (size): 8\n"
          ],
          "name": "stdout"
        }
      ]
    },
    {
      "cell_type": "code",
      "metadata": {
        "colab": {
          "base_uri": "https://localhost:8080/"
        },
        "id": "aegLGqeL2osi",
        "outputId": "83bc05ec-603e-4694-f714-51e1dd45597f"
      },
      "source": [
        "# Podemos seleccionar una columna 1 de la matriz M (columnas:0,1) \n",
        "col = M[:,1] \n",
        "print(col)"
      ],
      "execution_count": null,
      "outputs": [
        {
          "output_type": "stream",
          "text": [
            "[2 4 6 8]\n"
          ],
          "name": "stdout"
        }
      ]
    },
    {
      "cell_type": "code",
      "metadata": {
        "colab": {
          "base_uri": "https://localhost:8080/"
        },
        "id": "NVyVwxPt2xro",
        "outputId": "727c579d-ab14-4497-8a91-5f960f61327b"
      },
      "source": [
        "# Propiedades del arreglo anterior. \n",
        "print('Número de dimensiones:', col.ndim)\n",
        "print('Forma (shape):', col.shape)\n",
        "print('Tamaño (size):', col.size)"
      ],
      "execution_count": null,
      "outputs": [
        {
          "output_type": "stream",
          "text": [
            "Número de dimensiones: 1\n",
            "Forma (shape): (4,)\n",
            "Tamaño (size): 4\n"
          ],
          "name": "stdout"
        }
      ]
    },
    {
      "cell_type": "code",
      "metadata": {
        "colab": {
          "base_uri": "https://localhost:8080/"
        },
        "id": "uYdJIrQU22R8",
        "outputId": "6a589622-315b-4e96-d3f8-ad670c3bf51b"
      },
      "source": [
        "column = col.reshape(4,1)\n",
        "print(column)"
      ],
      "execution_count": null,
      "outputs": [
        {
          "output_type": "stream",
          "text": [
            "[[2]\n",
            " [4]\n",
            " [6]\n",
            " [8]]\n"
          ],
          "name": "stdout"
        }
      ]
    },
    {
      "cell_type": "code",
      "metadata": {
        "id": "x-ltOVQV27EN",
        "colab": {
          "base_uri": "https://localhost:8080/"
        },
        "outputId": "9dda4b28-b79d-4f58-cba4-da6f60498981"
      },
      "source": [
        "# Propiedades del arreglo anterior. \n",
        "print('Número de dimensiones:', column.ndim)\n",
        "print('Forma (shape):', column.shape)\n",
        "print('Tamaño (size):', column.size)"
      ],
      "execution_count": null,
      "outputs": [
        {
          "output_type": "stream",
          "text": [
            "Número de dimensiones: 2\n",
            "Forma (shape): (4, 1)\n",
            "Tamaño (size): 4\n"
          ],
          "name": "stdout"
        }
      ]
    },
    {
      "cell_type": "code",
      "metadata": {
        "colab": {
          "base_uri": "https://localhost:8080/"
        },
        "id": "IBtMyqX7pID5",
        "outputId": "371094f3-d313-4885-a722-deee6ef64bbb"
      },
      "source": [
        "# Podemos seleccionar una columna 1 de la matriz M (columnas:0,1) \n",
        "col = M[:,1] \n",
        "print(col)"
      ],
      "execution_count": null,
      "outputs": [
        {
          "output_type": "stream",
          "text": [
            "[2 4 6 8]\n"
          ],
          "name": "stdout"
        }
      ]
    },
    {
      "cell_type": "code",
      "metadata": {
        "colab": {
          "base_uri": "https://localhost:8080/"
        },
        "id": "8NCE8Kb_1gmf",
        "outputId": "7e58c95d-0e52-4fb2-a7dd-539d40374a9d"
      },
      "source": [
        "# Propiedades del arreglo anterior. \n",
        "print('Número de dimensiones:', col.ndim)\n",
        "print('Forma (shape):', col.shape)\n",
        "print('Tamaño (size):', col.size)"
      ],
      "execution_count": null,
      "outputs": [
        {
          "output_type": "stream",
          "text": [
            "Número de dimensiones: 1\n",
            "Forma (shape): (4,)\n",
            "Tamaño (size): 4\n"
          ],
          "name": "stdout"
        }
      ]
    },
    {
      "cell_type": "code",
      "metadata": {
        "colab": {
          "base_uri": "https://localhost:8080/"
        },
        "id": "60Ue_S931mxX",
        "outputId": "eade5630-00a4-4172-bcca-170d2b06a770"
      },
      "source": [
        "column = col.reshape(4,1)\n",
        "print(column)"
      ],
      "execution_count": null,
      "outputs": [
        {
          "output_type": "stream",
          "text": [
            "[[2]\n",
            " [4]\n",
            " [6]\n",
            " [8]]\n"
          ],
          "name": "stdout"
        }
      ]
    },
    {
      "cell_type": "code",
      "metadata": {
        "colab": {
          "base_uri": "https://localhost:8080/"
        },
        "id": "2h6Pwg531si_",
        "outputId": "4e0e64ee-0c07-48c9-96f2-3d383b9532dc"
      },
      "source": [
        "# Propiedades del arreglo anterior. \n",
        "print('Número de dimensiones:', column.ndim)\n",
        "print('Forma (shape):', column.shape)\n",
        "print('Tamaño (size):', column.size)"
      ],
      "execution_count": null,
      "outputs": [
        {
          "output_type": "stream",
          "text": [
            "Número de dimensiones: 2\n",
            "Forma (shape): (4, 1)\n",
            "Tamaño (size): 4\n"
          ],
          "name": "stdout"
        }
      ]
    },
    {
      "cell_type": "markdown",
      "metadata": {
        "id": "Pu22IoNA1268"
      },
      "source": [
        "Operando con Matrices"
      ]
    },
    {
      "cell_type": "code",
      "metadata": {
        "colab": {
          "base_uri": "https://localhost:8080/"
        },
        "id": "VxvEAwjB14zn",
        "outputId": "eb0b2723-d32a-449f-a159-317c28185c36"
      },
      "source": [
        "# Definimos una matriz M\n",
        "M = np.array([[1,2],[3,4]])\n",
        "print(M)"
      ],
      "execution_count": null,
      "outputs": [
        {
          "output_type": "stream",
          "text": [
            "[[1 2]\n",
            " [3 4]]\n"
          ],
          "name": "stdout"
        }
      ]
    },
    {
      "cell_type": "markdown",
      "metadata": {
        "id": "ZE0WVeUn3H4u"
      },
      "source": [
        "Multiplicación"
      ]
    },
    {
      "cell_type": "code",
      "metadata": {
        "colab": {
          "base_uri": "https://localhost:8080/"
        },
        "id": "fkhw45Ux3JhH",
        "outputId": "c63b50b1-0c26-40cc-b916-fa48e1b6c344"
      },
      "source": [
        "# Producto simple (elemento a elemento)\n",
        "M*M"
      ],
      "execution_count": null,
      "outputs": [
        {
          "output_type": "execute_result",
          "data": {
            "text/plain": [
              "array([[ 1,  4],\n",
              "       [ 9, 16]])"
            ]
          },
          "metadata": {
            "tags": []
          },
          "execution_count": 21
        }
      ]
    },
    {
      "cell_type": "code",
      "metadata": {
        "colab": {
          "base_uri": "https://localhost:8080/"
        },
        "id": "jZ5zmeuN7Ny-",
        "outputId": "04c54af0-a8aa-487c-afa5-e8a53c8fe55c"
      },
      "source": [
        "# Producto matricial \n",
        "M@M"
      ],
      "execution_count": null,
      "outputs": [
        {
          "output_type": "execute_result",
          "data": {
            "text/plain": [
              "array([[ 7, 10],\n",
              "       [15, 22]])"
            ]
          },
          "metadata": {
            "tags": []
          },
          "execution_count": 22
        }
      ]
    },
    {
      "cell_type": "markdown",
      "metadata": {
        "id": "c7ntfxoV7U0r"
      },
      "source": [
        "Ejercicio 1:"
      ]
    },
    {
      "cell_type": "code",
      "metadata": {
        "colab": {
          "base_uri": "https://localhost:8080/"
        },
        "id": "FHQH5qdT8AJT",
        "outputId": "95751e47-210b-4fb2-da53-696a39e1dbfb"
      },
      "source": [
        "# Definimos una matriz A\n",
        "A = np.array([[1,3],[-1,7]])\n",
        "print(A)"
      ],
      "execution_count": null,
      "outputs": [
        {
          "output_type": "stream",
          "text": [
            "[[ 1  3]\n",
            " [-1  7]]\n"
          ],
          "name": "stdout"
        }
      ]
    },
    {
      "cell_type": "code",
      "metadata": {
        "colab": {
          "base_uri": "https://localhost:8080/"
        },
        "id": "yQnpCJVG8OH-",
        "outputId": "c3510370-2f83-4e48-b351-9d834394893d"
      },
      "source": [
        "# Definimos una matriz B\n",
        "B = np.array([[5,2],[1,2]])\n",
        "print(B)"
      ],
      "execution_count": null,
      "outputs": [
        {
          "output_type": "stream",
          "text": [
            "[[5 2]\n",
            " [1 2]]\n"
          ],
          "name": "stdout"
        }
      ]
    },
    {
      "cell_type": "code",
      "metadata": {
        "colab": {
          "base_uri": "https://localhost:8080/"
        },
        "id": "bAsB3y3j8NQf",
        "outputId": "ffdd6e76-8def-4ba3-838d-43fc6d75d1ab"
      },
      "source": [
        "np.eye(2, dtype=int)\n"
      ],
      "execution_count": null,
      "outputs": [
        {
          "output_type": "execute_result",
          "data": {
            "text/plain": [
              "array([[1, 0],\n",
              "       [0, 1]])"
            ]
          },
          "metadata": {
            "tags": []
          },
          "execution_count": 25
        }
      ]
    },
    {
      "cell_type": "code",
      "metadata": {
        "colab": {
          "base_uri": "https://localhost:8080/"
        },
        "id": "wFl7SJBYFdGX",
        "outputId": "ff501710-8bf9-478d-f25e-9290e10c72ef"
      },
      "source": [
        "A@B"
      ],
      "execution_count": null,
      "outputs": [
        {
          "output_type": "execute_result",
          "data": {
            "text/plain": [
              "array([[ 8,  8],\n",
              "       [ 2, 12]])"
            ]
          },
          "metadata": {
            "tags": []
          },
          "execution_count": 26
        }
      ]
    },
    {
      "cell_type": "markdown",
      "metadata": {
        "id": "83N-xqy-9Cmd"
      },
      "source": [
        "Calcule el resultado de $2*I+3*A+A@B$."
      ]
    },
    {
      "cell_type": "code",
      "metadata": {
        "colab": {
          "base_uri": "https://localhost:8080/"
        },
        "id": "9JVSA2JG9D8e",
        "outputId": "408302ac-6d5e-49b5-806f-81e39ca966e8"
      },
      "source": [
        "2*np.eye(2, dtype=int)+3*A+A@B"
      ],
      "execution_count": null,
      "outputs": [
        {
          "output_type": "execute_result",
          "data": {
            "text/plain": [
              "array([[13, 17],\n",
              "       [-1, 35]])"
            ]
          },
          "metadata": {
            "tags": []
          },
          "execution_count": 27
        }
      ]
    },
    {
      "cell_type": "markdown",
      "metadata": {
        "id": "FPHsNNlfBFPj"
      },
      "source": [
        "Potencia de matrices"
      ]
    },
    {
      "cell_type": "code",
      "metadata": {
        "colab": {
          "base_uri": "https://localhost:8080/"
        },
        "id": "h3mZbTCTBHOF",
        "outputId": "b2491f67-0ea6-422e-d801-1c8754c7564a"
      },
      "source": [
        "# Teníamos una matriz M definida. \n",
        "print(M)"
      ],
      "execution_count": null,
      "outputs": [
        {
          "output_type": "stream",
          "text": [
            "[[1 2]\n",
            " [3 4]]\n"
          ],
          "name": "stdout"
        }
      ]
    },
    {
      "cell_type": "code",
      "metadata": {
        "colab": {
          "base_uri": "https://localhost:8080/"
        },
        "id": "jUsbUYEgBWIx",
        "outputId": "961a31a1-bd8c-4224-aa92-bb3a0bf45509"
      },
      "source": [
        "# Cuadrado: M^2 = M@M\n",
        "print(M@M)\n",
        "print(mpow(M,2))"
      ],
      "execution_count": null,
      "outputs": [
        {
          "output_type": "stream",
          "text": [
            "[[ 7 10]\n",
            " [15 22]]\n",
            "[[ 7 10]\n",
            " [15 22]]\n"
          ],
          "name": "stdout"
        }
      ]
    },
    {
      "cell_type": "code",
      "metadata": {
        "colab": {
          "base_uri": "https://localhost:8080/"
        },
        "id": "h05uynz6BtLr",
        "outputId": "edb93668-2712-4406-876a-d31d83f94c89"
      },
      "source": [
        "# Quinta potencia: M^5 = M@M@M@M@M\n",
        "print(M@M@M@M@M)\n",
        "print(mpow(M,5))"
      ],
      "execution_count": null,
      "outputs": [
        {
          "output_type": "stream",
          "text": [
            "[[1069 1558]\n",
            " [2337 3406]]\n",
            "[[1069 1558]\n",
            " [2337 3406]]\n"
          ],
          "name": "stdout"
        }
      ]
    },
    {
      "cell_type": "markdown",
      "metadata": {
        "id": "qWYyW1WFI5uX"
      },
      "source": [
        "Matriz transpuesta"
      ]
    },
    {
      "cell_type": "code",
      "metadata": {
        "colab": {
          "base_uri": "https://localhost:8080/"
        },
        "id": "t0KWvlD4I85x",
        "outputId": "e3244d97-2468-4db1-8a92-a89271df91fc"
      },
      "source": [
        "# La matriz M y su transpuesta\n",
        "print(M)\n",
        "print(M.T)"
      ],
      "execution_count": null,
      "outputs": [
        {
          "output_type": "stream",
          "text": [
            "[[1 2]\n",
            " [3 4]]\n",
            "[[1 3]\n",
            " [2 4]]\n"
          ],
          "name": "stdout"
        }
      ]
    },
    {
      "cell_type": "code",
      "metadata": {
        "colab": {
          "base_uri": "https://localhost:8080/"
        },
        "id": "h2xxliTGJUs2",
        "outputId": "27a56868-96b9-4c1a-d607-c118cda273dd"
      },
      "source": [
        "# El producto de M por M.T, debe ser una matriz simétrica.\n",
        "M @ M.T"
      ],
      "execution_count": null,
      "outputs": [
        {
          "output_type": "execute_result",
          "data": {
            "text/plain": [
              "array([[ 5, 11],\n",
              "       [11, 25]])"
            ]
          },
          "metadata": {
            "tags": []
          },
          "execution_count": 33
        }
      ]
    },
    {
      "cell_type": "markdown",
      "metadata": {
        "id": "H4amAtL1Jhdp"
      },
      "source": [
        "Traza de una matriz\n",
        "\n",
        "Es la suma de los elementos de la diagonal"
      ]
    },
    {
      "cell_type": "code",
      "metadata": {
        "colab": {
          "base_uri": "https://localhost:8080/"
        },
        "id": "8X0QQPnhJjN5",
        "outputId": "c3b4c843-8b43-4ff3-b411-66af933b951a"
      },
      "source": [
        "# Traza de la matriz M.\n",
        "print(M)\n",
        "print(np.trace(M))"
      ],
      "execution_count": null,
      "outputs": [
        {
          "output_type": "stream",
          "text": [
            "[[1 2]\n",
            " [3 4]]\n",
            "5\n"
          ],
          "name": "stdout"
        }
      ]
    },
    {
      "cell_type": "markdown",
      "metadata": {
        "id": "bf3iRiwQKE4Z"
      },
      "source": [
        "Determinante de una matriz"
      ]
    },
    {
      "cell_type": "code",
      "metadata": {
        "colab": {
          "base_uri": "https://localhost:8080/"
        },
        "id": "Iq9D6iXfKCXJ",
        "outputId": "f553ecb7-4c6e-4515-cb8b-38b0bbb3e420"
      },
      "source": [
        "# Determinante de la matriz M\n",
        "print(M)\n",
        "print(la.det(M))"
      ],
      "execution_count": null,
      "outputs": [
        {
          "output_type": "stream",
          "text": [
            "[[1 2]\n",
            " [3 4]]\n",
            "-2.0\n"
          ],
          "name": "stdout"
        }
      ]
    },
    {
      "cell_type": "markdown",
      "metadata": {
        "id": "8m-pXLHzKUio"
      },
      "source": [
        "Matriz inversa"
      ]
    },
    {
      "cell_type": "code",
      "metadata": {
        "colab": {
          "base_uri": "https://localhost:8080/"
        },
        "id": "yBxttJTrKY5E",
        "outputId": "d59c83a4-6b41-4156-829e-88b3af9fa6af"
      },
      "source": [
        "# Matriz inversa de M\n",
        "la.inv(M)"
      ],
      "execution_count": null,
      "outputs": [
        {
          "output_type": "execute_result",
          "data": {
            "text/plain": [
              "array([[-2. ,  1. ],\n",
              "       [ 1.5, -0.5]])"
            ]
          },
          "metadata": {
            "tags": []
          },
          "execution_count": 36
        }
      ]
    },
    {
      "cell_type": "markdown",
      "metadata": {
        "id": "dS0w2iMisCRk"
      },
      "source": [
        "Ejercicio 2:"
      ]
    },
    {
      "cell_type": "code",
      "metadata": {
        "colab": {
          "base_uri": "https://localhost:8080/"
        },
        "id": "_gxOjtFNsokC",
        "outputId": "d0516bf0-9051-4ff5-e305-7c3c083d0ade"
      },
      "source": [
        "# Definimos una matriz A\n",
        "M = np.array([[4,3],[-5,6]])\n",
        "print(M)"
      ],
      "execution_count": null,
      "outputs": [
        {
          "output_type": "stream",
          "text": [
            "[[ 4  3]\n",
            " [-5  6]]\n"
          ],
          "name": "stdout"
        }
      ]
    },
    {
      "cell_type": "code",
      "metadata": {
        "colab": {
          "base_uri": "https://localhost:8080/"
        },
        "id": "FociUGbetOwJ",
        "outputId": "06890b31-7939-4a75-d28f-1fbb0d4926a2"
      },
      "source": [
        "# Determinante de la matriz M\n",
        "print(M)\n",
        "print(la.det(M))"
      ],
      "execution_count": null,
      "outputs": [
        {
          "output_type": "stream",
          "text": [
            "[[ 4  3]\n",
            " [-5  6]]\n",
            "39.0\n"
          ],
          "name": "stdout"
        }
      ]
    },
    {
      "cell_type": "code",
      "metadata": {
        "colab": {
          "base_uri": "https://localhost:8080/"
        },
        "id": "ukyGJJqItj7K",
        "outputId": "26c5ace3-7dd5-4707-d6b6-c1b071b49676"
      },
      "source": [
        "# Traza de la matriz M.\n",
        "print(M)\n",
        "print(np.trace(M))"
      ],
      "execution_count": null,
      "outputs": [
        {
          "output_type": "stream",
          "text": [
            "[[ 4  3]\n",
            " [-5  6]]\n",
            "10\n"
          ],
          "name": "stdout"
        }
      ]
    },
    {
      "cell_type": "code",
      "metadata": {
        "colab": {
          "base_uri": "https://localhost:8080/"
        },
        "id": "yFW5laDetqvO",
        "outputId": "6e1dc78c-ebed-4393-8039-ed718417f17f"
      },
      "source": [
        "(la.det(M))-(np.trace(M))*(M) + (M@M)"
      ],
      "execution_count": null,
      "outputs": [
        {
          "output_type": "execute_result",
          "data": {
            "text/plain": [
              "array([[ 0., 39.],\n",
              "       [39.,  0.]])"
            ]
          },
          "metadata": {
            "tags": []
          },
          "execution_count": 41
        }
      ]
    },
    {
      "cell_type": "markdown",
      "metadata": {
        "id": "8J1yvvCTwODl"
      },
      "source": [
        "Resolución de ecuaciones lineales"
      ]
    },
    {
      "cell_type": "code",
      "metadata": {
        "id": "A8u1DiQEwQgw"
      },
      "source": [
        "# Implementación del método de eliminación Gaussiana\n",
        "# Definimos 3 funciones \n",
        "\n",
        "# Intercambio de posición de renglones.\n",
        "def switch_rows(A,i,j):\n",
        "    \"Intercambiar renglones i y j en la matriz A.\"\n",
        "    n = A.shape[0]\n",
        "    E = np.eye(n)\n",
        "    E[i,i] = 0\n",
        "    E[j,j] = 0\n",
        "    E[i,j] = 1\n",
        "    E[j,i] = 1\n",
        "    return E @ A\n",
        "\n",
        "# Multiplicar un renglón por una constante no nula.\n",
        "def scale_row(A,k,i):\n",
        "    \"Multiplicar el renglón i por k en la matriz A.\"\n",
        "    n = A.shape[0]\n",
        "    E = np.eye(n)\n",
        "    E[i,i] = k\n",
        "    return E @ A\n",
        "\n",
        "# Sumar un múltiplo de un reglon a otro renglón.\n",
        "def add_row(A,k,i,j):\n",
        "    \"Sumar k veces el renglón j al renglón i en la matriz A.\"\n",
        "    n = A.shape[0]\n",
        "    E = np.eye(n)\n",
        "    if i == j:\n",
        "        E[i,i] = k + 1\n",
        "    else:\n",
        "        E[i,j] = k\n",
        "    return E @ A"
      ],
      "execution_count": null,
      "outputs": []
    },
    {
      "cell_type": "code",
      "metadata": {
        "colab": {
          "base_uri": "https://localhost:8080/"
        },
        "id": "mH-CifK_BOwf",
        "outputId": "445d6ee6-b041-41d9-8efb-c74739f008b2"
      },
      "source": [
        "A = np.array([[1,2], [3,4]])\n",
        "print(A)"
      ],
      "execution_count": null,
      "outputs": [
        {
          "output_type": "stream",
          "text": [
            "[[1 2]\n",
            " [3 4]]\n"
          ],
          "name": "stdout"
        }
      ]
    },
    {
      "cell_type": "code",
      "metadata": {
        "colab": {
          "base_uri": "https://localhost:8080/"
        },
        "id": "ijubP42NBWSj",
        "outputId": "0ec0f63d-17f4-4279-b0c7-e61a0563add0"
      },
      "source": [
        "print(switch_rows(A,0,1))"
      ],
      "execution_count": null,
      "outputs": [
        {
          "output_type": "stream",
          "text": [
            "[[3. 4.]\n",
            " [1. 2.]]\n"
          ],
          "name": "stdout"
        }
      ]
    },
    {
      "cell_type": "code",
      "metadata": {
        "colab": {
          "base_uri": "https://localhost:8080/"
        },
        "id": "u3eII609Blq6",
        "outputId": "6290b4fd-274c-48c9-d9b1-75eac9543754"
      },
      "source": [
        "print(scale_row(A, 5, 0))"
      ],
      "execution_count": null,
      "outputs": [
        {
          "output_type": "stream",
          "text": [
            "[[ 5. 10.]\n",
            " [ 3.  4.]]\n"
          ],
          "name": "stdout"
        }
      ]
    },
    {
      "cell_type": "code",
      "metadata": {
        "colab": {
          "base_uri": "https://localhost:8080/"
        },
        "id": "kyokdWnkBxK6",
        "outputId": "7b3ac476-c59c-4254-dff1-670030089426"
      },
      "source": [
        "print(add_row(A, 5, 1, 0))"
      ],
      "execution_count": null,
      "outputs": [
        {
          "output_type": "stream",
          "text": [
            "[[ 1.  2.]\n",
            " [ 8. 14.]]\n"
          ],
          "name": "stdout"
        }
      ]
    },
    {
      "cell_type": "markdown",
      "metadata": {
        "id": "riUNHMWtNcoo"
      },
      "source": [
        "Ejemplo:"
      ]
    },
    {
      "cell_type": "code",
      "metadata": {
        "colab": {
          "base_uri": "https://localhost:8080/"
        },
        "id": "DJgMUuvqK_lz",
        "outputId": "80102b5f-f1c7-4dec-be7e-addf889e235a"
      },
      "source": [
        "M = np.array([[2,1,-1],[-3,-1,2],[-2,1,2]])\n",
        "print(M)\n",
        "print('det(M) = ', la.det(M))"
      ],
      "execution_count": null,
      "outputs": [
        {
          "output_type": "stream",
          "text": [
            "[[ 2  1 -1]\n",
            " [-3 -1  2]\n",
            " [-2  1  2]]\n",
            "det(M) =  -1.0\n"
          ],
          "name": "stdout"
        }
      ]
    },
    {
      "cell_type": "code",
      "metadata": {
        "colab": {
          "base_uri": "https://localhost:8080/"
        },
        "id": "SCP2uQjnTFcj",
        "outputId": "23e0e925-ac15-4148-ea43-2c3e38080f5b"
      },
      "source": [
        "# Matriz aumentada: Unimos la matriz M con la matriz Identidad \n",
        "A = np.hstack([M,np.eye(3)])\n",
        "print(A)"
      ],
      "execution_count": null,
      "outputs": [
        {
          "output_type": "stream",
          "text": [
            "[[ 2.  1. -1.  1.  0.  0.]\n",
            " [-3. -1.  2.  0.  1.  0.]\n",
            " [-2.  1.  2.  0.  0.  1.]]\n"
          ],
          "name": "stdout"
        }
      ]
    },
    {
      "cell_type": "code",
      "metadata": {
        "colab": {
          "base_uri": "https://localhost:8080/"
        },
        "id": "6tp6ANduTJ7J",
        "outputId": "f3d83416-257c-4117-ea41-7c8eb33fb46a"
      },
      "source": [
        "# \"Sumar k veces el renglón j al renglón i en la matriz A.\"\n",
        "# add_row(A,k,i,j):\n",
        "A1_tmp = add_row(A,3/2,1,0)\n",
        "A1 = add_row(A1_tmp,1,2,0)\n",
        "print(A1)"
      ],
      "execution_count": null,
      "outputs": [
        {
          "output_type": "stream",
          "text": [
            "[[ 2.   1.  -1.   1.   0.   0. ]\n",
            " [ 0.   0.5  0.5  1.5  1.   0. ]\n",
            " [ 0.   2.   1.   1.   0.   1. ]]\n"
          ],
          "name": "stdout"
        }
      ]
    },
    {
      "cell_type": "code",
      "metadata": {
        "colab": {
          "base_uri": "https://localhost:8080/"
        },
        "id": "sTybFKa_TQBH",
        "outputId": "48f5f4a3-bf36-4c45-f6dc-44cf542bad56"
      },
      "source": [
        "A2 = add_row(A1, -4,2,1)\n",
        "print(A2)"
      ],
      "execution_count": null,
      "outputs": [
        {
          "output_type": "stream",
          "text": [
            "[[ 2.   1.  -1.   1.   0.   0. ]\n",
            " [ 0.   0.5  0.5  1.5  1.   0. ]\n",
            " [ 0.   0.  -1.  -5.  -4.   1. ]]\n"
          ],
          "name": "stdout"
        }
      ]
    },
    {
      "cell_type": "code",
      "metadata": {
        "colab": {
          "base_uri": "https://localhost:8080/"
        },
        "id": "zkTKdTuPTU2B",
        "outputId": "ab2c7e83-db6c-4390-a24a-053e75029225"
      },
      "source": [
        "A3_tmp = add_row(A2, 1/2, 1, 2)\n",
        "A3 = add_row(A3_tmp, -1,0,2)\n",
        "print(A3)"
      ],
      "execution_count": null,
      "outputs": [
        {
          "output_type": "stream",
          "text": [
            "[[ 2.   1.   0.   6.   4.  -1. ]\n",
            " [ 0.   0.5  0.  -1.  -1.   0.5]\n",
            " [ 0.   0.  -1.  -5.  -4.   1. ]]\n"
          ],
          "name": "stdout"
        }
      ]
    },
    {
      "cell_type": "code",
      "metadata": {
        "colab": {
          "base_uri": "https://localhost:8080/"
        },
        "id": "UnPTsJ0NTaG9",
        "outputId": "caeb3710-fce4-4fc3-bf1b-531326ee21f3"
      },
      "source": [
        "A4_tmp = scale_row(A3,2,1)\n",
        "A4 = scale_row(A4_tmp, -1, 2)\n",
        "print(A4)"
      ],
      "execution_count": null,
      "outputs": [
        {
          "output_type": "stream",
          "text": [
            "[[ 2.  1.  0.  6.  4. -1.]\n",
            " [ 0.  1.  0. -2. -2.  1.]\n",
            " [ 0.  0.  1.  5.  4. -1.]]\n"
          ],
          "name": "stdout"
        }
      ]
    },
    {
      "cell_type": "code",
      "metadata": {
        "colab": {
          "base_uri": "https://localhost:8080/"
        },
        "id": "zUYlYAleTecb",
        "outputId": "4efca33c-33e4-4513-cd32-a4331084777d"
      },
      "source": [
        "A5_tmp = add_row(A4,-1,0,1)\n",
        "A5 = scale_row(A5_tmp,1/2,0)\n",
        "print(A5)"
      ],
      "execution_count": null,
      "outputs": [
        {
          "output_type": "stream",
          "text": [
            "[[ 1.  0.  0.  4.  3. -1.]\n",
            " [ 0.  1.  0. -2. -2.  1.]\n",
            " [ 0.  0.  1.  5.  4. -1.]]\n"
          ],
          "name": "stdout"
        }
      ]
    },
    {
      "cell_type": "code",
      "metadata": {
        "colab": {
          "base_uri": "https://localhost:8080/"
        },
        "id": "gFtTAbNiThm4",
        "outputId": "4bec4c26-bd7e-4dc8-d144-5d1a25204543"
      },
      "source": [
        "M_inv = A5[:,3:]\n",
        "print(M_inv)"
      ],
      "execution_count": null,
      "outputs": [
        {
          "output_type": "stream",
          "text": [
            "[[ 4.  3. -1.]\n",
            " [-2. -2.  1.]\n",
            " [ 5.  4. -1.]]\n"
          ],
          "name": "stdout"
        }
      ]
    },
    {
      "cell_type": "code",
      "metadata": {
        "colab": {
          "base_uri": "https://localhost:8080/"
        },
        "id": "JBPL7EU1TrVf",
        "outputId": "1902f57b-671f-4d2b-894e-30f7399f00dc"
      },
      "source": [
        "# El producto de M_inv @ M = I \n",
        "result = M_inv @ M\n",
        "print(result)"
      ],
      "execution_count": null,
      "outputs": [
        {
          "output_type": "stream",
          "text": [
            "[[1. 0. 0.]\n",
            " [0. 1. 0.]\n",
            " [0. 0. 1.]]\n"
          ],
          "name": "stdout"
        }
      ]
    },
    {
      "cell_type": "code",
      "metadata": {
        "colab": {
          "base_uri": "https://localhost:8080/"
        },
        "id": "dEvDOJEBTutU",
        "outputId": "cdc76f61-3119-4c8f-9b6f-d4c44af14535"
      },
      "source": [
        "# Checamos la inversa de M con la función 'la.inv(M)'\n",
        "la.inv(M)"
      ],
      "execution_count": null,
      "outputs": [
        {
          "output_type": "execute_result",
          "data": {
            "text/plain": [
              "array([[ 4.,  3., -1.],\n",
              "       [-2., -2.,  1.],\n",
              "       [ 5.,  4., -1.]])"
            ]
          },
          "metadata": {
            "tags": []
          },
          "execution_count": 61
        }
      ]
    },
    {
      "cell_type": "markdown",
      "metadata": {
        "id": "6gHlro9GUL88"
      },
      "source": [
        "Resolviendo la ecuación Mx=b"
      ]
    },
    {
      "cell_type": "code",
      "metadata": {
        "colab": {
          "base_uri": "https://localhost:8080/"
        },
        "id": "doOlABg2UNER",
        "outputId": "2c8d1f04-c128-40b7-8886-fadc9fac07a2"
      },
      "source": [
        "# definimos b. Recordemos que tenemos que usar la función .reshape()\n",
        "b = np.array([8,-11,-3]).reshape(3,1)\n",
        "print(b)"
      ],
      "execution_count": null,
      "outputs": [
        {
          "output_type": "stream",
          "text": [
            "[[  8]\n",
            " [-11]\n",
            " [ -3]]\n"
          ],
          "name": "stdout"
        }
      ]
    },
    {
      "cell_type": "code",
      "metadata": {
        "colab": {
          "base_uri": "https://localhost:8080/"
        },
        "id": "PvAXwSYiUWfj",
        "outputId": "19a51dcc-4a3e-485d-eabf-bf6a7de75c54"
      },
      "source": [
        "# La solución es:\n",
        "x = M_inv @ b \n",
        "print(x)"
      ],
      "execution_count": null,
      "outputs": [
        {
          "output_type": "stream",
          "text": [
            "[[ 2.]\n",
            " [ 3.]\n",
            " [-1.]]\n"
          ],
          "name": "stdout"
        }
      ]
    },
    {
      "cell_type": "markdown",
      "metadata": {
        "id": "eaXDHgQIVYXV"
      },
      "source": [
        "Podemos usar la función solve() de scipy.linalg"
      ]
    },
    {
      "cell_type": "code",
      "metadata": {
        "colab": {
          "base_uri": "https://localhost:8080/"
        },
        "id": "mZL4E5e9VaQb",
        "outputId": "840969fb-15a0-4da3-f08d-5eafd3a23e7d"
      },
      "source": [
        "# Resolviendo el sistema de ecuaciones usando scipy.linalg.solve\n",
        "x_sol = la.solve(M, b)\n",
        "print(x_sol)"
      ],
      "execution_count": null,
      "outputs": [
        {
          "output_type": "stream",
          "text": [
            "[[ 2.]\n",
            " [ 3.]\n",
            " [-1.]]\n"
          ],
          "name": "stdout"
        }
      ]
    },
    {
      "cell_type": "markdown",
      "metadata": {
        "id": "aWds5TeYVlCy"
      },
      "source": [
        "Ejercicio 3:"
      ]
    },
    {
      "cell_type": "code",
      "metadata": {
        "colab": {
          "base_uri": "https://localhost:8080/"
        },
        "id": "97Hu78t-VmrM",
        "outputId": "06e5082d-21f5-40ae-e370-c49c3d6b5dee"
      },
      "source": [
        "M = np.array([[1,-3,1],[3,-4,1],[0,2,-1]])\n",
        "print(M)"
      ],
      "execution_count": null,
      "outputs": [
        {
          "output_type": "stream",
          "text": [
            "[[ 1 -3  1]\n",
            " [ 3 -4  1]\n",
            " [ 0  2 -1]]\n"
          ],
          "name": "stdout"
        }
      ]
    },
    {
      "cell_type": "code",
      "metadata": {
        "colab": {
          "base_uri": "https://localhost:8080/"
        },
        "id": "PUyGS1z3XuU9",
        "outputId": "7eca4be8-78ce-4c6c-f240-c38688b71019"
      },
      "source": [
        "# Matriz aumentada: Unimos la matriz M con la matriz Identidad \n",
        "A = np.hstack([M,np.eye(3)])\n",
        "print(A)"
      ],
      "execution_count": null,
      "outputs": [
        {
          "output_type": "stream",
          "text": [
            "[[ 1. -3.  1.  1.  0.  0.]\n",
            " [ 3. -4.  1.  0.  1.  0.]\n",
            " [ 0.  2. -1.  0.  0.  1.]]\n"
          ],
          "name": "stdout"
        }
      ]
    },
    {
      "cell_type": "code",
      "metadata": {
        "colab": {
          "base_uri": "https://localhost:8080/"
        },
        "id": "MXM0b8BdX7E5",
        "outputId": "f497b681-62cf-4de8-951f-3ba7886ee85f"
      },
      "source": [
        "# \"Sumar k veces el renglón j al renglón i en la matriz A.\"\n",
        "# add_row(A,k,i,j):\n",
        "# 1) L2 - 3 L1 ->  L2;\n",
        "A1_tmp = add_row(A,-3,1,0)\n",
        "A1 = add_row(A1_tmp,0,2,0)\n",
        "print(A1)"
      ],
      "execution_count": null,
      "outputs": [
        {
          "output_type": "stream",
          "text": [
            "[[ 1. -3.  1.  1.  0.  0.]\n",
            " [ 0.  5. -2. -3.  1.  0.]\n",
            " [ 0.  2. -1.  0.  0.  1.]]\n"
          ],
          "name": "stdout"
        }
      ]
    },
    {
      "cell_type": "code",
      "metadata": {
        "colab": {
          "base_uri": "https://localhost:8080/"
        },
        "id": "gCFqRCjZ4zs8",
        "outputId": "51de749d-b79c-4c22-f122-dd784b52d0e5"
      },
      "source": [
        "A2_tmp = scale_row(A1,1/5,1)\n",
        "print(A2_tmp)"
      ],
      "execution_count": null,
      "outputs": [
        {
          "output_type": "stream",
          "text": [
            "[[ 1.  -3.   1.   1.   0.   0. ]\n",
            " [ 0.   1.  -0.4 -0.6  0.2  0. ]\n",
            " [ 0.   2.  -1.   0.   0.   1. ]]\n"
          ],
          "name": "stdout"
        }
      ]
    },
    {
      "cell_type": "code",
      "metadata": {
        "colab": {
          "base_uri": "https://localhost:8080/"
        },
        "id": "yJ5wzcJa6p0o",
        "outputId": "b425ccb4-8df3-47a8-bbe6-b1d7b515aeb0"
      },
      "source": [
        "A3_tmp = add_row(A2_tmp,3,0,1)\n",
        "A3 = add_row(A3_tmp,-2,2,1)\n",
        "print(A3)"
      ],
      "execution_count": null,
      "outputs": [
        {
          "output_type": "stream",
          "text": [
            "[[ 1.   0.  -0.2 -0.8  0.6  0. ]\n",
            " [ 0.   1.  -0.4 -0.6  0.2  0. ]\n",
            " [ 0.   0.  -0.2  1.2 -0.4  1. ]]\n"
          ],
          "name": "stdout"
        }
      ]
    },
    {
      "cell_type": "code",
      "metadata": {
        "colab": {
          "base_uri": "https://localhost:8080/"
        },
        "id": "aEeGwF_075Ua",
        "outputId": "7976eca3-1e22-4a3b-d034-bed65ffc7354"
      },
      "source": [
        "A4_tmp = scale_row(A3,-5,2)\n",
        "print(A4_tmp)"
      ],
      "execution_count": null,
      "outputs": [
        {
          "output_type": "stream",
          "text": [
            "[[ 1.   0.  -0.2 -0.8  0.6  0. ]\n",
            " [ 0.   1.  -0.4 -0.6  0.2  0. ]\n",
            " [ 0.   0.   1.  -6.   2.  -5. ]]\n"
          ],
          "name": "stdout"
        }
      ]
    },
    {
      "cell_type": "code",
      "metadata": {
        "colab": {
          "base_uri": "https://localhost:8080/"
        },
        "id": "elkf010Q80jz",
        "outputId": "13f549fb-505e-47ec-b2be-da79138734b3"
      },
      "source": [
        "A5_tmp = add_row(A4_tmp,5,0,2)\n",
        "print(A5_tmp)"
      ],
      "execution_count": null,
      "outputs": [
        {
          "output_type": "stream",
          "text": [
            "[[  1.    0.    4.8 -30.8  10.6 -25. ]\n",
            " [  0.    1.   -0.4  -0.6   0.2   0. ]\n",
            " [  0.    0.    1.   -6.    2.   -5. ]]\n"
          ],
          "name": "stdout"
        }
      ]
    },
    {
      "cell_type": "markdown",
      "metadata": {
        "id": "wAywYho5JcWJ"
      },
      "source": [
        "Faltan dos últimos números para encontrar la inversa pero por algún motivo no me deja encontrarlos, así que aquí está el resultado:\n",
        "\n",
        "\\begin{pmatrix}-2&1&-1\\\\ -3&1&-2\\\\ -6&2&-5\\end{pmatrix}\n"
      ]
    },
    {
      "cell_type": "markdown",
      "metadata": {
        "id": "EcAXaXj_-u4i"
      },
      "source": [
        "Función scipy.linalg.solve()"
      ]
    },
    {
      "cell_type": "markdown",
      "metadata": {
        "id": "PmgVl0vDLLnR"
      },
      "source": [
        "Aquí se confirma el resultado:"
      ]
    },
    {
      "cell_type": "code",
      "metadata": {
        "colab": {
          "base_uri": "https://localhost:8080/"
        },
        "id": "wa3JA5bY-tw5",
        "outputId": "9df60fbf-f8a2-494b-c56e-7d78802bc417"
      },
      "source": [
        "# Checamos la inversa de M con la función 'la.inv(M)'\n",
        "la.inv(M)"
      ],
      "execution_count": null,
      "outputs": [
        {
          "output_type": "execute_result",
          "data": {
            "text/plain": [
              "array([[-2.,  1., -1.],\n",
              "       [-3.,  1., -2.],\n",
              "       [-6.,  2., -5.]])"
            ]
          },
          "metadata": {
            "tags": []
          },
          "execution_count": 73
        }
      ]
    },
    {
      "cell_type": "code",
      "metadata": {
        "colab": {
          "base_uri": "https://localhost:8080/"
        },
        "id": "_jYlWTOQAMFM",
        "outputId": "0bb6c946-3f01-408b-e159-a64d8566e240"
      },
      "source": [
        "# definimos b. Recordemos que tenemos que usar la función .reshape()\n",
        "b = np.array([8,-11,-3]).reshape(3,1)\n",
        "print(b)"
      ],
      "execution_count": null,
      "outputs": [
        {
          "output_type": "stream",
          "text": [
            "[[  8]\n",
            " [-11]\n",
            " [ -3]]\n"
          ],
          "name": "stdout"
        }
      ]
    },
    {
      "cell_type": "code",
      "metadata": {
        "colab": {
          "base_uri": "https://localhost:8080/"
        },
        "id": "KhJ8a3JsApMz",
        "outputId": "2a1a5c43-2956-41ba-d0dc-29316adc1121"
      },
      "source": [
        "# La solución es:\n",
        "x = M_inv @ b \n",
        "print(x)"
      ],
      "execution_count": null,
      "outputs": [
        {
          "output_type": "stream",
          "text": [
            "[[ 2.]\n",
            " [ 3.]\n",
            " [-1.]]\n"
          ],
          "name": "stdout"
        }
      ]
    },
    {
      "cell_type": "code",
      "metadata": {
        "colab": {
          "base_uri": "https://localhost:8080/"
        },
        "id": "V1uk1uWuAyUy",
        "outputId": "977ce860-69ad-4009-e515-6b516aab3b11"
      },
      "source": [
        "# Resolviendo el sistema de ecuaciones usando scipy.linalg.solve\n",
        "x_sol = la.solve(M, b)\n",
        "print(x_sol)"
      ],
      "execution_count": null,
      "outputs": [
        {
          "output_type": "stream",
          "text": [
            "[[-24.]\n",
            " [-29.]\n",
            " [-55.]]\n"
          ],
          "name": "stdout"
        }
      ]
    },
    {
      "cell_type": "markdown",
      "metadata": {
        "id": "3uE1sKYQA2do"
      },
      "source": [
        "Eigenvalores y eigenvectores"
      ]
    },
    {
      "cell_type": "code",
      "metadata": {
        "colab": {
          "base_uri": "https://localhost:8080/"
        },
        "id": "YMBfXDViLk3y",
        "outputId": "d415a1f9-d960-424d-ed4c-7e0e44b2b23c"
      },
      "source": [
        "# Ejemplo una matriz 2x2\n",
        "A = np.array([[2,1],[1,2]])\n",
        "print(A)"
      ],
      "execution_count": null,
      "outputs": [
        {
          "output_type": "stream",
          "text": [
            "[[2 1]\n",
            " [1 2]]\n"
          ],
          "name": "stdout"
        }
      ]
    },
    {
      "cell_type": "code",
      "metadata": {
        "colab": {
          "base_uri": "https://localhost:8080/"
        },
        "id": "su65VptUL8R1",
        "outputId": "ecb56a9e-617a-4169-e5c2-70bfbf4e73de"
      },
      "source": [
        "# Aplicamos la biblioteca scipy.linalg.eig()\n",
        "eigvals, eigvecs = la.eig(A)\n",
        "print('Eigenvalores:', eigvals)\n",
        "print('Eigenvectores:', eigvecs)"
      ],
      "execution_count": null,
      "outputs": [
        {
          "output_type": "stream",
          "text": [
            "Eigenvalores: [3.+0.j 1.+0.j]\n",
            "Eigenvectores: [[ 0.70710678 -0.70710678]\n",
            " [ 0.70710678  0.70710678]]\n"
          ],
          "name": "stdout"
        }
      ]
    },
    {
      "cell_type": "code",
      "metadata": {
        "colab": {
          "base_uri": "https://localhost:8080/"
        },
        "id": "lTyh2li3MCpK",
        "outputId": "02c94f78-cf81-4da2-f90b-5e780ecfb65a"
      },
      "source": [
        "# Los eigenvectores son linealmente independientes\n",
        "v1 = eigvecs[:,0]\n",
        "v2 = eigvecs[:,1]\n",
        "print('v1=',v1)\n",
        "print('v2=',v2)"
      ],
      "execution_count": null,
      "outputs": [
        {
          "output_type": "stream",
          "text": [
            "v1= [0.70710678 0.70710678]\n",
            "v2= [-0.70710678  0.70710678]\n"
          ],
          "name": "stdout"
        }
      ]
    },
    {
      "cell_type": "code",
      "metadata": {
        "colab": {
          "base_uri": "https://localhost:8080/"
        },
        "id": "INBzHIYcMZkx",
        "outputId": "2018342e-b034-42d0-f236-9a8036322394"
      },
      "source": [
        "# Formamos la matriz de los eigenvectores\n",
        "P = np.array([[1,1],[1,-1]])\n",
        "print(P)"
      ],
      "execution_count": null,
      "outputs": [
        {
          "output_type": "stream",
          "text": [
            "[[ 1  1]\n",
            " [ 1 -1]]\n"
          ],
          "name": "stdout"
        }
      ]
    },
    {
      "cell_type": "code",
      "metadata": {
        "colab": {
          "base_uri": "https://localhost:8080/"
        },
        "id": "bLat7ffMMe0J",
        "outputId": "138bd172-0c24-492f-b6ec-23b3ea72d328"
      },
      "source": [
        "# La matriz de los eigenvalores en la diagonal la definimos con\n",
        "D = np.diag((3,1))\n",
        "print(D)"
      ],
      "execution_count": null,
      "outputs": [
        {
          "output_type": "stream",
          "text": [
            "[[3 0]\n",
            " [0 1]]\n"
          ],
          "name": "stdout"
        }
      ]
    },
    {
      "cell_type": "code",
      "metadata": {
        "colab": {
          "base_uri": "https://localhost:8080/"
        },
        "id": "NpIAWv0QMkQ0",
        "outputId": "594fe549-23e1-4071-8a67-b0b5ae7b5999"
      },
      "source": [
        "# Calculamos M = P D P^{-1}\n",
        "# Veremos que es la matriz A\n",
        "\n",
        "M = P @ D @ la.inv(P)\n",
        "print(M)"
      ],
      "execution_count": null,
      "outputs": [
        {
          "output_type": "stream",
          "text": [
            "[[2. 1.]\n",
            " [1. 2.]]\n"
          ],
          "name": "stdout"
        }
      ]
    },
    {
      "cell_type": "markdown",
      "metadata": {
        "id": "ooI4Z2VfMvnl"
      },
      "source": [
        "Potencias de una matriz"
      ]
    },
    {
      "cell_type": "code",
      "metadata": {
        "colab": {
          "base_uri": "https://localhost:8080/"
        },
        "id": "NRiaPSKcMtB2",
        "outputId": "5c19c8c9-9e1a-40dc-c1f0-fa06f917babe"
      },
      "source": [
        "# Calculamos la potencia k=25\n",
        "k=25\n",
        "P_inv = la.inv(P)\n",
        "\n",
        "print('La matriz de eigenvectores:',P)\n",
        "print('La matriz inversa de P: ', P_inv)"
      ],
      "execution_count": null,
      "outputs": [
        {
          "output_type": "stream",
          "text": [
            "La matriz de eigenvectores: [[ 1  1]\n",
            " [ 1 -1]]\n",
            "La matriz inversa de P:  [[ 0.5  0.5]\n",
            " [ 0.5 -0.5]]\n"
          ],
          "name": "stdout"
        }
      ]
    },
    {
      "cell_type": "code",
      "metadata": {
        "colab": {
          "base_uri": "https://localhost:8080/"
        },
        "id": "P4iuxQHEMyNJ",
        "outputId": "c6bf32e0-15e9-4bd2-cc6a-9f4b38fd8c12"
      },
      "source": [
        "# La multilicación de M consigo misma k=25 veces\n",
        "# Calculamos el tiempo de cómputo.\n",
        "%%timeit\n",
        "result = M.copy()\n",
        "for _ in range(1,k):\n",
        "    result = result @ M"
      ],
      "execution_count": null,
      "outputs": [
        {
          "output_type": "stream",
          "text": [
            "10000 loops, best of 5: 40.9 µs per loop\n"
          ],
          "name": "stdout"
        }
      ]
    },
    {
      "cell_type": "code",
      "metadata": {
        "colab": {
          "base_uri": "https://localhost:8080/"
        },
        "id": "Y2LQ6j3wM_6c",
        "outputId": "5cfe1159-6839-4c4a-b2c7-fa978a5494de"
      },
      "source": [
        "# Ahora calculamos usando la propiedad de diagonalización de M\n",
        "# Calculamos el tiempo de la operación\n",
        "%%timeit\n",
        "P @ D**k @ P_inv"
      ],
      "execution_count": null,
      "outputs": [
        {
          "output_type": "stream",
          "text": [
            "The slowest run took 16.37 times longer than the fastest. This could mean that an intermediate result is being cached.\n",
            "100000 loops, best of 5: 5.14 µs per loop\n"
          ],
          "name": "stdout"
        }
      ]
    },
    {
      "cell_type": "markdown",
      "metadata": {
        "id": "EdRHD_6WNasw"
      },
      "source": [
        "Ejercicio 4:"
      ]
    },
    {
      "cell_type": "markdown",
      "metadata": {
        "id": "zEQivoCRWDDD"
      },
      "source": [
        "Matriz 1:"
      ]
    },
    {
      "cell_type": "code",
      "metadata": {
        "colab": {
          "base_uri": "https://localhost:8080/"
        },
        "id": "hMfOtcimNcj1",
        "outputId": "2c76375f-f886-4d60-ae22-85f82001b6cf"
      },
      "source": [
        "# Ejemplo una matriz 3x3\n",
        "A = np.array([[2,0,0],[0,3,4],[0,4,9]])\n",
        "print(A)"
      ],
      "execution_count": null,
      "outputs": [
        {
          "output_type": "stream",
          "text": [
            "[[2 0 0]\n",
            " [0 3 4]\n",
            " [0 4 9]]\n"
          ],
          "name": "stdout"
        }
      ]
    },
    {
      "cell_type": "code",
      "metadata": {
        "colab": {
          "base_uri": "https://localhost:8080/"
        },
        "id": "DsKhfsVaUzNb",
        "outputId": "6b798b86-77bf-4a5d-f4e1-4861044d5e7c"
      },
      "source": [
        "# Aplicamos la biblioteca scipy.linalg.eig()\n",
        "eigvals, eigvecs = la.eig(A)\n",
        "print('Eigenvalores:', eigvals)\n",
        "print('Eigenvectores:', eigvecs)"
      ],
      "execution_count": null,
      "outputs": [
        {
          "output_type": "stream",
          "text": [
            "Eigenvalores: [11.+0.j  1.+0.j  2.+0.j]\n",
            "Eigenvectores: [[ 0.          0.          1.        ]\n",
            " [ 0.4472136   0.89442719  0.        ]\n",
            " [ 0.89442719 -0.4472136   0.        ]]\n"
          ],
          "name": "stdout"
        }
      ]
    },
    {
      "cell_type": "code",
      "metadata": {
        "colab": {
          "base_uri": "https://localhost:8080/"
        },
        "id": "4wY1-pSmU_BE",
        "outputId": "92be70df-403c-43a9-ebd2-227ff3725143"
      },
      "source": [
        "# Los eigenvectores son linealmente independientes\n",
        "v1 = eigvecs[:,0]\n",
        "v2 = eigvecs[:,1]\n",
        "print('v1=',v1)\n",
        "print('v2=',v2)"
      ],
      "execution_count": null,
      "outputs": [
        {
          "output_type": "stream",
          "text": [
            "v1= [0.         0.4472136  0.89442719]\n",
            "v2= [ 0.          0.89442719 -0.4472136 ]\n"
          ],
          "name": "stdout"
        }
      ]
    },
    {
      "cell_type": "code",
      "metadata": {
        "colab": {
          "base_uri": "https://localhost:8080/"
        },
        "id": "Do4BioHjVHAm",
        "outputId": "1bf7c560-ec0b-4265-d84d-7aeb96f7dfdc"
      },
      "source": [
        "# Calculamos el producto matricial y el producto punto de 2 vectores (linealmente independientes)\n",
        "print('Producto matricial:',v1@v2)\n",
        "print('Producto escalar:', np.dot(v1,v2.T))"
      ],
      "execution_count": null,
      "outputs": [
        {
          "output_type": "stream",
          "text": [
            "Producto matricial: -1.2594923403361582e-17\n",
            "Producto escalar: -1.2594923403361582e-17\n"
          ],
          "name": "stdout"
        }
      ]
    },
    {
      "cell_type": "markdown",
      "metadata": {
        "id": "rbMidbxUWIaj"
      },
      "source": [
        "Matriz 2:"
      ]
    },
    {
      "cell_type": "code",
      "metadata": {
        "colab": {
          "base_uri": "https://localhost:8080/"
        },
        "id": "YpZmKsH_WBdi",
        "outputId": "92c3b066-7944-4890-d952-4256d4f7c6a7"
      },
      "source": [
        "# Ejemplo una matriz 3x3\n",
        "A = np.array([[0,1,0],[0,0,1],[1,0,0]])\n",
        "print(A)"
      ],
      "execution_count": null,
      "outputs": [
        {
          "output_type": "stream",
          "text": [
            "[[0 1 0]\n",
            " [0 0 1]\n",
            " [1 0 0]]\n"
          ],
          "name": "stdout"
        }
      ]
    },
    {
      "cell_type": "code",
      "metadata": {
        "colab": {
          "base_uri": "https://localhost:8080/"
        },
        "id": "dkUDD76dYEAN",
        "outputId": "bf699303-03cd-41e8-864f-adccf536c70a"
      },
      "source": [
        "# Aplicamos la biblioteca scipy.linalg.eig()\n",
        "eigvals, eigvecs = la.eig(A)\n",
        "print('Eigenvalores:', eigvals)\n",
        "print('Eigenvectores:', eigvecs)"
      ],
      "execution_count": null,
      "outputs": [
        {
          "output_type": "stream",
          "text": [
            "Eigenvalores: [-0.5+0.8660254j -0.5-0.8660254j  1. +0.j       ]\n",
            "Eigenvectores: [[ 0.57735027+0.j   0.57735027-0.j  -0.57735027+0.j ]\n",
            " [-0.28867513+0.5j -0.28867513-0.5j -0.57735027+0.j ]\n",
            " [-0.28867513-0.5j -0.28867513+0.5j -0.57735027+0.j ]]\n"
          ],
          "name": "stdout"
        }
      ]
    },
    {
      "cell_type": "code",
      "metadata": {
        "colab": {
          "base_uri": "https://localhost:8080/"
        },
        "id": "agqBZLLhYO-V",
        "outputId": "ddf63931-8749-4f08-9f78-8cd6f9313a98"
      },
      "source": [
        "# Los eigenvectores son linealmente independientes\n",
        "v1 = eigvecs[:,0]\n",
        "v2 = eigvecs[:,1]\n",
        "print('v1=',v1)\n",
        "print('v2=',v2)"
      ],
      "execution_count": null,
      "outputs": [
        {
          "output_type": "stream",
          "text": [
            "v1= [ 0.57735027+0.j  -0.28867513+0.5j -0.28867513-0.5j]\n",
            "v2= [ 0.57735027-0.j  -0.28867513-0.5j -0.28867513+0.5j]\n"
          ],
          "name": "stdout"
        }
      ]
    },
    {
      "cell_type": "code",
      "metadata": {
        "colab": {
          "base_uri": "https://localhost:8080/"
        },
        "id": "YCf4mtVhYrNb",
        "outputId": "367d6a22-87a4-4a61-ca61-3ea6e072516b"
      },
      "source": [
        "# Calculamos el producto matricial y el producto punto de 2 vectores (linealmente independientes)\n",
        "print('Producto matricial:',v1@v2)\n",
        "print('Producto escalar:', np.dot(v1,v2.T))"
      ],
      "execution_count": null,
      "outputs": [
        {
          "output_type": "stream",
          "text": [
            "Producto matricial: (1+0j)\n",
            "Producto escalar: (1+0j)\n"
          ],
          "name": "stdout"
        }
      ]
    },
    {
      "cell_type": "markdown",
      "metadata": {
        "id": "p3XhBfyHZhhx"
      },
      "source": [
        "Matriz 3:"
      ]
    },
    {
      "cell_type": "code",
      "metadata": {
        "colab": {
          "base_uri": "https://localhost:8080/"
        },
        "id": "-h3NvGoNZg9h",
        "outputId": "dcf0b8d1-2b1e-4336-8031-5d6b4fa77ba3"
      },
      "source": [
        "# Ejemplo una matriz 4x4\n",
        "A = np.array([[2,0,0,0],[1,2,0,0],[0,1,3,0],[0,0,1,3]])\n",
        "print(A)"
      ],
      "execution_count": null,
      "outputs": [
        {
          "output_type": "stream",
          "text": [
            "[[2 0 0 0]\n",
            " [1 2 0 0]\n",
            " [0 1 3 0]\n",
            " [0 0 1 3]]\n"
          ],
          "name": "stdout"
        }
      ]
    },
    {
      "cell_type": "code",
      "metadata": {
        "colab": {
          "base_uri": "https://localhost:8080/"
        },
        "id": "HIHATukKarIa",
        "outputId": "f0c0b00f-b0b6-4d89-a6b8-075f654a5678"
      },
      "source": [
        "# Aplicamos la biblioteca scipy.linalg.eig()\n",
        "eigvals, eigvecs = la.eig(A)\n",
        "print('Eigenvalores:', eigvals)\n",
        "print('Eigenvectores:', eigvecs)"
      ],
      "execution_count": null,
      "outputs": [
        {
          "output_type": "stream",
          "text": [
            "Eigenvalores: [3.+0.j 3.+0.j 2.+0.j 2.+0.j]\n",
            "Eigenvectores: [[ 0.00000000e+00  0.00000000e+00  0.00000000e+00  2.56395025e-16]\n",
            " [ 0.00000000e+00  0.00000000e+00  5.77350269e-01 -5.77350269e-01]\n",
            " [ 0.00000000e+00  6.66133815e-16 -5.77350269e-01  5.77350269e-01]\n",
            " [ 1.00000000e+00 -1.00000000e+00  5.77350269e-01 -5.77350269e-01]]\n"
          ],
          "name": "stdout"
        }
      ]
    },
    {
      "cell_type": "code",
      "metadata": {
        "colab": {
          "base_uri": "https://localhost:8080/"
        },
        "id": "2fWTNAKfatfl",
        "outputId": "4a8c36fa-728f-4c07-85f4-e5761225ebbe"
      },
      "source": [
        "# Los eigenvectores son linealmente independientes\n",
        "v1 = eigvecs[:,0]\n",
        "v2 = eigvecs[:,1]\n",
        "print('v1=',v1)\n",
        "print('v2=',v2)"
      ],
      "execution_count": null,
      "outputs": [
        {
          "output_type": "stream",
          "text": [
            "v1= [0. 0. 0. 1.]\n",
            "v2= [ 0.00000000e+00  0.00000000e+00  6.66133815e-16 -1.00000000e+00]\n"
          ],
          "name": "stdout"
        }
      ]
    },
    {
      "cell_type": "code",
      "metadata": {
        "colab": {
          "base_uri": "https://localhost:8080/"
        },
        "id": "v4uK5NmPa0wB",
        "outputId": "68e9b3c2-cc15-403b-e971-1c3d7810e003"
      },
      "source": [
        "# Calculamos el producto matricial y el producto punto de 2 vectores (linealmente independientes)\n",
        "print('Producto matricial:',v1@v2)\n",
        "print('Producto escalar:', np.dot(v1,v2.T))"
      ],
      "execution_count": null,
      "outputs": [
        {
          "output_type": "stream",
          "text": [
            "Producto matricial: -1.0\n",
            "Producto escalar: -1.0\n"
          ],
          "name": "stdout"
        }
      ]
    },
    {
      "cell_type": "markdown",
      "metadata": {
        "id": "9zg2ugFybgpP"
      },
      "source": [
        "Aplicaciones de sistemas de ecuaciones lineales."
      ]
    },
    {
      "cell_type": "code",
      "metadata": {
        "colab": {
          "base_uri": "https://localhost:8080/"
        },
        "id": "oXNlAD3gbiqy",
        "outputId": "a2b00ed7-4aaa-43af-c291-86881c344f19"
      },
      "source": [
        "# Matriz de Vandermonde X para una parábola que pasa por x=0,3,8\n",
        "x = np.array([0,3,8])\n",
        "X = np.column_stack([[1,1,1],x,x**2])\n",
        "print(X)"
      ],
      "execution_count": null,
      "outputs": [
        {
          "output_type": "stream",
          "text": [
            "[[ 1  0  0]\n",
            " [ 1  3  9]\n",
            " [ 1  8 64]]\n"
          ],
          "name": "stdout"
        }
      ]
    },
    {
      "cell_type": "code",
      "metadata": {
        "colab": {
          "base_uri": "https://localhost:8080/"
        },
        "id": "A7KWDk78iLec",
        "outputId": "2005ee89-f77f-4214-dab9-9049558273d9"
      },
      "source": [
        "# El vector y que pasa por y=6,1,2\n",
        "y = np.array([6,1,2]).reshape(3,1)\n",
        "print(y)"
      ],
      "execution_count": null,
      "outputs": [
        {
          "output_type": "stream",
          "text": [
            "[[6]\n",
            " [1]\n",
            " [2]]\n"
          ],
          "name": "stdout"
        }
      ]
    },
    {
      "cell_type": "code",
      "metadata": {
        "colab": {
          "base_uri": "https://localhost:8080/"
        },
        "id": "QNjrUqFDi3YQ",
        "outputId": "701f1b01-049b-4b68-cb4a-ff2d5663d994"
      },
      "source": [
        "# Resolvemos la ecuación Xa = y, para los coeficientes desconocidos a\n",
        "# Usamos la función scipy.linalg.solve()\n",
        "a = la.solve(X,y)\n",
        "print(a)"
      ],
      "execution_count": null,
      "outputs": [
        {
          "output_type": "stream",
          "text": [
            "[[ 6.        ]\n",
            " [-2.36666667]\n",
            " [ 0.23333333]]\n"
          ],
          "name": "stdout"
        }
      ]
    },
    {
      "cell_type": "code",
      "metadata": {
        "colab": {
          "base_uri": "https://localhost:8080/",
          "height": 295
        },
        "id": "w4N04aNYi8RR",
        "outputId": "a67533e8-0ecc-401e-ed3f-1a012e41af0d"
      },
      "source": [
        "# Graficamos los resultados del polinomio interpolante de coeficientes a[0], a[1], y a[2]\n",
        "# Sobreponemos en la gráfica los puntos conocidos en azul con puntos ('b.')\n",
        "xs = np.linspace(0,8,20)\n",
        "ys = a[0] + a[1]*xs + a[2]*xs**2\n",
        "plt.plot(xs,ys,x,y,'b.',ms=20)\n",
        "plt.grid()\n",
        "plt.title('Polinomio interpolante p(x)')\n",
        "plt.xlabel('x')\n",
        "plt.ylabel('y')\n",
        "plt.show()"
      ],
      "execution_count": null,
      "outputs": [
        {
          "output_type": "display_data",
          "data": {
            "image/png": "[encoded data removed]",
            "text/plain": [
              "<Figure size 432x288 with 1 Axes>"
            ]
          },
          "metadata": {
            "tags": [],
            "needs_background": "light"
          }
        }
      ]
    },
    {
      "cell_type": "markdown",
      "metadata": {
        "id": "s58vmKeoi_5X"
      },
      "source": [
        "Interpolación:"
      ]
    },
    {
      "cell_type": "code",
      "metadata": {
        "colab": {
          "base_uri": "https://localhost:8080/",
          "height": 295
        },
        "id": "yUT4zf07jBMJ",
        "outputId": "43ac8b94-508d-4891-f480-a764d01f5fc8"
      },
      "source": [
        "# Generamos los 10 puntos aleatorios entre 0 y 10.\n",
        "# graficamos los puntos aleatorios en rojo con puntos ('r.')\n",
        "N = 10\n",
        "x = np.arange(0,N)\n",
        "y = np.random.randint(0,10,N)\n",
        "plt.plot(x,y,'r.')\n",
        "plt.grid()\n",
        "plt.title('Puntos aleatorios que deseamos interpolar')\n",
        "plt.xlabel('x')\n",
        "plt.ylabel('y')\n",
        "plt.show()"
      ],
      "execution_count": null,
      "outputs": [
        {
          "output_type": "display_data",
          "data": {
            "image/png": "[encoded data removed]",
            "text/plain": [
              "<Figure size 432x288 with 1 Axes>"
            ]
          },
          "metadata": {
            "tags": [],
            "needs_background": "light"
          }
        }
      ]
    },
    {
      "cell_type": "code",
      "metadata": {
        "colab": {
          "base_uri": "https://localhost:8080/"
        },
        "id": "bj1JTUn_kmDK",
        "outputId": "d8e0b612-488f-49c5-a153-90af68370a4a"
      },
      "source": [
        "# Creamos la matriz de Vandemonde, e imprimimos los primeros 5 renglones y columnas\n",
        "X = np.column_stack([x**k for k in range(0,N)])\n",
        "print(X[:5,:5])"
      ],
      "execution_count": null,
      "outputs": [
        {
          "output_type": "stream",
          "text": [
            "[[  1   0   0   0   0]\n",
            " [  1   1   1   1   1]\n",
            " [  1   2   4   8  16]\n",
            " [  1   3   9  27  81]\n",
            " [  1   4  16  64 256]]\n"
          ],
          "name": "stdout"
        }
      ]
    },
    {
      "cell_type": "code",
      "metadata": {
        "colab": {
          "base_uri": "https://localhost:8080/"
        },
        "id": "9UwLXALvkqZF",
        "outputId": "ff9619f5-8906-4a72-f9af-39598fdc4376"
      },
      "source": [
        "# La biblioteca Numpy tambien tiene una función para crear la matriz de Vandermonde\n",
        "X = np.vander(x,increasing=True)\n",
        "# Sólo imprimimos los primeros 5 renglones y columnas.\n",
        "print(X[:5,:5])"
      ],
      "execution_count": null,
      "outputs": [
        {
          "output_type": "stream",
          "text": [
            "[[  1   0   0   0   0]\n",
            " [  1   1   1   1   1]\n",
            " [  1   2   4   8  16]\n",
            " [  1   3   9  27  81]\n",
            " [  1   4  16  64 256]]\n"
          ],
          "name": "stdout"
        }
      ]
    },
    {
      "cell_type": "code",
      "metadata": {
        "colab": {
          "base_uri": "https://localhost:8080/"
        },
        "id": "sbquiL2nkxP0",
        "outputId": "e13a92f6-8454-4147-bc4a-10122e249753"
      },
      "source": [
        "# Usamos la función de scipy.linalg.solve(), para encontrar los 10 coeficientes\n",
        "# de la ecuación lineal Xa=y\n",
        "a = la.solve(X,y)\n",
        "print(a)"
      ],
      "execution_count": null,
      "outputs": [
        {
          "output_type": "stream",
          "text": [
            "[ 9.00000000e+00 -2.35838492e+02  5.51996925e+02 -5.21008686e+02\n",
            "  2.59215451e+02 -7.52712384e+01  1.32086806e+01 -1.37967923e+00\n",
            "  7.89434524e-02 -1.90421076e-03]\n"
          ],
          "name": "stdout"
        }
      ]
    },
    {
      "cell_type": "code",
      "metadata": {
        "colab": {
          "base_uri": "https://localhost:8080/",
          "height": 295
        },
        "id": "WfQ-QFXpk7KG",
        "outputId": "2e266f67-a44b-4ccc-a152-8c1818adea9a"
      },
      "source": [
        "# Graficamos el polinomio interpolante y los puntos interpolados\n",
        "# Los puntos interpolados en rojo ('r.')\n",
        "xs = np.linspace(0,N-1,200)\n",
        "ys = sum([a[k]*xs**k for k in range(0,N)])\n",
        "plt.plot(x,y,'r.',xs,ys)\n",
        "plt.grid()\n",
        "plt.title('Polinomio interpolante p(x)')\n",
        "plt.xlabel('x')\n",
        "plt.ylabel('y')\n",
        "plt.show()"
      ],
      "execution_count": null,
      "outputs": [
        {
          "output_type": "display_data",
          "data": {
            "image/png": "[encoded data removed]",
            "text/plain": [
              "<Figure size 432x288 with 1 Axes>"
            ]
          },
          "metadata": {
            "tags": [],
            "needs_background": "light"
          }
        }
      ]
    },
    {
      "cell_type": "markdown",
      "metadata": {
        "id": "wgVdHXAklGva"
      },
      "source": [
        "Regresión Lineal de Mínimos Cuadrados"
      ]
    },
    {
      "cell_type": "code",
      "metadata": {
        "colab": {
          "base_uri": "https://localhost:8080/",
          "height": 295
        },
        "id": "0IVin0uGlXD6",
        "outputId": "96590cf5-7450-4a4e-8b82-961844c35ca1"
      },
      "source": [
        "# Datos aleatorios que yacen alrededor de una recta\n",
        "# Coeficientes de la recta\n",
        "a0 = 2\n",
        "a1 = 3\n",
        "# Número de puntos entre (0,1)\n",
        "N = 100\n",
        "x = np.random.rand(100)\n",
        "# Ruido gaussiano\n",
        "noise = 0.2*np.random.randn(100)\n",
        "# Agregamos el ruido a la recta\n",
        "y = a0 + a1*x + noise\n",
        "\n",
        "plt.scatter(x,y);\n",
        "plt.grid()\n",
        "plt.title('Datos aleatorios')\n",
        "plt.xlabel('x')\n",
        "plt.ylabel('y')\n",
        "plt.show()"
      ],
      "execution_count": null,
      "outputs": [
        {
          "output_type": "display_data",
          "data": {
            "image/png": "[encoded data removed]",
            "text/plain": [
              "<Figure size 432x288 with 1 Axes>"
            ]
          },
          "metadata": {
            "tags": [],
            "needs_background": "light"
          }
        }
      ]
    },
    {
      "cell_type": "code",
      "metadata": {
        "colab": {
          "base_uri": "https://localhost:8080/"
        },
        "id": "TJPtZn2ylhRp",
        "outputId": "29f3de7d-d62c-4834-fd30-0b736d17c5c5"
      },
      "source": [
        "# Creamos la matriz X, con 1's en la primera columna y los puntos x_k en la segunda.\n",
        "X = np.column_stack([np.ones(N),x])\n",
        "print('Shape:', X.shape)\n",
        "# Imprimimos los primeros 5 renglones para verificar\n",
        "print(X[:5,:])"
      ],
      "execution_count": null,
      "outputs": [
        {
          "output_type": "stream",
          "text": [
            "Shape: (100, 2)\n",
            "[[1.         0.32293701]\n",
            " [1.         0.29777597]\n",
            " [1.         0.21593213]\n",
            " [1.         0.61746789]\n",
            " [1.         0.76128561]]\n"
          ],
          "name": "stdout"
        }
      ]
    },
    {
      "cell_type": "code",
      "metadata": {
        "colab": {
          "base_uri": "https://localhost:8080/"
        },
        "id": "upBQUPxDlpcZ",
        "outputId": "7451d7d7-8f32-4ac3-96d8-b57e92ab539b"
      },
      "source": [
        "# Usamos la función scipy.linalg.solve() para resolver la ecuación X.T@X@a = X.T@y respecto a 'a'\n",
        "a = la.solve(X.T @ X, X.T @ y)\n",
        "print(a)"
      ],
      "execution_count": null,
      "outputs": [
        {
          "output_type": "stream",
          "text": [
            "[2.00632568 2.94485969]\n"
          ],
          "name": "stdout"
        }
      ]
    },
    {
      "cell_type": "code",
      "metadata": {
        "colab": {
          "base_uri": "https://localhost:8080/",
          "height": 295
        },
        "id": "cLCQvwqol1Nc",
        "outputId": "b90d88c9-81e6-4a79-bc4d-43d40ffbc134"
      },
      "source": [
        "# Graficamos el ajuste con esos 2 coeficientes de la regresión y = a_0 + a_1 x \n",
        "xs = np.linspace(0,1,10)\n",
        "ys = a[0] + a[1]*xs\n",
        "plt.plot(xs,ys,'r',linewidth=4)\n",
        "plt.scatter(x,y);\n",
        "plt.grid()\n",
        "plt.title('Ajuste mediante Regresión Lineal de los datos')\n",
        "plt.xlabel('x')\n",
        "plt.ylabel('y')\n",
        "plt.show()"
      ],
      "execution_count": null,
      "outputs": [
        {
          "output_type": "display_data",
          "data": {
            "image/png": "[encoded data removed]",
            "text/plain": [
              "<Figure size 432x288 with 1 Axes>"
            ]
          },
          "metadata": {
            "tags": [],
            "needs_background": "light"
          }
        }
      ]
    },
    {
      "cell_type": "markdown",
      "metadata": {
        "id": "ajcmsNVul6FI"
      },
      "source": [
        "Ajuste con un polinomio cuadrático."
      ]
    },
    {
      "cell_type": "code",
      "metadata": {
        "colab": {
          "base_uri": "https://localhost:8080/",
          "height": 295
        },
        "id": "s-VbClygl7de",
        "outputId": "8ce083fa-c67b-4d4c-d167-0c96d8232074"
      },
      "source": [
        "# Los coeficientes para gererar los datos\n",
        "a0 = 3\n",
        "a1 = 5\n",
        "a2 = 8\n",
        "# Generaremos 1000 datos aleatorios entre (0,1)\n",
        "N = 1000\n",
        "x = 2*np.random.rand(N) - 1 # Distribuimos los datos entre (-1,1)\n",
        "# Ruido gaussiano\n",
        "noise = np.random.randn(N)\n",
        "# Una parábola con ruido\n",
        "y = a0 + a1*x + a2*x**2 + noise\n",
        "plt.scatter(x,y,alpha=0.5,lw=0);\n",
        "plt.grid()\n",
        "plt.title('Colección de datos aleatorios')\n",
        "plt.xlabel('x')\n",
        "plt.ylabel('y')\n",
        "plt.show()"
      ],
      "execution_count": null,
      "outputs": [
        {
          "output_type": "display_data",
          "data": {
            "image/png": "[encoded data removed]",
            "text/plain": [
              "<Figure size 432x288 with 1 Axes>"
            ]
          },
          "metadata": {
            "tags": [],
            "needs_background": "light"
          }
        }
      ]
    },
    {
      "cell_type": "code",
      "metadata": {
        "colab": {
          "base_uri": "https://localhost:8080/"
        },
        "id": "rPS2-D99mCY6",
        "outputId": "1c07878c-4ed6-4d92-afdc-bf75154865b5"
      },
      "source": [
        "# Construimos la matriz de Vandermonde\n",
        "X = np.column_stack([np.ones(N),x,x**2])\n",
        "print('Shape:', X.shape)\n",
        "# Imprimimos los primeros 5 renglones para verificar\n",
        "print(X[:5,:])"
      ],
      "execution_count": null,
      "outputs": [
        {
          "output_type": "stream",
          "text": [
            "Shape: (1000, 3)\n",
            "[[ 1.          0.25277308  0.06389423]\n",
            " [ 1.          0.99907602  0.9981529 ]\n",
            " [ 1.         -0.97731062  0.95513604]\n",
            " [ 1.         -0.49559903  0.2456184 ]\n",
            " [ 1.          0.87693446  0.76901404]]\n"
          ],
          "name": "stdout"
        }
      ]
    },
    {
      "cell_type": "code",
      "metadata": {
        "colab": {
          "base_uri": "https://localhost:8080/"
        },
        "id": "JWe22mEwmJBq",
        "outputId": "77f84d1b-85d0-43c1-d3d6-76036ac139dd"
      },
      "source": [
        "# Usamos la función scipy.linalg.solve() para resolver la ecuación X.T@X@a = X.T@y respecto a 'a'\n",
        "a = la.solve(X.T @ X, X.T @ y)\n",
        "print(a)"
      ],
      "execution_count": null,
      "outputs": [
        {
          "output_type": "stream",
          "text": [
            "[2.94496946 5.03119749 8.03658046]\n"
          ],
          "name": "stdout"
        }
      ]
    },
    {
      "cell_type": "code",
      "metadata": {
        "colab": {
          "base_uri": "https://localhost:8080/",
          "height": 295
        },
        "id": "KVj5b2A7mO1v",
        "outputId": "8ea8c4aa-f4df-45a4-f7fa-ec2c1ff9096a"
      },
      "source": [
        "# Graficamos el resultado del ajuste\n",
        "xs = np.linspace(-1,1,20)\n",
        "ys = a[0] + a[1]*xs + a[2]*xs**2\n",
        "plt.plot(xs,ys,'r',linewidth=4)\n",
        "plt.scatter(x,y,alpha=0.5,lw=0)\n",
        "plt.grid()\n",
        "plt.title('Ajuste mediante Regresión Cuadrática a los datos')\n",
        "plt.xlabel('x')\n",
        "plt.ylabel('y')\n",
        "plt.show()"
      ],
      "execution_count": null,
      "outputs": [
        {
          "output_type": "display_data",
          "data": {
            "image/png": "[encoded data removed]",
            "text/plain": [
              "<Figure size 432x288 with 1 Axes>"
            ]
          },
          "metadata": {
            "tags": [],
            "needs_background": "light"
          }
        }
      ]
    },
    {
      "cell_type": "markdown",
      "metadata": {
        "id": "dHFSLMwqh-jy"
      },
      "source": [
        "Ejercicio 5:"
      ]
    },
    {
      "cell_type": "code",
      "metadata": {
        "colab": {
          "base_uri": "https://localhost:8080/"
        },
        "id": "ygsfffS4iAad",
        "outputId": "5c12677e-d57b-4732-f335-5e8d724a3811"
      },
      "source": [
        "# Matriz de Vandermonde X para una parábola que pasa por x=0.0,0.5,1.0,1.5,2.0,2.5,3.0,3.5\n",
        "x = np.array([0.0,0.5,1.0,1.5,2.0,2.5,3.0,3.5])\n",
        "X = np.column_stack([[1,1,1,1,1,1,1,1],x,x**2,x**3,x**4,x**5,x**6,x**7])\n",
        "print(X)"
      ],
      "execution_count": null,
      "outputs": [
        {
          "output_type": "stream",
          "text": [
            "[[1.00000000e+00 0.00000000e+00 0.00000000e+00 0.00000000e+00\n",
            "  0.00000000e+00 0.00000000e+00 0.00000000e+00 0.00000000e+00]\n",
            " [1.00000000e+00 5.00000000e-01 2.50000000e-01 1.25000000e-01\n",
            "  6.25000000e-02 3.12500000e-02 1.56250000e-02 7.81250000e-03]\n",
            " [1.00000000e+00 1.00000000e+00 1.00000000e+00 1.00000000e+00\n",
            "  1.00000000e+00 1.00000000e+00 1.00000000e+00 1.00000000e+00]\n",
            " [1.00000000e+00 1.50000000e+00 2.25000000e+00 3.37500000e+00\n",
            "  5.06250000e+00 7.59375000e+00 1.13906250e+01 1.70859375e+01]\n",
            " [1.00000000e+00 2.00000000e+00 4.00000000e+00 8.00000000e+00\n",
            "  1.60000000e+01 3.20000000e+01 6.40000000e+01 1.28000000e+02]\n",
            " [1.00000000e+00 2.50000000e+00 6.25000000e+00 1.56250000e+01\n",
            "  3.90625000e+01 9.76562500e+01 2.44140625e+02 6.10351562e+02]\n",
            " [1.00000000e+00 3.00000000e+00 9.00000000e+00 2.70000000e+01\n",
            "  8.10000000e+01 2.43000000e+02 7.29000000e+02 2.18700000e+03]\n",
            " [1.00000000e+00 3.50000000e+00 1.22500000e+01 4.28750000e+01\n",
            "  1.50062500e+02 5.25218750e+02 1.83826562e+03 6.43392969e+03]]\n"
          ],
          "name": "stdout"
        }
      ]
    },
    {
      "cell_type": "code",
      "metadata": {
        "colab": {
          "base_uri": "https://localhost:8080/"
        },
        "id": "0HOS6Sbmj6i4",
        "outputId": "82d78641-5033-4c7a-d6b1-9c0f3d8a7ea3"
      },
      "source": [
        "# El vector y que pasa por y=0.0,0.47942,0.84147,0.99749,0.909930,0.59847,0.14112,-0.35078\n",
        "y = np.array([0.0,0.47942,0.84147,0.99749,0.909930,0.59847,0.14112,-0.35078]).reshape(8,1)\n",
        "print(y)"
      ],
      "execution_count": null,
      "outputs": [
        {
          "output_type": "stream",
          "text": [
            "[[ 0.     ]\n",
            " [ 0.47942]\n",
            " [ 0.84147]\n",
            " [ 0.99749]\n",
            " [ 0.90993]\n",
            " [ 0.59847]\n",
            " [ 0.14112]\n",
            " [-0.35078]]\n"
          ],
          "name": "stdout"
        }
      ]
    },
    {
      "cell_type": "code",
      "metadata": {
        "colab": {
          "base_uri": "https://localhost:8080/"
        },
        "id": "YAcAfAykuzBh",
        "outputId": "c0e6c4c0-70c2-47a3-9bb7-3120e1a7b482"
      },
      "source": [
        "solve = la.solve(X,y)\n",
        "print(solve)"
      ],
      "execution_count": null,
      "outputs": [
        {
          "output_type": "stream",
          "text": [
            "[   4.          -69.4047619   235.11111111 -306.78888889  193.11111111\n",
            "  -62.22222222    9.77777778   -0.58412698]\n"
          ],
          "name": "stdout"
        }
      ]
    },
    {
      "cell_type": "code",
      "metadata": {
        "colab": {
          "base_uri": "https://localhost:8080/",
          "height": 295
        },
        "id": "_qjmaUnVCvIT",
        "outputId": "7801b9c4-d57d-45e6-9d29-ef7d50978bd8"
      },
      "source": [
        "xs = np.linspace(0,4,200)\n",
        "ys = sum([a[k]*xs**k for k in range(0,N)])\n",
        "fsin = np.sin(2*x)\n",
        "plt.plot(xs,ys,fsin)\n",
        "plt.grid()\n",
        "plt.title('Polinomio interpolante p(x)')\n",
        "plt.xlabel('x')\n",
        "plt.ylabel('y')\n",
        "plt.show()"
      ],
      "execution_count": null,
      "outputs": [
        {
          "output_type": "display_data",
          "data": {
            "image/png": "[encoded data removed]",
            "text/plain": [
              "<Figure size 432x288 with 1 Axes>"
            ]
          },
          "metadata": {
            "tags": [],
            "needs_background": "light"
          }
        }
      ]
    },
    {
      "cell_type": "code",
      "metadata": {
        "colab": {
          "base_uri": "https://localhost:8080/",
          "height": 295
        },
        "id": "KsZZUvbGmiri",
        "outputId": "9177385e-5be9-4377-b95b-b1afeeeb2673"
      },
      "source": [
        "# Graficamos los resultados del polinomio interpolante de coeficientes a[0], a[1], y a[2]\n",
        "# Sobreponemos en la gráfica los puntos conocidos en azul con puntos ('b.')\n",
        "xs = np.linspace(0,8,20)\n",
        "ys = a[0] + a[1]*xs + a[2]*xs**2\n",
        "plt.plot(xs,ys,x,y,'b.',ms=20)\n",
        "plt.grid()\n",
        "plt.title('Polinomio interpolante p(x)')\n",
        "plt.xlabel('x')\n",
        "plt.ylabel('y')\n",
        "plt.show()"
      ],
      "execution_count": null,
      "outputs": [
        {
          "output_type": "display_data",
          "data": {
            "image/png": "[encoded data removed]",
            "text/plain": [
              "<Figure size 432x288 with 1 Axes>"
            ]
          },
          "metadata": {
            "tags": [],
            "needs_background": "light"
          }
        }
      ]
    }
  ]
}